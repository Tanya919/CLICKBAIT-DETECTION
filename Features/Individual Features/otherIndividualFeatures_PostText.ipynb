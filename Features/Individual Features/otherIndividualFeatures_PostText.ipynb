{
  "nbformat": 4,
  "nbformat_minor": 0,
  "metadata": {
    "colab": {
      "provenance": []
    },
    "kernelspec": {
      "name": "python3",
      "display_name": "Python 3"
    },
    "language_info": {
      "name": "python"
    }
  },
  "cells": [
    {
      "cell_type": "code",
      "execution_count": null,
      "metadata": {
        "colab": {
          "base_uri": "https://localhost:8080/"
        },
        "id": "kEg3rw99PiHX",
        "outputId": "6d8c7ba0-50de-4568-a634-baf1bdc464b5"
      },
      "outputs": [
        {
          "output_type": "stream",
          "name": "stdout",
          "text": [
            "Mounted at /content/drive\n"
          ]
        }
      ],
      "source": [
        "from google.colab import drive\n",
        "drive.mount('/content/drive')"
      ]
    },
    {
      "cell_type": "code",
      "source": [
        "import re\n",
        "import nltk\n",
        "import pandas as pd \n",
        "import numpy as np\n",
        "from statistics import variance\n",
        "from nltk.tag import pos_tag\n",
        "from nltk.tokenize import word_tokenize\n",
        "from collections import Counter\n",
        "from nltk.corpus import stopwords\n",
        "from sklearn.feature_extraction.text import CountVectorizer"
      ],
      "metadata": {
        "id": "jx21-oZyQZ_d"
      },
      "execution_count": null,
      "outputs": []
    },
    {
      "cell_type": "code",
      "source": [
        "nltk.download('stopwords')"
      ],
      "metadata": {
        "colab": {
          "base_uri": "https://localhost:8080/"
        },
        "id": "o2srLoA7QfNV",
        "outputId": "e318483b-2b4c-4f7b-d361-f4d37a44067e"
      },
      "execution_count": null,
      "outputs": [
        {
          "output_type": "stream",
          "name": "stderr",
          "text": [
            "[nltk_data] Downloading package stopwords to /root/nltk_data...\n",
            "[nltk_data]   Unzipping corpora/stopwords.zip.\n"
          ]
        },
        {
          "output_type": "execute_result",
          "data": {
            "text/plain": [
              "True"
            ]
          },
          "metadata": {},
          "execution_count": 4
        }
      ]
    },
    {
      "cell_type": "code",
      "source": [
        "nltk.download('punkt')"
      ],
      "metadata": {
        "colab": {
          "base_uri": "https://localhost:8080/"
        },
        "id": "kizoawf1QfR1",
        "outputId": "3bcbd89a-25d4-400d-91ac-268b54916da3"
      },
      "execution_count": null,
      "outputs": [
        {
          "output_type": "stream",
          "name": "stderr",
          "text": [
            "[nltk_data] Downloading package punkt to /root/nltk_data...\n",
            "[nltk_data]   Unzipping tokenizers/punkt.zip.\n"
          ]
        },
        {
          "output_type": "execute_result",
          "data": {
            "text/plain": [
              "True"
            ]
          },
          "metadata": {},
          "execution_count": 5
        }
      ]
    },
    {
      "cell_type": "code",
      "source": [
        "nltk.download('averaged_perceptron_tagger')"
      ],
      "metadata": {
        "colab": {
          "base_uri": "https://localhost:8080/"
        },
        "id": "2aE9ZIYEQfXf",
        "outputId": "8a0fe61f-7399-457e-fc07-b55afb526227"
      },
      "execution_count": null,
      "outputs": [
        {
          "output_type": "stream",
          "name": "stderr",
          "text": [
            "[nltk_data] Downloading package averaged_perceptron_tagger to\n",
            "[nltk_data]     /root/nltk_data...\n",
            "[nltk_data]   Unzipping taggers/averaged_perceptron_tagger.zip.\n"
          ]
        },
        {
          "output_type": "execute_result",
          "data": {
            "text/plain": [
              "True"
            ]
          },
          "metadata": {},
          "execution_count": 6
        }
      ]
    },
    {
      "cell_type": "code",
      "source": [
        "def noNNP(postText):\n",
        "  nnpCount = []\n",
        "  for row in range(len(postText)):\n",
        "    if type(postText[row])==float or len(postText[row]) == 0:\n",
        "      nnpCount.append(0)\n",
        "      continue\n",
        "    count = 0\n",
        "    for word,pos in nltk.pos_tag(nltk.word_tokenize(postText[row])):\n",
        "          if (pos == 'NNP'):\n",
        "            count += 1\n",
        "    nnpCount.append(count)\n",
        "  return nnpCount"
      ],
      "metadata": {
        "id": "FLODQg7HQfam"
      },
      "execution_count": null,
      "outputs": []
    },
    {
      "cell_type": "code",
      "source": [
        "def noTokens(paragraphs):\n",
        "  tokenCount = []\n",
        "  for row in range(len(paragraphs)):\n",
        "    if type(paragraphs[row])==float or len(paragraphs[row]) == 0:\n",
        "      tokenCount.append(0)\n",
        "      continue\n",
        "    tokens = nltk.word_tokenize(paragraphs[row])\n",
        "    tokenCount.append(len(tokens))\n",
        "    #print(tokens)\n",
        "  #print(tokenCount)\n",
        "  return tokenCount"
      ],
      "metadata": {
        "id": "ZxdhyDzLQfdx"
      },
      "execution_count": null,
      "outputs": []
    },
    {
      "cell_type": "code",
      "source": [
        "def wordLen(paragraphs):\n",
        "  wordlen = []\n",
        "  for item in paragraphs:\n",
        "    if(type(item) == float or len(item) == 0):\n",
        "      wordlen.append(0)\n",
        "      continue\n",
        "    token = item.split()\n",
        "    wordlength = sum(len(word) for word in token)\n",
        "    #print(token)\n",
        "    #print(wordlength)\n",
        "    wordlen.append(len(wordlength))\n",
        "  return wordlen"
      ],
      "metadata": {
        "id": "-oYkPyrXQfhX"
      },
      "execution_count": null,
      "outputs": []
    },
    {
      "cell_type": "code",
      "source": [
        "def NNP_NNP(phrase):\n",
        "  cnt = 0\n",
        "  for item in phrase:\n",
        "    tagged = nltk.pos_tag(item)\n",
        "    if tagged[0][1] == 'NNP' and tagged[1][1] == 'NNP':\n",
        "      cnt += 1\n",
        "      #print(tagged)\n",
        "  return cnt\n",
        "\n",
        "#feature 5 - POS 2 GRAM NNP\n",
        "def NNP_NNPCount(paragraphs):\n",
        "  f = []\n",
        "  for item in paragraphs:\n",
        "    if(type(item)== float or len(item) == 0):\n",
        "      f.append(0)\n",
        "      continue\n",
        "    if(len(item.split())>1): \n",
        "      Tokens = nltk.word_tokenize(item)\n",
        "      output = list(nltk.bigrams(Tokens))\n",
        "      #print(output)\n",
        "      cnt = NNP_NNP(output)\n",
        "      f.append(cnt)\n",
        "    else:\n",
        "      f.append(0)\n",
        "  return f"
      ],
      "metadata": {
        "id": "yq2l4sD1QfkD"
      },
      "execution_count": null,
      "outputs": []
    },
    {
      "cell_type": "code",
      "source": [
        "def startsWithNumber(paragraphs):\n",
        "  startNo = []\n",
        "  for row in range(len(paragraphs)):\n",
        "    #print(row)\n",
        "    if type(paragraphs[row]) == float or len(paragraphs[row]) == 0:\n",
        "      startNo.append(0)\n",
        "      continue\n",
        "    if(paragraphs[row][0].isdigit()):\n",
        "      startNo.append(1)\n",
        "    else:\n",
        "      startNo.append(0)\n",
        "  return startNo"
      ],
      "metadata": {
        "id": "tTMjSFFmQfnu"
      },
      "execution_count": null,
      "outputs": []
    },
    {
      "cell_type": "code",
      "source": [
        "def averageLen(paragraphs):\n",
        "  averageLenWords = []\n",
        "  for item in paragraphs:\n",
        "    if(type(item)== float or len(item) == 0):\n",
        "      averageLenWords.append(0)\n",
        "      continue\n",
        "    words = item.split()\n",
        "    average = round(sum(len(word) for word in words) / len(words),2)\n",
        "    averageLenWords.append(average)\n",
        "  return averageLenWords"
      ],
      "metadata": {
        "id": "sHBmlZ1MQfrj"
      },
      "execution_count": null,
      "outputs": []
    },
    {
      "cell_type": "code",
      "source": [
        "def INCount(paragraphs):\n",
        "  INCount = []\n",
        "  for row in range(len(paragraphs)):\n",
        "    count = 0\n",
        "    if(type(paragraphs[row]) == float or len(paragraphs[row]) == 0):\n",
        "      INCount.append(0)\n",
        "      continue \n",
        "    for word,pos in nltk.pos_tag(nltk.word_tokenize(paragraphs[row])):\n",
        "          if (pos == 'IN'):\n",
        "            count += 1\n",
        "    INCount.append(count)\n",
        "  return INCount"
      ],
      "metadata": {
        "id": "lb84zti6Qfwa"
      },
      "execution_count": null,
      "outputs": []
    },
    {
      "cell_type": "code",
      "source": [
        "def NNP_VBZ(s):\n",
        "  cnt = 0\n",
        "  for item in s:\n",
        "    tagged = nltk.pos_tag(item)\n",
        "    if tagged[0][1] == 'NNP' and tagged[1][1] == 'VBZ':\n",
        "      #print(tagged)\n",
        "      cnt+=1\n",
        "  return cnt\n",
        "\n",
        "def NNP_VBZCount(paragraphs):\n",
        "  f7 = []\n",
        "  for item in paragraphs:\n",
        "    if(type(item) == float or len(item) == 0):\n",
        "      f7.append(0)\n",
        "      continue\n",
        "    if(len(item.split())>1): \n",
        "      Tokens = nltk.word_tokenize(item)\n",
        "      output = list(nltk.bigrams(Tokens))\n",
        "      cnt = NNP_VBZ(output)\n",
        "      f7.append(cnt)\n",
        "    else:\n",
        "      f7.append(0)\n",
        "  return f7"
      ],
      "metadata": {
        "id": "SUR4jl5cQfy5"
      },
      "execution_count": null,
      "outputs": []
    },
    {
      "cell_type": "code",
      "source": [
        "def IN_NNP(s):\n",
        "  cnt = 0\n",
        "  for item in s:\n",
        "    tagged = nltk.pos_tag(item)\n",
        "    if tagged[0][1] == 'IN' and tagged[1][1] == 'NNP':\n",
        "      #print(tagged)\n",
        "      cnt+=1\n",
        "  return cnt\n",
        "\n",
        "def IN_NNPCount(paragraphs):\n",
        "  f7 = []\n",
        "  for item in paragraphs:\n",
        "    if(type(item) == float or len(item) == 0):\n",
        "      f7.append(0)\n",
        "      continue\n",
        "    if(len(item.split())>1): \n",
        "      Tokens = nltk.word_tokenize(item)\n",
        "      output = list(nltk.bigrams(Tokens))\n",
        "      cnt = IN_NNP(output)\n",
        "      f7.append(cnt)\n",
        "    else:\n",
        "      f7.append(0)\n",
        "  return f7"
      ],
      "metadata": {
        "id": "PTlxihUTUVgE"
      },
      "execution_count": null,
      "outputs": []
    },
    {
      "cell_type": "code",
      "source": [
        "def lenLongestWord(paragraphs):\n",
        "  longestWord = []\n",
        "  for item in paragraphs:\n",
        "    if(type(item) == float or len(item) == 0):\n",
        "      longestWord.append(0)\n",
        "      continue\n",
        "    word_list = item.split()\n",
        "    # Find the longest word\n",
        "    #print(word_list)\n",
        "    longest_word = max(word_list, key = len)\n",
        "    #print(longest_word)\n",
        "    longestWord.append(len(longest_word))\n",
        "  return longestWord"
      ],
      "metadata": {
        "id": "FCadviSHUhPj"
      },
      "execution_count": null,
      "outputs": []
    },
    {
      "cell_type": "code",
      "source": [
        "def WRBCount(paragraphs):\n",
        "  WRBCount = []\n",
        "  for row in range(len(paragraphs)):\n",
        "    count = 0\n",
        "    if(type(paragraphs[row]) == float or len(paragraphs[row]) == 0):\n",
        "      WRBCount.append(0)\n",
        "      continue\n",
        "    for word,pos in nltk.pos_tag(nltk.word_tokenize(paragraphs[row])):\n",
        "          if (pos == 'WRB'):\n",
        "            count += 1\n",
        "            #print(word)\n",
        "    WRBCount.append(count)\n",
        "  return WRBCount"
      ],
      "metadata": {
        "id": "Mrs67QChUhUm"
      },
      "execution_count": null,
      "outputs": []
    },
    {
      "cell_type": "code",
      "source": [
        "def WRB_POS(s):\n",
        "  cnt = 0\n",
        "  for item in s:\n",
        "    tagged = nltk.pos_tag(item)\n",
        "    if tagged[0][1] == 'WRB' and tagged[1][1] == 'POS':\n",
        "      #print(tagged)\n",
        "      cnt+=1\n",
        "  return cnt\n",
        "\n",
        "\n",
        "def WRB_POSCount(paragraphs):\n",
        "  f7 = []\n",
        "  for item in paragraphs:\n",
        "    if(type(item) == float or len(item) == 0):\n",
        "      f7.append(0)\n",
        "      continue\n",
        "    if(len(item.split())>1): \n",
        "      Tokens = nltk.word_tokenize(item)\n",
        "      output = list(nltk.bigrams(Tokens))\n",
        "      cnt = WRB_POS(output)\n",
        "      f7.append(cnt)\n",
        "    else:\n",
        "      f7.append(0)\n",
        "  return f7"
      ],
      "metadata": {
        "id": "1eLokehRUhYW"
      },
      "execution_count": null,
      "outputs": []
    },
    {
      "cell_type": "code",
      "source": [
        "def NNCount(paragraphs):\n",
        "  NNCount = []\n",
        "  for row in range(len(paragraphs)):\n",
        "    count = 0\n",
        "    if(type(paragraphs[row]) == float or len(paragraphs[row]) == 0):\n",
        "      NNCount.append(0)\n",
        "      continue\n",
        "    for word,pos in nltk.pos_tag(nltk.word_tokenize(paragraphs[row])):\n",
        "          if (pos == 'NN'):\n",
        "            count += 1\n",
        "    NNCount.append(count)\n",
        "  return NNCount"
      ],
      "metadata": {
        "id": "FoiE8M_2UVkD"
      },
      "execution_count": null,
      "outputs": []
    },
    {
      "cell_type": "code",
      "source": [
        "def NN_POS(s):\n",
        "  cnt = 0\n",
        "  for item in s:\n",
        "    tagged = nltk.pos_tag(item)\n",
        "    if tagged[0][1] == 'NN' and tagged[1][1] == 'POS':\n",
        "      #print(tagged)\n",
        "      cnt+=1\n",
        "  return cnt\n",
        "\n",
        "def NN_POSCount(paragraphs):\n",
        "  f7 = []\n",
        "  for item in paragraphs:\n",
        "    if(type(item) == float or len(item) == 0):\n",
        "      f7.append(0)\n",
        "      continue\n",
        "    if(len(item.split())>1): \n",
        "      Tokens = nltk.word_tokenize(item)\n",
        "      output = list(nltk.bigrams(Tokens))\n",
        "      cnt = NN_POS(output)\n",
        "      f7.append(cnt)\n",
        "    else:\n",
        "      f7.append(0)\n",
        "  return f7"
      ],
      "metadata": {
        "id": "Ih7ChhtQUVnM"
      },
      "execution_count": null,
      "outputs": []
    },
    {
      "cell_type": "code",
      "source": [
        "def startsWith5WH(paragraphs):\n",
        "  f = []\n",
        "  for item in paragraphs:\n",
        "    #print(item)\n",
        "    if(type(item) == float or len(item) == 0):\n",
        "      f.append(0)\n",
        "      continue\n",
        "    if item.lower().startswith(\"what\") or item.lower().startswith(\"where\") or item.lower().startswith(\"when\") or item.lower().startswith(\"which\") or item.lower().startswith(\"how\"):\n",
        "      f.append(1)\n",
        "    else:\n",
        "      f.append(0)\n",
        "  return f"
      ],
      "metadata": {
        "id": "a6f1VRAtUVrD"
      },
      "execution_count": null,
      "outputs": []
    },
    {
      "cell_type": "code",
      "source": [
        "def questionMark(paragraphs):\n",
        "  questionMark = []\n",
        "  for item in paragraphs:\n",
        "    if(type(item) == float or len(item) == 0):\n",
        "      questionMark.append(0)\n",
        "      continue\n",
        "    token = nltk.word_tokenize(item)\n",
        "    #print(token)\n",
        "    try:\n",
        "      token.index(\"?\")\n",
        "      questionMark.append(1)\n",
        "    except ValueError:\n",
        "      questionMark.append(0)\n",
        "  return questionMark"
      ],
      "metadata": {
        "id": "QXVdmeB8UVtb"
      },
      "execution_count": null,
      "outputs": []
    },
    {
      "cell_type": "code",
      "source": [
        "def this_these_NN_POS(s):\n",
        "  cnt = 0\n",
        "  for item in s:\n",
        "    tagged = nltk.pos_tag(item)\n",
        "    if tagged[0][1] == 'NN' and (tagged[0][0].casefold() == \"this\".casefold() or tagged[0][0].casefold() == 'these'.casefold()) and tagged[1][1] == 'POS':\n",
        "      #print(tagged)\n",
        "      cnt+=1\n",
        "  return cnt\n",
        "\n",
        "def this_these_NN_POSCount(paragraphs):\n",
        "  f7 = []\n",
        "  for item in paragraphs:\n",
        "    if(type(item) == float or len(item) == 0):\n",
        "      f7.append(0)\n",
        "      continue\n",
        "    if(len(item.split())>1): \n",
        "      Tokens = nltk.word_tokenize(item)\n",
        "      output = list(nltk.bigrams(Tokens))\n",
        "      cnt = this_these_NN_POS(output)\n",
        "      f7.append(cnt)\n",
        "    else:\n",
        "      f7.append(0)\n",
        "  return f7"
      ],
      "metadata": {
        "id": "RuyElAagUVw0"
      },
      "execution_count": null,
      "outputs": []
    },
    {
      "cell_type": "code",
      "source": [
        "def PRP_POS(s):\n",
        "  cnt = 0\n",
        "  for item in s:\n",
        "    tagged = nltk.pos_tag(item)\n",
        "    if tagged[0][1] == 'PRP' and tagged[1][1] == 'POS':\n",
        "      #print(tagged)\n",
        "      cnt+=1\n",
        "  return cnt\n",
        "\n",
        "def PRP_POSCount(paragraphs):\n",
        "  f7 = []\n",
        "  for item in paragraphs:\n",
        "    if(type(item) == float or len(item) == 0):\n",
        "      f7.append(0)\n",
        "      continue\n",
        "    if(len(item.split())>1): \n",
        "      Tokens = nltk.word_tokenize(item)\n",
        "      output = list(nltk.bigrams(Tokens))\n",
        "      cnt = PRP_POS(output)\n",
        "      f7.append(cnt)\n",
        "    else:\n",
        "      f7.append(0)\n",
        "  return f7"
      ],
      "metadata": {
        "id": "2Vv9R9nOUV0f"
      },
      "execution_count": null,
      "outputs": []
    },
    {
      "cell_type": "code",
      "source": [
        "#FEATURE 21 : PRP count\n",
        "def PRPCount(paragraphs):\n",
        "  PRPCount = []\n",
        "  for row in range(len(paragraphs)):\n",
        "    count = 0\n",
        "    if(type(paragraphs[row]) == float or len(paragraphs[row]) == 0):\n",
        "      PRPCount.append(0)\n",
        "      continue\n",
        "    for word,pos in nltk.pos_tag(nltk.word_tokenize(paragraphs[row])):\n",
        "          if (pos == 'PRP'):\n",
        "            count += 1\n",
        "    PRPCount.append(count)\n",
        "  return PRPCount"
      ],
      "metadata": {
        "id": "B_3_oLnSUV3g"
      },
      "execution_count": null,
      "outputs": []
    },
    {
      "cell_type": "code",
      "source": [
        "def VBZCount(paragraphs):\n",
        "  VBZCount = []\n",
        "  for row in range(len(paragraphs)):\n",
        "    count = 0\n",
        "    if(type(paragraphs[row]) == float or len(paragraphs[row]) == 0):\n",
        "      VBZCount.append(0)\n",
        "      continue\n",
        "    for word,pos in nltk.pos_tag(nltk.word_tokenize(paragraphs[row])):\n",
        "          if (pos == 'VBZ'):\n",
        "            count += 1\n",
        "    VBZCount.append(count)\n",
        "  return VBZCount"
      ],
      "metadata": {
        "id": "NoyDsPoxUV6P"
      },
      "execution_count": null,
      "outputs": []
    },
    {
      "cell_type": "code",
      "source": [
        "def NNP_NNP_VBZ(s):\n",
        "  cnt = 0\n",
        "  for item in s:\n",
        "    tagged = nltk.pos_tag(item)\n",
        "    if tagged[0][1] == 'NNP' and tagged[1][1] == 'NNP' and tagged[2][1] == 'VBZ':\n",
        "      #print(tagged)\n",
        "      cnt+=1\n",
        "  return cnt\n",
        "\n",
        "def NNP_NNP_VBZCount(postText):\n",
        "  f7 = []\n",
        "  for item in postText:\n",
        "    if(type(item) == float or len(item) == 0):\n",
        "      f7.append(0)\n",
        "      continue\n",
        "    if(len(item.split())>1): \n",
        "      Tokens = nltk.word_tokenize(item)\n",
        "      output = list(nltk.trigrams(Tokens))\n",
        "      cnt = NNP_NNP_VBZ(output)\n",
        "      f7.append(cnt)\n",
        "    else:\n",
        "      f7.append(0)\n",
        "  return f7"
      ],
      "metadata": {
        "id": "t7qU8B7dUV9E"
      },
      "execution_count": null,
      "outputs": []
    },
    {
      "cell_type": "code",
      "source": [
        "def NN_IN(s):\n",
        "  cnt = 0\n",
        "  for item in s:\n",
        "    tagged = nltk.pos_tag(item)\n",
        "    if tagged[0][1] == 'NN' and tagged[1][1] == 'IN':\n",
        "      #print(tagged)\n",
        "      cnt+=1\n",
        "  return cnt\n",
        "\n",
        "def NN_INCount(postText):\n",
        "  f7 = []\n",
        "  for item in postText:\n",
        "    if(type(item) == float or len(item) == 0):\n",
        "      f7.append(0)\n",
        "      continue\n",
        "    if(len(item.split())>1): \n",
        "      Tokens = nltk.word_tokenize(item)\n",
        "      output = list(nltk.bigrams(Tokens))\n",
        "      cnt = NN_IN(output)\n",
        "      f7.append(cnt)\n",
        "    else:\n",
        "      f7.append(0)\n",
        "  return f7"
      ],
      "metadata": {
        "id": "QS5Ax3U_UWAS"
      },
      "execution_count": null,
      "outputs": []
    },
    {
      "cell_type": "code",
      "source": [
        "def NN_IN_NNP(s):\n",
        "  cnt = 0\n",
        "  for item in s:\n",
        "    tagged = nltk.pos_tag(item)\n",
        "    if tagged[0][1] == 'NN' and tagged[1][1] == 'IN' and tagged[2][1] == 'NNP':\n",
        "      #print(tagged)\n",
        "      cnt+=1\n",
        "  return cnt\n",
        "\n",
        "def NN_IN_NNPCount(postText):\n",
        "  f7 = []\n",
        "  for item in postText:\n",
        "    if(type(item) == float or len(item) == 0):\n",
        "      f7.append(0)\n",
        "      continue\n",
        "    if(len(item.split())>1): \n",
        "      Tokens = nltk.word_tokenize(item)\n",
        "      output = list(nltk.trigrams(Tokens))\n",
        "      cnt = NN_IN_NNP(output)\n",
        "      f7.append(cnt)\n",
        "    else:\n",
        "      f7.append(0)\n",
        "  return f7"
      ],
      "metadata": {
        "id": "NV86WlUxQf1U"
      },
      "execution_count": null,
      "outputs": []
    },
    {
      "cell_type": "code",
      "source": [
        "def stopWordsRatio(paragraphs):\n",
        "  ratioStopWords = []\n",
        "  stop_words = set(stopwords.words('english'))\n",
        "  for row in paragraphs:\n",
        "    if(type(row) == float or len(row) == 0):\n",
        "      ratioStopWords.append(0)\n",
        "      continue\n",
        "    tokens = row.split()\n",
        "    #print(tokens)\n",
        "    tokens_with_sw = [word for word in tokens if word in stop_words]\n",
        "    ratioStopWords.append(round(len(tokens_with_sw)/len(tokens),2))\n",
        "    #print(tokens_with_sw)\n",
        "  return ratioStopWords"
      ],
      "metadata": {
        "id": "fiwl8w50V483"
      },
      "execution_count": null,
      "outputs": []
    },
    {
      "cell_type": "code",
      "source": [
        "def bigram_NNP(s):\n",
        "  cnt = 0\n",
        "  for item in s:\n",
        "    tagged = nltk.pos_tag(item)\n",
        "    if tagged[0][1] == 'NNP' or tagged[1][1] == 'NNP':\n",
        "      #print(tagged)\n",
        "      cnt+=1\n",
        "  return cnt\n",
        "\n",
        "def bigram_NNPCount(paragraphs):\n",
        "  f7 = []\n",
        "  for item in paragraphs:\n",
        "    if(type(item) == float or len(item) == 0):\n",
        "      f7.append(0)\n",
        "      continue\n",
        "    if(len(item.split())>1): \n",
        "      Tokens = nltk.word_tokenize(item)\n",
        "      output = list(nltk.bigrams(Tokens))\n",
        "      cnt = bigram_NNP(output)\n",
        "      f7.append(cnt)\n",
        "    else:\n",
        "      f7.append(0)\n",
        "  return f7"
      ],
      "metadata": {
        "id": "qYXFQuy_V5Ai"
      },
      "execution_count": null,
      "outputs": []
    },
    {
      "cell_type": "code",
      "source": [
        "def PRP_VBP(s):\n",
        "  cnt = 0\n",
        "  for item in s:\n",
        "    tagged = nltk.pos_tag(item)\n",
        "    if tagged[0][1] == 'PRP' and tagged[1][1] == 'VBP':\n",
        "      #print(tagged)\n",
        "      cnt+=1\n",
        "  return cnt\n",
        "\n",
        "def PRP_VBPCount(paragraphs):\n",
        "  f7 = []\n",
        "  for item in paragraphs:\n",
        "    if(type(item) == float or len(item) == 0):\n",
        "      f7.append(0)\n",
        "      continue\n",
        "    if(len(item.split())>1): \n",
        "      Tokens = nltk.word_tokenize(item)\n",
        "      output = list(nltk.bigrams(Tokens))\n",
        "      cnt = PRP_VBP(output)\n",
        "      f7.append(cnt)\n",
        "    else:\n",
        "      f7.append(0)\n",
        "  return f7"
      ],
      "metadata": {
        "id": "nhgwCipaV5E3"
      },
      "execution_count": null,
      "outputs": []
    },
    {
      "cell_type": "code",
      "source": [
        "def WP_POS(s):\n",
        "  cnt = 0\n",
        "  for item in s:\n",
        "    tagged = nltk.pos_tag(item)\n",
        "    if tagged[0][1] == 'WP' and tagged[1][1] == 'POS':\n",
        "      #print(tagged)\n",
        "      cnt+=1\n",
        "  return cnt\n",
        "\n",
        "def WP_POSCount(postText):\n",
        "  f7 = []\n",
        "  for item in postText:\n",
        "    if(type(item)== float) or len(item) == 0:\n",
        "      f7.append(0)\n",
        "      continue\n",
        "    if(len(item.split())>1): \n",
        "      Tokens = nltk.word_tokenize(item)\n",
        "      output = list(nltk.bigrams(Tokens))\n",
        "      cnt = WP_POS(output)\n",
        "      f7.append(cnt)\n",
        "    else:\n",
        "      f7.append(0)\n",
        "  return f7"
      ],
      "metadata": {
        "id": "hhYlZftYWJ3m"
      },
      "execution_count": null,
      "outputs": []
    },
    {
      "cell_type": "code",
      "source": [
        "def noWP(postText):\n",
        "  WPCount = []\n",
        "  for row in range(len(postText)):\n",
        "    if(type(postText[row]) == float) or len(postText[row]) == 0:\n",
        "      WPCount.append(0)\n",
        "      continue\n",
        "    count = 0\n",
        "    for word,pos in nltk.pos_tag(nltk.word_tokenize(postText[row])):\n",
        "          if (pos == 'WP'):\n",
        "            count += 1\n",
        "    WPCount.append(count)\n",
        "  return WPCount"
      ],
      "metadata": {
        "id": "VR1vpViDWJ7l"
      },
      "execution_count": null,
      "outputs": []
    },
    {
      "cell_type": "code",
      "source": [
        "def DT_count(s):\n",
        "  tagged = nltk.pos_tag(s)\n",
        "  cnt = 0\n",
        "  for item in tagged:\n",
        "    if item[1]=='DT':\n",
        "      # print(item[1])\n",
        "      cnt=cnt+1\n",
        "  return cnt\n",
        "\n",
        "def DT(Text):\n",
        "  f1 = []\n",
        "  for item in Text:\n",
        "    if(type(item)==float) or len(item) == 0:\n",
        "      f1.append(0)\n",
        "      continue\n",
        "    s = nltk.word_tokenize(item)\n",
        "    cnt = DT_count(s)\n",
        "    f1.append(cnt)\n",
        "  return f1"
      ],
      "metadata": {
        "id": "OxCRVybaWykq"
      },
      "execution_count": null,
      "outputs": []
    },
    {
      "cell_type": "code",
      "source": [
        "def NNP_IN(s):\n",
        "  cnt = 0\n",
        "  for item in s:\n",
        "    tagged = nltk.pos_tag(item)\n",
        "    if tagged[0][1] == 'NNP' and tagged[1][1] == 'IN':\n",
        "      # print(tagged)\n",
        "      cnt+=1\n",
        "  return cnt \n",
        "def NnpIn(Text):\n",
        "  f2 = []\n",
        "  for item in Text:\n",
        "    if(type(item)==str and len(item.split())>1): \n",
        "      Tokens = nltk.word_tokenize(item)\n",
        "      output = list(nltk.bigrams(Tokens))\n",
        "      cnt = NNP_IN(output)\n",
        "      f2.append(cnt)\n",
        "    else:\n",
        "      f2.append(0)\n",
        "  return f2"
      ],
      "metadata": {
        "id": "Kgr_WrBaWytL"
      },
      "execution_count": null,
      "outputs": []
    },
    {
      "cell_type": "code",
      "source": [
        "def IN_NNP_NNP(s):\n",
        "  cnt = 0\n",
        "  for item in s:\n",
        "    tagged = nltk.pos_tag(item)\n",
        "    if tagged[0][1] == 'IN' and tagged[1][1] == 'NNP' and tagged[0][1] == 'NNP':\n",
        "      cnt+=1\n",
        "      # print(tagged)\n",
        "  return cnt\n",
        "def In_Nnp_Nnp(Text):\n",
        "  f2 = []\n",
        "  for item in Text:\n",
        "    if( type(item)==str and len(item.split())>1): \n",
        "      Tokens = nltk.word_tokenize(item)\n",
        "      output = list(nltk.trigrams(Tokens))  \n",
        "      cnt = NNP_IN(output)\n",
        "      f2.append(cnt)\n",
        "    else:\n",
        "      f2.append(0)\n",
        "  return f2"
      ],
      "metadata": {
        "id": "N1H248_0Wyw2"
      },
      "execution_count": null,
      "outputs": []
    },
    {
      "cell_type": "code",
      "source": [
        "def POS_count(s):\n",
        "  l = nltk.word_tokenize(s)\n",
        "  tagged = nltk.pos_tag(l)\n",
        "  cnt =0 \n",
        "  for item in tagged:\n",
        "    # print(item)\n",
        "    if item[1]=='POS':\n",
        "      # print(item)\n",
        "      cnt+=1\n",
        "  return cnt\n",
        "def POS(Text):\n",
        "  l = []\n",
        "  for item in Text:\n",
        "    if(type(item) == float ) or len(item) == 0:\n",
        "      l.append(0)\n",
        "      continue\n",
        "    cnt = POS_count(item)\n",
        "    l.append(cnt)\n",
        "  return l"
      ],
      "metadata": {
        "id": "1DKeiK2hWy0q"
      },
      "execution_count": null,
      "outputs": []
    },
    {
      "cell_type": "code",
      "source": [
        "def IN_NN(s):\n",
        "  cnt = 0\n",
        "  for item in s:\n",
        "    tagged = nltk.pos_tag(item)\n",
        "    if tagged[0][1] == 'IN' and tagged[1][1] == 'NN':\n",
        "      # print(tagged)\n",
        "      cnt+=1\n",
        "  return cnt \n",
        "def In_Nn(text):\n",
        "  f2 = []\n",
        "  for item in text:\n",
        "    if(type(item) == str and len(item.split())>1): \n",
        "      Tokens = nltk.word_tokenize(item)\n",
        "      output = list(nltk.bigrams(Tokens))\n",
        "      cnt = IN_NN(output)\n",
        "      f2.append(cnt)\n",
        "    else:\n",
        "      f2.append(0)\n",
        "  return f2"
      ],
      "metadata": {
        "id": "1oz3P3wQWy4j"
      },
      "execution_count": null,
      "outputs": []
    },
    {
      "cell_type": "code",
      "source": [
        "def semi_delimeter_count(s):\n",
        "  l = nltk.word_tokenize(s)\n",
        "  cnt = 0\n",
        "  for item in l:\n",
        "    if item == ',':\n",
        "      # print(item)\n",
        "      cnt=cnt+1\n",
        "  return cnt \n",
        "def SemiDelimeter(text):\n",
        "  f4 = []\n",
        "  for item in text:\n",
        "    if(type(item)==float) or len(item) == 0:\n",
        "      f4.append(0)\n",
        "      continue\n",
        "    cnt = semi_delimeter_count(item)\n",
        "    f4.append(cnt)\n",
        "  return f4"
      ],
      "metadata": {
        "id": "JQAClUP5Wy8N"
      },
      "execution_count": null,
      "outputs": []
    },
    {
      "cell_type": "code",
      "source": [
        "def NNP_NNS(s):\n",
        "  cnt = 0\n",
        "  for item in s:\n",
        "    tagged = nltk.pos_tag(item)\n",
        "    if tagged[0][1] == 'NNP' and tagged[1][1] == 'NNS':\n",
        "      cnt+=1\n",
        "      # print(tagged)\n",
        "  return cnt \n",
        "def Nnp_Nns(text):\n",
        "  f5 = []\n",
        "  for item in text:\n",
        "    if(type(item) == str and len(item.split())>1): \n",
        "      Tokens = nltk.word_tokenize(item)\n",
        "      output = list(nltk.bigrams(Tokens))\n",
        "      cnt = NNP_NNS(output)\n",
        "      f5.append(cnt)\n",
        "    else:\n",
        "      f5.append(0)\n",
        "  return f5"
      ],
      "metadata": {
        "id": "CvNZ66mCWJ_e"
      },
      "execution_count": null,
      "outputs": []
    },
    {
      "cell_type": "code",
      "source": [
        "def IN_JJ(s):\n",
        "  cnt = 0\n",
        "  for item in s:\n",
        "    tagged = nltk.pos_tag(item)\n",
        "    if tagged[0][1] == 'IN' and tagged[1][1] == 'JJ':\n",
        "      # print(tagged)\n",
        "      cnt+=1\n",
        "  return cnt \n",
        "def In_Jj(text):\n",
        "  f6 = []\n",
        "  for item in text:\n",
        "    if(type(item) == str and len(item.split())>1): \n",
        "      Tokens = nltk.word_tokenize(item)\n",
        "      output = list(nltk.bigrams(Tokens))\n",
        "      cnt = IN_JJ(output)\n",
        "      f6.append(cnt)\n",
        "    else:\n",
        "      f6.append(0)\n",
        "  return f6"
      ],
      "metadata": {
        "id": "Hi1dTMhxWKC1"
      },
      "execution_count": null,
      "outputs": []
    },
    {
      "cell_type": "code",
      "source": [
        "def NNP_POS(s):\n",
        "  cnt = 0\n",
        "  for item in s:\n",
        "    tagged = nltk.pos_tag(item)\n",
        "    if tagged[0][1] == 'NNP' and tagged[1][1] == 'POS':\n",
        "      # print(tagged)\n",
        "      cnt+=1\n",
        "  return cnt \n",
        "def Nnp_Pos(text):\n",
        "  f7 = []\n",
        "  for item in text:\n",
        "    if type(item)==str and len(item.split())>1 :  \n",
        "      Tokens = nltk.word_tokenize(item)\n",
        "      output = list(nltk.bigrams(Tokens))\n",
        "      cnt = NNP_POS(output)\n",
        "      f7.append(cnt)\n",
        "    else:\n",
        "      f7.append(0)\n",
        "  return f7"
      ],
      "metadata": {
        "id": "CP6frE-hWKGj"
      },
      "execution_count": null,
      "outputs": []
    },
    {
      "cell_type": "code",
      "source": [
        "def WDT(s):\n",
        "  l = nltk.word_tokenize(s)\n",
        "  output = nltk.pos_tag(l)\n",
        "  cnt = 0\n",
        "  for item in output:\n",
        "    if item[1] == 'WDT':\n",
        "      # print(item)\n",
        "      cnt=cnt+1\n",
        "  return cnt \n",
        "def Wdt(text):\n",
        "  f8 = []\n",
        "  for item in text:\n",
        "    if type(item)==float or len(item) == 0:\n",
        "      f8.append(0)\n",
        "      continue\n",
        "    cnt = WDT(item)\n",
        "    f8.append(cnt)\n",
        "  return f8"
      ],
      "metadata": {
        "id": "9A5ShvpMV5Hv"
      },
      "execution_count": null,
      "outputs": []
    },
    {
      "cell_type": "code",
      "source": [
        "def WDT_POS(s):\n",
        "  cnt = 0\n",
        "  for item in s:\n",
        "    tagged = nltk.pos_tag(item)\n",
        "    if tagged[0][1] == 'WDT' and tagged[1][1] == 'POS':\n",
        "      # print(tagged)\n",
        "      cnt+=1\n",
        "  return cnt \n",
        "def Wdt_Pos(text):\n",
        "  f8 = []\n",
        "  for item in text:\n",
        "    if(type(item) == str and  len(item.split())>1): \n",
        "      Tokens = nltk.word_tokenize(item)\n",
        "      output = list(nltk.bigrams(Tokens))\n",
        "      cnt = WDT_POS(output)\n",
        "      f8.append(cnt)\n",
        "    else:\n",
        "      f8.append(0)\n",
        "  return f8"
      ],
      "metadata": {
        "id": "aVcquS07V5Ls"
      },
      "execution_count": null,
      "outputs": []
    },
    {
      "cell_type": "code",
      "source": [
        "def NN_NN(s):\n",
        "  cnt = 0\n",
        "  for item in s:\n",
        "    tagged = nltk.pos_tag(item)\n",
        "    if tagged[0][1] == 'NN' and tagged[1][1] == 'NN':\n",
        "      # print(tagged)\n",
        "      cnt+=1\n",
        "  return cnt\n",
        "def Nn_Nn(Text):\n",
        "  f9 = []\n",
        "  for item in Text:\n",
        "    if(type(item)==str and len(item.split())>1): \n",
        "      Tokens = nltk.word_tokenize(item)\n",
        "      output = list(nltk.bigrams(Tokens))\n",
        "      cnt = NN_NN(output)\n",
        "      f9.append(cnt)\n",
        "    else:\n",
        "      f9.append(0)\n",
        "  return f9"
      ],
      "metadata": {
        "id": "dnhc-txWQf4m"
      },
      "execution_count": null,
      "outputs": []
    },
    {
      "cell_type": "code",
      "source": [
        "def NN_NNP(s):\n",
        "  cnt = 0 \n",
        "  for item in s:\n",
        "    tagged = nltk.pos_tag(item)\n",
        "    if tagged[0][1] == 'NN' and tagged[1][1] == 'NNP':\n",
        "      # print(tagged)\n",
        "      cnt+=1\n",
        "  return cnt \n",
        "def Nn_Nnp(Text):\n",
        "  f10 = []\n",
        "  for item in Text:\n",
        "    if(type(item)==str and len(item.split())>1): \n",
        "      Tokens = nltk.word_tokenize(item)\n",
        "      output = list(nltk.bigrams(Tokens))\n",
        "      cnt =NN_NNP(output)\n",
        "      f10.append(cnt)\n",
        "    else:\n",
        "      f10.append(0)\n",
        "  return f10"
      ],
      "metadata": {
        "id": "0n_xD3wUZ93q"
      },
      "execution_count": null,
      "outputs": []
    },
    {
      "cell_type": "code",
      "source": [
        "def NNP_VBD(s):\n",
        "  cnt = 0\n",
        "  for item in s:\n",
        "    tagged = nltk.pos_tag(item)\n",
        "    if tagged[0][1] == 'NNP' and tagged[1][1] == 'VBD':\n",
        "      # print(tagged)\n",
        "      cnt+=1\n",
        "  return cnt\n",
        "def Nnp_Vbd(PostText1):\n",
        "  f10 = []\n",
        "  for item in PostText1:\n",
        "    if( type(item)==str and len(item.split())>1): \n",
        "      Tokens = nltk.word_tokenize(item)\n",
        "      output = list(nltk.bigrams(Tokens))\n",
        "      cnt = NNP_VBD(output)\n",
        "      f10.append(cnt)\n",
        "    else:\n",
        "      f10.append(0)\n",
        "  return f10"
      ],
      "metadata": {
        "id": "kRss9xeNZ964"
      },
      "execution_count": null,
      "outputs": []
    },
    {
      "cell_type": "code",
      "source": [
        "def RB_POS(s):\n",
        "  cnt = 0\n",
        "  for item in s:\n",
        "    tagged = nltk.pos_tag(item)\n",
        "    if tagged[0][1] == 'RB' and tagged[1][1] == 'POS':\n",
        "      # print(tagged)\n",
        "      cnt+=1\n",
        "  return cnt \n",
        "def Rb_Pos(text):\n",
        "  f11 = []\n",
        "  for item in text:\n",
        "    if(type(item)==str and len(item.split())>1): \n",
        "      Tokens = nltk.word_tokenize(item)\n",
        "      output = list(nltk.bigrams(Tokens))\n",
        "      cnt = RB_POS(output)\n",
        "      f11.append(cnt)\n",
        "    else:\n",
        "      f11.append(0)\n",
        "  return f11"
      ],
      "metadata": {
        "id": "rQfCuhuhabpI"
      },
      "execution_count": null,
      "outputs": []
    },
    {
      "cell_type": "code",
      "source": [
        "def DT_POS(s):\n",
        "  cnt = 0\n",
        "  for item in s:\n",
        "    tagged = nltk.pos_tag(item)\n",
        "    if tagged[0][1] == 'DT' and tagged[1][1] == 'POS':\n",
        "      cnt+=1\n",
        "      # print(tagged)\n",
        "  return cnt \n",
        "def Dt_Pos(text):\n",
        "  f12 = []\n",
        "  for item in text:\n",
        "    if( type(item)==str and len(item.split())>1): \n",
        "      Tokens = nltk.word_tokenize(item)\n",
        "      output = list(nltk.bigrams(Tokens))\n",
        "      cnt = DT_POS(output)\n",
        "      f12.append(cnt)\n",
        "    else:\n",
        "      f12.append(0)\n",
        "  return f12"
      ],
      "metadata": {
        "id": "H-OCwYo8absm"
      },
      "execution_count": null,
      "outputs": []
    },
    {
      "cell_type": "code",
      "source": [
        "def RB(s):\n",
        "  l = nltk.word_tokenize(s)\n",
        "  output = nltk.pos_tag(l)\n",
        "  cnt = 0\n",
        "  for item in output:\n",
        "    if item[1] == 'RB':\n",
        "      # print(item)\n",
        "      cnt=cnt+1\n",
        "  return cnt \n",
        "def Rb(postText1):\n",
        "  f12 = []\n",
        "  for item in postText1:\n",
        "    if type(item) == float or len(item) == 0:\n",
        "      f12.append(0)\n",
        "      continue\n",
        "    cnt = RB(item)\n",
        "    f12.append(cnt)\n",
        "  return f12"
      ],
      "metadata": {
        "id": "Q_YSS40yabwx"
      },
      "execution_count": null,
      "outputs": []
    },
    {
      "cell_type": "code",
      "source": [
        "def NNP_NNP_NNP(s):\n",
        "  cnt = 0\n",
        "  for item in s:\n",
        "    tagged = nltk.pos_tag(item)\n",
        "    if tagged[0][1] == 'NNP' and tagged[1][1] == 'NNP' and tagged[2][1]=='NNP':\n",
        "      # print(tagged)\n",
        "      cnt+=1\n",
        "  return cnt\n",
        "def Nnp_Nnp_Nnp(postText1):\n",
        "  f13 = [] \n",
        "  for item in postText1:\n",
        "    if(type(item)==str and len(item.split())>2): \n",
        "      Tokens = nltk.word_tokenize(item)\n",
        "      output = list(nltk.trigrams(Tokens))\n",
        "      cnt = NNP_NNP_NNP(output)\n",
        "      f13.append(cnt)\n",
        "    else:\n",
        "      f13.append(0)\n",
        "  return f13"
      ],
      "metadata": {
        "id": "Nz5MC6i7Z997"
      },
      "execution_count": null,
      "outputs": []
    },
    {
      "cell_type": "code",
      "source": [
        "def NNP_NNP_NN(s):\n",
        "  cnt = 0\n",
        "  for item in s:\n",
        "    tagged = nltk.pos_tag(item)\n",
        "    if tagged[0][1] == 'NNP' and tagged[1][1] == 'NNP' and tagged[2][1]=='NN':\n",
        "      # print(tagged)\n",
        "      cnt+=1\n",
        "  return cnt\n",
        "def Nnp_Nnp_Nn(postText1):\n",
        "  f14 = [] \n",
        "  for item in postText1:\n",
        "    if(type(item)==str and len(item.split())>2): \n",
        "      Tokens = nltk.word_tokenize(item)\n",
        "      output = list(nltk.trigrams(Tokens))\n",
        "      cnt = NNP_NNP_NN(output)\n",
        "      f14.append(cnt)\n",
        "    else:\n",
        "      f14.append(0)\n",
        "  return f14"
      ],
      "metadata": {
        "id": "Fhpg83b2Z-BV"
      },
      "execution_count": null,
      "outputs": []
    },
    {
      "cell_type": "code",
      "source": [
        "def RBS(s):\n",
        "  l = nltk.word_tokenize(s)\n",
        "  output = nltk.pos_tag(l)\n",
        "  cnt = 0\n",
        "  for item in output:\n",
        "    if item[1] == 'RBS':\n",
        "      # print(item)\n",
        "      cnt=cnt+1\n",
        "  return cnt \n",
        "def Rbs(postText1):\n",
        "  f15 = []\n",
        "  for item in postText1:\n",
        "    if type(item)==float or len(item) == 0:\n",
        "      f15.append(0)\n",
        "      continue\n",
        "    cnt = RBS(item)\n",
        "    f15.append(cnt)\n",
        "  return f15"
      ],
      "metadata": {
        "id": "fZajq5k7bIkP"
      },
      "execution_count": null,
      "outputs": []
    },
    {
      "cell_type": "code",
      "source": [
        "def VBN(s):\n",
        "  l = nltk.word_tokenize(s)\n",
        "  output = nltk.pos_tag(l)\n",
        "  cnt = 0\n",
        "  for item in output:\n",
        "    if item[1] == 'VBN':\n",
        "      # print(item)\n",
        "      cnt=cnt+1\n",
        "  return cnt \n",
        "def Vbn(postText1):\n",
        "  f16 = []\n",
        "  for item in postText1:\n",
        "    if type(item)==float or len(item) == 0:\n",
        "      f16.append(0)\n",
        "      continue\n",
        "    cnt = VBN(item)\n",
        "    f16.append(cnt)\n",
        "  return f16"
      ],
      "metadata": {
        "id": "t_Ra4XpybInl"
      },
      "execution_count": null,
      "outputs": []
    },
    {
      "cell_type": "code",
      "source": [
        "def VBN_IN(s):\n",
        "  cnt = 0\n",
        "  for item in s:\n",
        "    tagged = nltk.pos_tag(item)\n",
        "    if tagged[0][1] == 'VBN' and tagged[1][1] == 'IN':\n",
        "      # print(item)\n",
        "      cnt+=1\n",
        "  return cnt\n",
        "def Vbn_In(postText1):\n",
        "  f17 = [] \n",
        "  for item in postText1:\n",
        "    if(type(item) == str and len(item.split())>1): \n",
        "      Tokens = nltk.word_tokenize(item)\n",
        "      output = list(nltk.bigrams(Tokens))\n",
        "      cnt = VBN_IN(output)\n",
        "      f17.append(cnt)\n",
        "    else:\n",
        "      f17.append(0) \n",
        "  return f17"
      ],
      "metadata": {
        "id": "1rgrn6jLbIuK"
      },
      "execution_count": null,
      "outputs": []
    },
    {
      "cell_type": "code",
      "source": [
        "def CD_NP_VB(s):\n",
        "  for item in s:\n",
        "    tagged = nltk.pos_tag(item)\n",
        "    if tagged[0][1] == 'CD' and tagged[1][1] == 'NP' and tagged[2][1] == \"VB\":\n",
        "      # print(tagged)\n",
        "      return True\n",
        "  return False \n",
        "def Cd_Np_Vb(postText1):\n",
        "  f18 = [] \n",
        "  for item in postText1:\n",
        "    if(type(item)==str and len(item.split())>2): \n",
        "      Tokens = nltk.word_tokenize(item)\n",
        "      output = list(nltk.trigrams(Tokens))\n",
        "      flag = 1\n",
        "      if(CD_NP_VB(output)):\n",
        "        f18.append(1)\n",
        "        flag = 0\n",
        "        break\n",
        "      if flag:\n",
        "        f18.append(0)\n",
        "    else:\n",
        "      f18.append(0)\n",
        "  return f18"
      ],
      "metadata": {
        "id": "Duu5jvbbbIw9"
      },
      "execution_count": null,
      "outputs": []
    },
    {
      "cell_type": "code",
      "source": [
        "def JJ_NNP(s):\n",
        "  cnt = 0\n",
        "  for item in s:\n",
        "    tagged = nltk.pos_tag(item)\n",
        "    if tagged[0][1] == 'JJ' and tagged[1][1]=='NNP':\n",
        "      # print(tagged)\n",
        "      cnt+=1\n",
        "  return cnt \n",
        "def Jj_Nnp(text):\n",
        "  f19 = [] \n",
        "  for item in text:\n",
        "    if(type(item)==str and len(item.split())>1): \n",
        "      Tokens = nltk.word_tokenize(item)\n",
        "      output = list(nltk.bigrams(Tokens))\n",
        "      cnt = JJ_NNP(output)\n",
        "      f19.append(cnt)\n",
        "    else:\n",
        "      f19.append(0)\n",
        "  return f19"
      ],
      "metadata": {
        "id": "0bw_PaFLZ-Ex"
      },
      "execution_count": null,
      "outputs": []
    },
    {
      "cell_type": "code",
      "source": [
        "def NNP_NN_NN(s):\n",
        "  cnt = 0\n",
        "  for item in s:\n",
        "    tagged = nltk.pos_tag(item)\n",
        "    if tagged[0][1] == 'NNP' and tagged[1][1]=='NN' and tagged[2][1]=='NN':\n",
        "      # print(tagged)\n",
        "      cnt+=1\n",
        "  return cnt \n",
        "def Nnp_Nn_Nn(postText1):\n",
        "  f19 = [] \n",
        "  for item in postText1:\n",
        "    if(type(item)==str and len(item.split())>1): \n",
        "      Tokens = nltk.word_tokenize(item)\n",
        "      output = list(nltk.trigrams(Tokens))\n",
        "      cnt = NNP_NN_NN(output)\n",
        "      f19.append(cnt)\n",
        "    else:\n",
        "      f19.append(0)\n",
        "  return f19"
      ],
      "metadata": {
        "id": "72ZKMpEtbp4s"
      },
      "execution_count": null,
      "outputs": []
    },
    {
      "cell_type": "code",
      "source": [
        "def DT_NN(s):\n",
        "  cnt = 0\n",
        "  for item in s:\n",
        "    tagged = nltk.pos_tag(item)\n",
        "    if tagged[0][1] == 'DT' and tagged[1][1]=='NN':\n",
        "      # print(tagged)\n",
        "      cnt+=1\n",
        "  return cnt\n",
        "def Dt_Nn(postText1):\n",
        "  f19 = [] \n",
        "  for item in postText1:\n",
        "    if(len(item.split())>1): \n",
        "      Tokens = nltk.word_tokenize(item)\n",
        "      output = list(nltk.bigrams(Tokens))\n",
        "      cnt = DT_NN(output)\n",
        "      f19.append(cnt)\n",
        "    else:\n",
        "      f19.append(0)\n",
        "  return f19"
      ],
      "metadata": {
        "id": "GsKFtB-Fbp8G"
      },
      "execution_count": null,
      "outputs": []
    },
    {
      "cell_type": "code",
      "source": [
        "def EX(s):\n",
        "  l = nltk.word_tokenize(s)\n",
        "  output = nltk.pos_tag(l)\n",
        "  for tagged in output:\n",
        "    if tagged[1] == 'EX':\n",
        "      # print(tagged)\n",
        "      return True\n",
        "  return False \n",
        "def Ex(postText1):\n",
        "  f19 = [] \n",
        "  for item in postText1:\n",
        "    if len(item) == 0:\n",
        "      f19.append(0)\n",
        "      continue\n",
        "    if(EX(item)):\n",
        "       f19.append(1)\n",
        "    else:\n",
        "      f19.append(0)\n",
        "  return f19"
      ],
      "metadata": {
        "id": "jVEBDHvabp_j"
      },
      "execution_count": null,
      "outputs": []
    },
    {
      "cell_type": "code",
      "source": [
        "!pip install textstat"
      ],
      "metadata": {
        "id": "aDb8V6K55Pc4"
      },
      "execution_count": null,
      "outputs": []
    },
    {
      "cell_type": "code",
      "source": [
        "import textstat"
      ],
      "metadata": {
        "id": "o75_VbxafBrc"
      },
      "execution_count": null,
      "outputs": []
    },
    {
      "cell_type": "code",
      "source": [
        "def list_to_str(l):\n",
        "  s = \"\"\n",
        "  for item in l:\n",
        "    s=s+item\n",
        "  return s"
      ],
      "metadata": {
        "id": "LPtDo2L3fBw1"
      },
      "execution_count": null,
      "outputs": []
    },
    {
      "cell_type": "code",
      "source": [
        "def read_(s):\n",
        "  return textstat.flesch_reading_ease(s)"
      ],
      "metadata": {
        "id": "ElGmZweYfB1B"
      },
      "execution_count": null,
      "outputs": []
    },
    {
      "cell_type": "code",
      "source": [
        "def read_para(p):\n",
        "  l = []\n",
        "  for item in p:\n",
        "    if len(item)==0 or  type(item[0])!=str or item[0]==\"\":\n",
        "      l.append(0)\n",
        "      continue\n",
        "    s = list_to_str(item)\n",
        "    val = read_(s)\n",
        "    l.append(val)\n",
        "  return l"
      ],
      "metadata": {
        "id": "2FsXHPoW1urw"
      },
      "execution_count": null,
      "outputs": []
    },
    {
      "cell_type": "code",
      "source": [
        "def read_single_text(s):\n",
        "  l = []\n",
        "  for item in s:\n",
        "    if(len(item)>0):\n",
        "      val = read_(item)\n",
        "      l.append(val)\n",
        "    else:\n",
        "      l.append(0)\n",
        "  return l"
      ],
      "metadata": {
        "id": "YRr7pjMe1uv-"
      },
      "execution_count": null,
      "outputs": []
    },
    {
      "cell_type": "code",
      "source": [
        "def read_single_title(s):\n",
        "  l = []\n",
        "  for item in s:\n",
        "    val = read_(item)\n",
        "    l.append(val)\n",
        "  return l"
      ],
      "metadata": {
        "id": "2xuU-N8S1uzC"
      },
      "execution_count": null,
      "outputs": []
    },
    {
      "cell_type": "code",
      "source": [
        "dataset = pd.read_csv(\"/content/drive/MyDrive/nlp/Clickbit_dataset/clickbait17-train-170331/dataset/instances.csv\")"
      ],
      "metadata": {
        "id": "3HMl4IGY3cSR"
      },
      "execution_count": null,
      "outputs": []
    },
    {
      "cell_type": "code",
      "source": [
        "dataset.head()"
      ],
      "metadata": {
        "id": "-PwP0-Sl3zts",
        "colab": {
          "base_uri": "https://localhost:8080/",
          "height": 617
        },
        "outputId": "3a47d3ec-e346-45e9-b521-ccccc177222d"
      },
      "execution_count": null,
      "outputs": [
        {
          "output_type": "execute_result",
          "data": {
            "text/plain": [
              "   Unnamed: 0                  id                   postTimestamp  \\\n",
              "0           0  608310377143799810  Tue Jun 09 16:31:10 +0000 2015   \n",
              "1           1  609297109095972864  Fri Jun 12 09:52:05 +0000 2015   \n",
              "2           2  609504474621612032  Fri Jun 12 23:36:05 +0000 2015   \n",
              "3           3  609748367049105409  Sat Jun 13 15:45:13 +0000 2015   \n",
              "4           4  608688782821453825  Wed Jun 10 17:34:49 +0000 2015   \n",
              "\n",
              "                                            postText  \\\n",
              "0  [\"Apple's iOS 9 'App thinning' feature will gi...   \n",
              "1  ['RT @kenbrown12: Emerging market investors ar...   \n",
              "2  ['U.S. Soccer should start answering tough que...   \n",
              "3  ['How theme parks like Disney World left the m...   \n",
              "4  ['Could light bulbs hurt your health? One comp...   \n",
              "\n",
              "                          postMedia  \\\n",
              "0                                []   \n",
              "1  ['media/609297109095972864.jpg']   \n",
              "2                                []   \n",
              "3                                []   \n",
              "4  ['media/608688782821453825.jpg']   \n",
              "\n",
              "                                         targetTitle  \\\n",
              "0  Apple gives back gigabytes: iOS 9 'app thinnin...   \n",
              "1  Emerging Markets Suffer Largest Outflow in Sev...   \n",
              "2  U.S. Soccer should start answering tough quest...   \n",
              "3  How theme parks like Disney World left the mid...   \n",
              "4                 Warning labels on your light bulbs   \n",
              "\n",
              "                                   targetDescription  \\\n",
              "0  'App thinning' will be supported on Apple's iO...   \n",
              "1  Global investors have yanked $9.3 billion from...   \n",
              "2  A U.S. Senator's scathing letter questioned U....   \n",
              "3  America's top family vacation spots, like the ...   \n",
              "4  One company will put a health notice on all th...   \n",
              "\n",
              "                                      targetKeywords  \\\n",
              "0  Apple,gives,gigabytes,iOS,9,app,thinning,featu...   \n",
              "1  emerging market,emerging markets,em flows,em i...   \n",
              "2                                                NaN   \n",
              "3  disney, disney world, disney ticket prices, di...   \n",
              "4  health, Should there be warning labels on your...   \n",
              "\n",
              "                                    targetParagraphs  \\\n",
              "0  [\"Paying for a 64GB phone only to discover tha...   \n",
              "1  ['Emerging markets are out of favor.', 'Global...   \n",
              "2  [\"WINNIPEG, Manitoba – The bubble U.S. Soccer ...   \n",
              "3  ['When Walt Disney World opened in an Orlando ...   \n",
              "4  [\"(CNN)The light bulb always makes the world's...   \n",
              "\n",
              "                                      targetCaptions  \n",
              "0  [\"'App thinning' will be supported on Apple's ...  \n",
              "1  ['Stocks Fall as Investors Watch Central Banks...  \n",
              "2  ['US to vote for Ali in FIFA election and not ...  \n",
              "3  ['Some 1,000 persons turned out in Albuquerque...  \n",
              "4  ['Electric lights have made the world safer an...  "
            ],
            "text/html": [
              "\n",
              "  <div id=\"df-ad853e5d-7924-44f3-b264-7857d18ecb80\">\n",
              "    <div class=\"colab-df-container\">\n",
              "      <div>\n",
              "<style scoped>\n",
              "    .dataframe tbody tr th:only-of-type {\n",
              "        vertical-align: middle;\n",
              "    }\n",
              "\n",
              "    .dataframe tbody tr th {\n",
              "        vertical-align: top;\n",
              "    }\n",
              "\n",
              "    .dataframe thead th {\n",
              "        text-align: right;\n",
              "    }\n",
              "</style>\n",
              "<table border=\"1\" class=\"dataframe\">\n",
              "  <thead>\n",
              "    <tr style=\"text-align: right;\">\n",
              "      <th></th>\n",
              "      <th>Unnamed: 0</th>\n",
              "      <th>id</th>\n",
              "      <th>postTimestamp</th>\n",
              "      <th>postText</th>\n",
              "      <th>postMedia</th>\n",
              "      <th>targetTitle</th>\n",
              "      <th>targetDescription</th>\n",
              "      <th>targetKeywords</th>\n",
              "      <th>targetParagraphs</th>\n",
              "      <th>targetCaptions</th>\n",
              "    </tr>\n",
              "  </thead>\n",
              "  <tbody>\n",
              "    <tr>\n",
              "      <th>0</th>\n",
              "      <td>0</td>\n",
              "      <td>608310377143799810</td>\n",
              "      <td>Tue Jun 09 16:31:10 +0000 2015</td>\n",
              "      <td>[\"Apple's iOS 9 'App thinning' feature will gi...</td>\n",
              "      <td>[]</td>\n",
              "      <td>Apple gives back gigabytes: iOS 9 'app thinnin...</td>\n",
              "      <td>'App thinning' will be supported on Apple's iO...</td>\n",
              "      <td>Apple,gives,gigabytes,iOS,9,app,thinning,featu...</td>\n",
              "      <td>[\"Paying for a 64GB phone only to discover tha...</td>\n",
              "      <td>[\"'App thinning' will be supported on Apple's ...</td>\n",
              "    </tr>\n",
              "    <tr>\n",
              "      <th>1</th>\n",
              "      <td>1</td>\n",
              "      <td>609297109095972864</td>\n",
              "      <td>Fri Jun 12 09:52:05 +0000 2015</td>\n",
              "      <td>['RT @kenbrown12: Emerging market investors ar...</td>\n",
              "      <td>['media/609297109095972864.jpg']</td>\n",
              "      <td>Emerging Markets Suffer Largest Outflow in Sev...</td>\n",
              "      <td>Global investors have yanked $9.3 billion from...</td>\n",
              "      <td>emerging market,emerging markets,em flows,em i...</td>\n",
              "      <td>['Emerging markets are out of favor.', 'Global...</td>\n",
              "      <td>['Stocks Fall as Investors Watch Central Banks...</td>\n",
              "    </tr>\n",
              "    <tr>\n",
              "      <th>2</th>\n",
              "      <td>2</td>\n",
              "      <td>609504474621612032</td>\n",
              "      <td>Fri Jun 12 23:36:05 +0000 2015</td>\n",
              "      <td>['U.S. Soccer should start answering tough que...</td>\n",
              "      <td>[]</td>\n",
              "      <td>U.S. Soccer should start answering tough quest...</td>\n",
              "      <td>A U.S. Senator's scathing letter questioned U....</td>\n",
              "      <td>NaN</td>\n",
              "      <td>[\"WINNIPEG, Manitoba – The bubble U.S. Soccer ...</td>\n",
              "      <td>['US to vote for Ali in FIFA election and not ...</td>\n",
              "    </tr>\n",
              "    <tr>\n",
              "      <th>3</th>\n",
              "      <td>3</td>\n",
              "      <td>609748367049105409</td>\n",
              "      <td>Sat Jun 13 15:45:13 +0000 2015</td>\n",
              "      <td>['How theme parks like Disney World left the m...</td>\n",
              "      <td>[]</td>\n",
              "      <td>How theme parks like Disney World left the mid...</td>\n",
              "      <td>America's top family vacation spots, like the ...</td>\n",
              "      <td>disney, disney world, disney ticket prices, di...</td>\n",
              "      <td>['When Walt Disney World opened in an Orlando ...</td>\n",
              "      <td>['Some 1,000 persons turned out in Albuquerque...</td>\n",
              "    </tr>\n",
              "    <tr>\n",
              "      <th>4</th>\n",
              "      <td>4</td>\n",
              "      <td>608688782821453825</td>\n",
              "      <td>Wed Jun 10 17:34:49 +0000 2015</td>\n",
              "      <td>['Could light bulbs hurt your health? One comp...</td>\n",
              "      <td>['media/608688782821453825.jpg']</td>\n",
              "      <td>Warning labels on your light bulbs</td>\n",
              "      <td>One company will put a health notice on all th...</td>\n",
              "      <td>health, Should there be warning labels on your...</td>\n",
              "      <td>[\"(CNN)The light bulb always makes the world's...</td>\n",
              "      <td>['Electric lights have made the world safer an...</td>\n",
              "    </tr>\n",
              "  </tbody>\n",
              "</table>\n",
              "</div>\n",
              "      <button class=\"colab-df-convert\" onclick=\"convertToInteractive('df-ad853e5d-7924-44f3-b264-7857d18ecb80')\"\n",
              "              title=\"Convert this dataframe to an interactive table.\"\n",
              "              style=\"display:none;\">\n",
              "        \n",
              "  <svg xmlns=\"http://www.w3.org/2000/svg\" height=\"24px\"viewBox=\"0 0 24 24\"\n",
              "       width=\"24px\">\n",
              "    <path d=\"M0 0h24v24H0V0z\" fill=\"none\"/>\n",
              "    <path d=\"M18.56 5.44l.94 2.06.94-2.06 2.06-.94-2.06-.94-.94-2.06-.94 2.06-2.06.94zm-11 1L8.5 8.5l.94-2.06 2.06-.94-2.06-.94L8.5 2.5l-.94 2.06-2.06.94zm10 10l.94 2.06.94-2.06 2.06-.94-2.06-.94-.94-2.06-.94 2.06-2.06.94z\"/><path d=\"M17.41 7.96l-1.37-1.37c-.4-.4-.92-.59-1.43-.59-.52 0-1.04.2-1.43.59L10.3 9.45l-7.72 7.72c-.78.78-.78 2.05 0 2.83L4 21.41c.39.39.9.59 1.41.59.51 0 1.02-.2 1.41-.59l7.78-7.78 2.81-2.81c.8-.78.8-2.07 0-2.86zM5.41 20L4 18.59l7.72-7.72 1.47 1.35L5.41 20z\"/>\n",
              "  </svg>\n",
              "      </button>\n",
              "      \n",
              "  <style>\n",
              "    .colab-df-container {\n",
              "      display:flex;\n",
              "      flex-wrap:wrap;\n",
              "      gap: 12px;\n",
              "    }\n",
              "\n",
              "    .colab-df-convert {\n",
              "      background-color: #E8F0FE;\n",
              "      border: none;\n",
              "      border-radius: 50%;\n",
              "      cursor: pointer;\n",
              "      display: none;\n",
              "      fill: #1967D2;\n",
              "      height: 32px;\n",
              "      padding: 0 0 0 0;\n",
              "      width: 32px;\n",
              "    }\n",
              "\n",
              "    .colab-df-convert:hover {\n",
              "      background-color: #E2EBFA;\n",
              "      box-shadow: 0px 1px 2px rgba(60, 64, 67, 0.3), 0px 1px 3px 1px rgba(60, 64, 67, 0.15);\n",
              "      fill: #174EA6;\n",
              "    }\n",
              "\n",
              "    [theme=dark] .colab-df-convert {\n",
              "      background-color: #3B4455;\n",
              "      fill: #D2E3FC;\n",
              "    }\n",
              "\n",
              "    [theme=dark] .colab-df-convert:hover {\n",
              "      background-color: #434B5C;\n",
              "      box-shadow: 0px 1px 3px 1px rgba(0, 0, 0, 0.15);\n",
              "      filter: drop-shadow(0px 1px 2px rgba(0, 0, 0, 0.3));\n",
              "      fill: #FFFFFF;\n",
              "    }\n",
              "  </style>\n",
              "\n",
              "      <script>\n",
              "        const buttonEl =\n",
              "          document.querySelector('#df-ad853e5d-7924-44f3-b264-7857d18ecb80 button.colab-df-convert');\n",
              "        buttonEl.style.display =\n",
              "          google.colab.kernel.accessAllowed ? 'block' : 'none';\n",
              "\n",
              "        async function convertToInteractive(key) {\n",
              "          const element = document.querySelector('#df-ad853e5d-7924-44f3-b264-7857d18ecb80');\n",
              "          const dataTable =\n",
              "            await google.colab.kernel.invokeFunction('convertToInteractive',\n",
              "                                                     [key], {});\n",
              "          if (!dataTable) return;\n",
              "\n",
              "          const docLinkHtml = 'Like what you see? Visit the ' +\n",
              "            '<a target=\"_blank\" href=https://colab.research.google.com/notebooks/data_table.ipynb>data table notebook</a>'\n",
              "            + ' to learn more about interactive tables.';\n",
              "          element.innerHTML = '';\n",
              "          dataTable['output_type'] = 'display_data';\n",
              "          await google.colab.output.renderOutput(dataTable, element);\n",
              "          const docLink = document.createElement('div');\n",
              "          docLink.innerHTML = docLinkHtml;\n",
              "          element.appendChild(docLink);\n",
              "        }\n",
              "      </script>\n",
              "    </div>\n",
              "  </div>\n",
              "  "
            ]
          },
          "metadata": {},
          "execution_count": 72
        }
      ]
    },
    {
      "cell_type": "code",
      "source": [
        "dataset.isnull().sum()"
      ],
      "metadata": {
        "colab": {
          "base_uri": "https://localhost:8080/"
        },
        "id": "GPCYTGXOBoWh",
        "outputId": "f2849034-bc45-40cf-f9eb-d144cd17747e"
      },
      "execution_count": null,
      "outputs": [
        {
          "output_type": "execute_result",
          "data": {
            "text/plain": [
              "Unnamed: 0             0\n",
              "id                     0\n",
              "postTimestamp          0\n",
              "postText               0\n",
              "postMedia              0\n",
              "targetTitle            0\n",
              "targetDescription    192\n",
              "targetKeywords       807\n",
              "targetParagraphs       0\n",
              "targetCaptions         0\n",
              "dtype: int64"
            ]
          },
          "metadata": {},
          "execution_count": 73
        }
      ]
    },
    {
      "cell_type": "code",
      "source": [
        "postText = dataset[\"postText\"]"
      ],
      "metadata": {
        "id": "ISUXQNy63zZ5"
      },
      "execution_count": null,
      "outputs": []
    },
    {
      "cell_type": "code",
      "source": [
        "postText.head()"
      ],
      "metadata": {
        "id": "bAR0lN4f3cW3",
        "colab": {
          "base_uri": "https://localhost:8080/"
        },
        "outputId": "39692425-9528-4bac-a821-e30a31361c5c"
      },
      "execution_count": null,
      "outputs": [
        {
          "output_type": "execute_result",
          "data": {
            "text/plain": [
              "0    [\"Apple's iOS 9 'App thinning' feature will gi...\n",
              "1    ['RT @kenbrown12: Emerging market investors ar...\n",
              "2    ['U.S. Soccer should start answering tough que...\n",
              "3    ['How theme parks like Disney World left the m...\n",
              "4    ['Could light bulbs hurt your health? One comp...\n",
              "Name: postText, dtype: object"
            ]
          },
          "metadata": {},
          "execution_count": 75
        }
      ]
    },
    {
      "cell_type": "code",
      "source": [
        "type(postText)"
      ],
      "metadata": {
        "id": "7fBnpQ_G3caA",
        "colab": {
          "base_uri": "https://localhost:8080/"
        },
        "outputId": "507875e6-40ef-4032-a6df-669430495c6e"
      },
      "execution_count": null,
      "outputs": [
        {
          "output_type": "execute_result",
          "data": {
            "text/plain": [
              "pandas.core.series.Series"
            ]
          },
          "metadata": {},
          "execution_count": 76
        }
      ]
    },
    {
      "cell_type": "code",
      "source": [
        "postText[0]"
      ],
      "metadata": {
        "id": "Vgz8Xgul3cc3",
        "colab": {
          "base_uri": "https://localhost:8080/",
          "height": 36
        },
        "outputId": "bad4ea30-fe45-4371-88f0-6273c88efa92"
      },
      "execution_count": null,
      "outputs": [
        {
          "output_type": "execute_result",
          "data": {
            "text/plain": [
              "'[\"Apple\\'s iOS 9 \\'App thinning\\' feature will give your phone\\'s storage a boost\"]'"
            ],
            "application/vnd.google.colaboratory.intrinsic+json": {
              "type": "string"
            }
          },
          "metadata": {},
          "execution_count": 77
        }
      ]
    },
    {
      "cell_type": "code",
      "source": [
        "def preProcess(s):\n",
        "  l = []\n",
        "  for item in s:\n",
        "    if(type(item)==str):\n",
        "      item = item.replace('[\"','')\n",
        "      item = item.replace('\"]','')\n",
        "      item = item.replace(\"']\",'')\n",
        "      item = item.replace(\"['\",'')\n",
        "    l.append(item)\n",
        "  return l"
      ],
      "metadata": {
        "id": "FPrNjWCK3cfy"
      },
      "execution_count": null,
      "outputs": []
    },
    {
      "cell_type": "code",
      "source": [
        "postText[0]"
      ],
      "metadata": {
        "colab": {
          "base_uri": "https://localhost:8080/",
          "height": 36
        },
        "id": "zChXDE7Hv3yE",
        "outputId": "94c2cfaa-73c9-43bb-956b-4c0fe4751f03"
      },
      "execution_count": null,
      "outputs": [
        {
          "output_type": "execute_result",
          "data": {
            "text/plain": [
              "'[\"Apple\\'s iOS 9 \\'App thinning\\' feature will give your phone\\'s storage a boost\"]'"
            ],
            "application/vnd.google.colaboratory.intrinsic+json": {
              "type": "string"
            }
          },
          "metadata": {},
          "execution_count": 79
        }
      ]
    },
    {
      "cell_type": "code",
      "source": [
        "dataset[\"postText\"] = pd.DataFrame(preProcess(dataset[\"postText\"]))"
      ],
      "metadata": {
        "id": "jO9ks-0m3cip"
      },
      "execution_count": null,
      "outputs": []
    },
    {
      "cell_type": "code",
      "source": [
        "postText[0]"
      ],
      "metadata": {
        "colab": {
          "base_uri": "https://localhost:8080/",
          "height": 36
        },
        "id": "FYtxCzkgwAyi",
        "outputId": "a67b7036-5e93-408c-f3f0-75f51ec9d315"
      },
      "execution_count": null,
      "outputs": [
        {
          "output_type": "execute_result",
          "data": {
            "text/plain": [
              "'[\"Apple\\'s iOS 9 \\'App thinning\\' feature will give your phone\\'s storage a boost\"]'"
            ],
            "application/vnd.google.colaboratory.intrinsic+json": {
              "type": "string"
            }
          },
          "metadata": {},
          "execution_count": 81
        }
      ]
    },
    {
      "cell_type": "code",
      "source": [
        "dataset.head()"
      ],
      "metadata": {
        "id": "xNXbgWek3cps",
        "colab": {
          "base_uri": "https://localhost:8080/",
          "height": 617
        },
        "outputId": "cf67d953-3127-44e7-cb83-1223173819d7"
      },
      "execution_count": null,
      "outputs": [
        {
          "output_type": "execute_result",
          "data": {
            "text/plain": [
              "   Unnamed: 0                  id                   postTimestamp  \\\n",
              "0           0  608310377143799810  Tue Jun 09 16:31:10 +0000 2015   \n",
              "1           1  609297109095972864  Fri Jun 12 09:52:05 +0000 2015   \n",
              "2           2  609504474621612032  Fri Jun 12 23:36:05 +0000 2015   \n",
              "3           3  609748367049105409  Sat Jun 13 15:45:13 +0000 2015   \n",
              "4           4  608688782821453825  Wed Jun 10 17:34:49 +0000 2015   \n",
              "\n",
              "                                            postText  \\\n",
              "0  Apple's iOS 9 'App thinning' feature will give...   \n",
              "1  RT @kenbrown12: Emerging market investors are ...   \n",
              "2  U.S. Soccer should start answering tough quest...   \n",
              "3  How theme parks like Disney World left the mid...   \n",
              "4  Could light bulbs hurt your health? One compan...   \n",
              "\n",
              "                          postMedia  \\\n",
              "0                                []   \n",
              "1  ['media/609297109095972864.jpg']   \n",
              "2                                []   \n",
              "3                                []   \n",
              "4  ['media/608688782821453825.jpg']   \n",
              "\n",
              "                                         targetTitle  \\\n",
              "0  Apple gives back gigabytes: iOS 9 'app thinnin...   \n",
              "1  Emerging Markets Suffer Largest Outflow in Sev...   \n",
              "2  U.S. Soccer should start answering tough quest...   \n",
              "3  How theme parks like Disney World left the mid...   \n",
              "4                 Warning labels on your light bulbs   \n",
              "\n",
              "                                   targetDescription  \\\n",
              "0  'App thinning' will be supported on Apple's iO...   \n",
              "1  Global investors have yanked $9.3 billion from...   \n",
              "2  A U.S. Senator's scathing letter questioned U....   \n",
              "3  America's top family vacation spots, like the ...   \n",
              "4  One company will put a health notice on all th...   \n",
              "\n",
              "                                      targetKeywords  \\\n",
              "0  Apple,gives,gigabytes,iOS,9,app,thinning,featu...   \n",
              "1  emerging market,emerging markets,em flows,em i...   \n",
              "2                                                NaN   \n",
              "3  disney, disney world, disney ticket prices, di...   \n",
              "4  health, Should there be warning labels on your...   \n",
              "\n",
              "                                    targetParagraphs  \\\n",
              "0  [\"Paying for a 64GB phone only to discover tha...   \n",
              "1  ['Emerging markets are out of favor.', 'Global...   \n",
              "2  [\"WINNIPEG, Manitoba – The bubble U.S. Soccer ...   \n",
              "3  ['When Walt Disney World opened in an Orlando ...   \n",
              "4  [\"(CNN)The light bulb always makes the world's...   \n",
              "\n",
              "                                      targetCaptions  \n",
              "0  [\"'App thinning' will be supported on Apple's ...  \n",
              "1  ['Stocks Fall as Investors Watch Central Banks...  \n",
              "2  ['US to vote for Ali in FIFA election and not ...  \n",
              "3  ['Some 1,000 persons turned out in Albuquerque...  \n",
              "4  ['Electric lights have made the world safer an...  "
            ],
            "text/html": [
              "\n",
              "  <div id=\"df-91c79705-c8cb-4b9e-a90d-639d63b7c4fe\">\n",
              "    <div class=\"colab-df-container\">\n",
              "      <div>\n",
              "<style scoped>\n",
              "    .dataframe tbody tr th:only-of-type {\n",
              "        vertical-align: middle;\n",
              "    }\n",
              "\n",
              "    .dataframe tbody tr th {\n",
              "        vertical-align: top;\n",
              "    }\n",
              "\n",
              "    .dataframe thead th {\n",
              "        text-align: right;\n",
              "    }\n",
              "</style>\n",
              "<table border=\"1\" class=\"dataframe\">\n",
              "  <thead>\n",
              "    <tr style=\"text-align: right;\">\n",
              "      <th></th>\n",
              "      <th>Unnamed: 0</th>\n",
              "      <th>id</th>\n",
              "      <th>postTimestamp</th>\n",
              "      <th>postText</th>\n",
              "      <th>postMedia</th>\n",
              "      <th>targetTitle</th>\n",
              "      <th>targetDescription</th>\n",
              "      <th>targetKeywords</th>\n",
              "      <th>targetParagraphs</th>\n",
              "      <th>targetCaptions</th>\n",
              "    </tr>\n",
              "  </thead>\n",
              "  <tbody>\n",
              "    <tr>\n",
              "      <th>0</th>\n",
              "      <td>0</td>\n",
              "      <td>608310377143799810</td>\n",
              "      <td>Tue Jun 09 16:31:10 +0000 2015</td>\n",
              "      <td>Apple's iOS 9 'App thinning' feature will give...</td>\n",
              "      <td>[]</td>\n",
              "      <td>Apple gives back gigabytes: iOS 9 'app thinnin...</td>\n",
              "      <td>'App thinning' will be supported on Apple's iO...</td>\n",
              "      <td>Apple,gives,gigabytes,iOS,9,app,thinning,featu...</td>\n",
              "      <td>[\"Paying for a 64GB phone only to discover tha...</td>\n",
              "      <td>[\"'App thinning' will be supported on Apple's ...</td>\n",
              "    </tr>\n",
              "    <tr>\n",
              "      <th>1</th>\n",
              "      <td>1</td>\n",
              "      <td>609297109095972864</td>\n",
              "      <td>Fri Jun 12 09:52:05 +0000 2015</td>\n",
              "      <td>RT @kenbrown12: Emerging market investors are ...</td>\n",
              "      <td>['media/609297109095972864.jpg']</td>\n",
              "      <td>Emerging Markets Suffer Largest Outflow in Sev...</td>\n",
              "      <td>Global investors have yanked $9.3 billion from...</td>\n",
              "      <td>emerging market,emerging markets,em flows,em i...</td>\n",
              "      <td>['Emerging markets are out of favor.', 'Global...</td>\n",
              "      <td>['Stocks Fall as Investors Watch Central Banks...</td>\n",
              "    </tr>\n",
              "    <tr>\n",
              "      <th>2</th>\n",
              "      <td>2</td>\n",
              "      <td>609504474621612032</td>\n",
              "      <td>Fri Jun 12 23:36:05 +0000 2015</td>\n",
              "      <td>U.S. Soccer should start answering tough quest...</td>\n",
              "      <td>[]</td>\n",
              "      <td>U.S. Soccer should start answering tough quest...</td>\n",
              "      <td>A U.S. Senator's scathing letter questioned U....</td>\n",
              "      <td>NaN</td>\n",
              "      <td>[\"WINNIPEG, Manitoba – The bubble U.S. Soccer ...</td>\n",
              "      <td>['US to vote for Ali in FIFA election and not ...</td>\n",
              "    </tr>\n",
              "    <tr>\n",
              "      <th>3</th>\n",
              "      <td>3</td>\n",
              "      <td>609748367049105409</td>\n",
              "      <td>Sat Jun 13 15:45:13 +0000 2015</td>\n",
              "      <td>How theme parks like Disney World left the mid...</td>\n",
              "      <td>[]</td>\n",
              "      <td>How theme parks like Disney World left the mid...</td>\n",
              "      <td>America's top family vacation spots, like the ...</td>\n",
              "      <td>disney, disney world, disney ticket prices, di...</td>\n",
              "      <td>['When Walt Disney World opened in an Orlando ...</td>\n",
              "      <td>['Some 1,000 persons turned out in Albuquerque...</td>\n",
              "    </tr>\n",
              "    <tr>\n",
              "      <th>4</th>\n",
              "      <td>4</td>\n",
              "      <td>608688782821453825</td>\n",
              "      <td>Wed Jun 10 17:34:49 +0000 2015</td>\n",
              "      <td>Could light bulbs hurt your health? One compan...</td>\n",
              "      <td>['media/608688782821453825.jpg']</td>\n",
              "      <td>Warning labels on your light bulbs</td>\n",
              "      <td>One company will put a health notice on all th...</td>\n",
              "      <td>health, Should there be warning labels on your...</td>\n",
              "      <td>[\"(CNN)The light bulb always makes the world's...</td>\n",
              "      <td>['Electric lights have made the world safer an...</td>\n",
              "    </tr>\n",
              "  </tbody>\n",
              "</table>\n",
              "</div>\n",
              "      <button class=\"colab-df-convert\" onclick=\"convertToInteractive('df-91c79705-c8cb-4b9e-a90d-639d63b7c4fe')\"\n",
              "              title=\"Convert this dataframe to an interactive table.\"\n",
              "              style=\"display:none;\">\n",
              "        \n",
              "  <svg xmlns=\"http://www.w3.org/2000/svg\" height=\"24px\"viewBox=\"0 0 24 24\"\n",
              "       width=\"24px\">\n",
              "    <path d=\"M0 0h24v24H0V0z\" fill=\"none\"/>\n",
              "    <path d=\"M18.56 5.44l.94 2.06.94-2.06 2.06-.94-2.06-.94-.94-2.06-.94 2.06-2.06.94zm-11 1L8.5 8.5l.94-2.06 2.06-.94-2.06-.94L8.5 2.5l-.94 2.06-2.06.94zm10 10l.94 2.06.94-2.06 2.06-.94-2.06-.94-.94-2.06-.94 2.06-2.06.94z\"/><path d=\"M17.41 7.96l-1.37-1.37c-.4-.4-.92-.59-1.43-.59-.52 0-1.04.2-1.43.59L10.3 9.45l-7.72 7.72c-.78.78-.78 2.05 0 2.83L4 21.41c.39.39.9.59 1.41.59.51 0 1.02-.2 1.41-.59l7.78-7.78 2.81-2.81c.8-.78.8-2.07 0-2.86zM5.41 20L4 18.59l7.72-7.72 1.47 1.35L5.41 20z\"/>\n",
              "  </svg>\n",
              "      </button>\n",
              "      \n",
              "  <style>\n",
              "    .colab-df-container {\n",
              "      display:flex;\n",
              "      flex-wrap:wrap;\n",
              "      gap: 12px;\n",
              "    }\n",
              "\n",
              "    .colab-df-convert {\n",
              "      background-color: #E8F0FE;\n",
              "      border: none;\n",
              "      border-radius: 50%;\n",
              "      cursor: pointer;\n",
              "      display: none;\n",
              "      fill: #1967D2;\n",
              "      height: 32px;\n",
              "      padding: 0 0 0 0;\n",
              "      width: 32px;\n",
              "    }\n",
              "\n",
              "    .colab-df-convert:hover {\n",
              "      background-color: #E2EBFA;\n",
              "      box-shadow: 0px 1px 2px rgba(60, 64, 67, 0.3), 0px 1px 3px 1px rgba(60, 64, 67, 0.15);\n",
              "      fill: #174EA6;\n",
              "    }\n",
              "\n",
              "    [theme=dark] .colab-df-convert {\n",
              "      background-color: #3B4455;\n",
              "      fill: #D2E3FC;\n",
              "    }\n",
              "\n",
              "    [theme=dark] .colab-df-convert:hover {\n",
              "      background-color: #434B5C;\n",
              "      box-shadow: 0px 1px 3px 1px rgba(0, 0, 0, 0.15);\n",
              "      filter: drop-shadow(0px 1px 2px rgba(0, 0, 0, 0.3));\n",
              "      fill: #FFFFFF;\n",
              "    }\n",
              "  </style>\n",
              "\n",
              "      <script>\n",
              "        const buttonEl =\n",
              "          document.querySelector('#df-91c79705-c8cb-4b9e-a90d-639d63b7c4fe button.colab-df-convert');\n",
              "        buttonEl.style.display =\n",
              "          google.colab.kernel.accessAllowed ? 'block' : 'none';\n",
              "\n",
              "        async function convertToInteractive(key) {\n",
              "          const element = document.querySelector('#df-91c79705-c8cb-4b9e-a90d-639d63b7c4fe');\n",
              "          const dataTable =\n",
              "            await google.colab.kernel.invokeFunction('convertToInteractive',\n",
              "                                                     [key], {});\n",
              "          if (!dataTable) return;\n",
              "\n",
              "          const docLinkHtml = 'Like what you see? Visit the ' +\n",
              "            '<a target=\"_blank\" href=https://colab.research.google.com/notebooks/data_table.ipynb>data table notebook</a>'\n",
              "            + ' to learn more about interactive tables.';\n",
              "          element.innerHTML = '';\n",
              "          dataTable['output_type'] = 'display_data';\n",
              "          await google.colab.output.renderOutput(dataTable, element);\n",
              "          const docLink = document.createElement('div');\n",
              "          docLink.innerHTML = docLinkHtml;\n",
              "          element.appendChild(docLink);\n",
              "        }\n",
              "      </script>\n",
              "    </div>\n",
              "  </div>\n",
              "  "
            ]
          },
          "metadata": {},
          "execution_count": 82
        }
      ]
    },
    {
      "cell_type": "code",
      "source": [
        "postText.tail(10)"
      ],
      "metadata": {
        "id": "OWg3ypjZ3csb",
        "colab": {
          "base_uri": "https://localhost:8080/"
        },
        "outputId": "789e24fd-85e9-4220-cf7a-947b320535ae"
      },
      "execution_count": null,
      "outputs": [
        {
          "output_type": "execute_result",
          "data": {
            "text/plain": [
              "2449    [\"Restaurant won't apologize for tasteless Cai...\n",
              "2450    ['As a BASE jumper leaped, his girlfriend snap...\n",
              "2451    ['Scott Walker hasn\\'t been to a Bucks game in...\n",
              "2452    ['RT @WNTonight: Grand jury indicts South Caro...\n",
              "2453    ['Women scientists are tweeting \"sexy” photos ...\n",
              "2454    [\"Man who received world's first penis transpl...\n",
              "2455    [\"RT @NYTSports: Abby didn't start, team could...\n",
              "2456    ['Obama defends Affordable Care Act ahead of S...\n",
              "2457    ['New study of the Deflategate report conclude...\n",
              "2458    ['Netflix secures rights to Brad Pitt Afghanis...\n",
              "Name: postText, dtype: object"
            ]
          },
          "metadata": {},
          "execution_count": 83
        }
      ]
    },
    {
      "cell_type": "code",
      "source": [
        "import re\n",
        "def remove_emoji(string):\n",
        "    emoji_pattern = re.compile(\"[\"\n",
        "                           u\"\\U0001F600-\\U0001F64F\" # emoticons\n",
        "                           u\"\\U0001F300-\\U0001F5FF\" # symbols & pictographs\n",
        "                           u\"\\U0001F680-\\U0001F6FF\" # transport & map symbols\n",
        "                           u\"\\U0001F1E0-\\U0001F1FF\" # flags (iOS)\n",
        "                           u\"\\U00002702-\\U000027B0\"\n",
        "                           u\"\\U000024C2-\\U0001F251\"\n",
        "                           \"]+\", flags=re.UNICODE)\n",
        "    return emoji_pattern.sub(r'', string)\n",
        "\n",
        "for i in range(len(postText)):\n",
        "  t = remove_emoji(postText[i])\n",
        "  postText[i] = t"
      ],
      "metadata": {
        "colab": {
          "base_uri": "https://localhost:8080/"
        },
        "id": "JN9rT0Wr-qFF",
        "outputId": "053a8c79-428d-49cc-c669-a85f09a2cc4c"
      },
      "execution_count": null,
      "outputs": [
        {
          "output_type": "stream",
          "name": "stderr",
          "text": [
            "<ipython-input-85-68f1f499f48f>:15: SettingWithCopyWarning: \n",
            "A value is trying to be set on a copy of a slice from a DataFrame\n",
            "\n",
            "See the caveats in the documentation: https://pandas.pydata.org/pandas-docs/stable/user_guide/indexing.html#returning-a-view-versus-a-copy\n",
            "  postText[i] = t\n"
          ]
        }
      ]
    },
    {
      "cell_type": "code",
      "source": [
        "postText.head()"
      ],
      "metadata": {
        "colab": {
          "base_uri": "https://localhost:8080/"
        },
        "id": "3dUnZ91S_TOe",
        "outputId": "d3d3e5ea-e35d-4023-da0e-aac7a87fcfa7"
      },
      "execution_count": null,
      "outputs": [
        {
          "output_type": "execute_result",
          "data": {
            "text/plain": [
              "0    [\"Apple's iOS 9 'App thinning' feature will gi...\n",
              "1    ['RT @kenbrown12: Emerging market investors ar...\n",
              "2    ['U.S. Soccer should start answering tough que...\n",
              "3    ['How theme parks like Disney World left the m...\n",
              "4    ['Could light bulbs hurt your health? One comp...\n",
              "Name: postText, dtype: object"
            ]
          },
          "metadata": {},
          "execution_count": 86
        }
      ]
    },
    {
      "cell_type": "code",
      "source": [
        "postText.tail()"
      ],
      "metadata": {
        "colab": {
          "base_uri": "https://localhost:8080/"
        },
        "id": "WEW6txGT1ZOS",
        "outputId": "9495d763-ee5b-4412-8ff5-27a265e994b8"
      },
      "execution_count": null,
      "outputs": [
        {
          "output_type": "execute_result",
          "data": {
            "text/plain": [
              "2454    [\"Man who received world's first penis transpl...\n",
              "2455    [\"RT @NYTSports: Abby didn't start, team could...\n",
              "2456    ['Obama defends Affordable Care Act ahead of S...\n",
              "2457    ['New study of the Deflategate report conclude...\n",
              "2458    ['Netflix secures rights to Brad Pitt Afghanis...\n",
              "Name: postText, dtype: object"
            ]
          },
          "metadata": {},
          "execution_count": 87
        }
      ]
    },
    {
      "cell_type": "code",
      "source": [
        "postText[0]"
      ],
      "metadata": {
        "colab": {
          "base_uri": "https://localhost:8080/",
          "height": 36
        },
        "id": "2DqBIluH1ZS7",
        "outputId": "00b25fde-f9f5-4681-e00d-e0628fe6366f"
      },
      "execution_count": null,
      "outputs": [
        {
          "output_type": "execute_result",
          "data": {
            "text/plain": [
              "'[\"Apple\\'s iOS 9 \\'App thinning\\' feature will give your phone\\'s storage a boost\"]'"
            ],
            "application/vnd.google.colaboratory.intrinsic+json": {
              "type": "string"
            }
          },
          "metadata": {},
          "execution_count": 88
        }
      ]
    },
    {
      "cell_type": "code",
      "source": [
        "df1 = pd.DataFrame()\n",
        "df1[\"id\"] = dataset[\"id\"]"
      ],
      "metadata": {
        "id": "HngjAhdZ3cv-"
      },
      "execution_count": null,
      "outputs": []
    },
    {
      "cell_type": "code",
      "source": [
        "df1[\"Pt_Number of NNP\"] = pd.DataFrame(noNNP(postText))\n",
        "df1[\"Pt_Number of tokens\"] = pd.DataFrame(noTokens(postText))\n",
        "df1[\"Pt_Word length of postText\"] = pd.DataFrame(wordLen(postText))\n",
        "df1[\"Pt_POS 2-gram NNP NNP\"] = pd.DataFrame(NNP_NNPCount(postText))\n",
        "df1[\"Pt_Whether post start with number\"] = pd.DataFrame(startsWithNumber(postText))\n",
        "df1[\"Pt_Average length of words in post\"] = pd.DataFrame(averageLen(postText))\n",
        "df1[\"Pt_Number of IN\"] = pd.DataFrame(INCount(postText))\n",
        "df1[\"Pt_POS 2-gram NNP VBZ\"] = pd.DataFrame(NNP_VBZCount(postText))\n",
        "df1[\"Pt_POS 2-gram IN NNP\"] = pd.DataFrame(IN_NNPCount(postText))\n",
        "df1[\"Pt_Length of the longest word in post text\"] = pd.DataFrame(lenLongestWord(postText))\n",
        "df1[\"Pt_Number of WRB\"] = pd.DataFrame(WRBCount(postText))\n",
        "df1[\"Pt_Count POS pattern WRB\"] = pd.DataFrame(WRB_POSCount(postText))\n",
        "df1[\"Pt_Number of NN\"] = pd.DataFrame(NNCount(postText))\n",
        "df1[\"Pt_Count POS pattern NN\"] = pd.DataFrame(NN_POSCount(postText))\n",
        "df1[\"Pt_Whether post text start with 5W1H\"] = pd.DataFrame(startsWith5WH(postText))\n",
        "df1[\"Pt_Whether exists QM\"] = pd.DataFrame(questionMark(postText))\n",
        "df1[\"Pt_Count POS pattern this/these NN\"] = pd.DataFrame(this_these_NN_POSCount(postText))\n",
        "df1[\"Pt_Count POS pattern PRP\"] = pd.DataFrame(PRP_POSCount(postText))\n",
        "df1[\"Pt_Number of PRP\"] = pd.DataFrame(PRPCount(postText))\n",
        "df1[\"Pt_Number of VBZ\"] = pd.DataFrame(VBZCount(postText))\n",
        "df1[\"Pt_POS 3-gram NNP NNP VBZ\"] = pd.DataFrame(NNP_NNP_VBZCount(postText))\n",
        "df1[\"Pt_POS 2-gram NN IN\"] = pd.DataFrame(NN_INCount(postText))\n",
        "df1[\"Pt_POS 3-gram NN IN NNP\"] = pd.DataFrame(NN_IN_NNPCount(postText))\n"
      ],
      "metadata": {
        "id": "qqy0gwTJ1u5-"
      },
      "execution_count": null,
      "outputs": []
    },
    {
      "cell_type": "code",
      "source": [
        "df1.head(0)"
      ],
      "metadata": {
        "colab": {
          "base_uri": "https://localhost:8080/",
          "height": 212
        },
        "id": "dTk-RlTnXpih",
        "outputId": "f239134a-85b9-46aa-be69-d05bd85bad87"
      },
      "execution_count": null,
      "outputs": [
        {
          "output_type": "execute_result",
          "data": {
            "text/plain": [
              "Empty DataFrame\n",
              "Columns: [id, Pt_Number of NNP, Pt_Number of tokens, Pt_Word length of postText, Pt_POS 2-gram NNP NNP, Pt_Whether post start with number, Pt_Average length of words in post, Pt_Number of IN, Pt_POS 2-gram NNP VBZ, Pt_POS 2-gram IN NNP, Pt_Length of the longest word in post text, Pt_Number of WRB, Pt_Count POS pattern WRB, Pt_Number of NN, Pt_Count POS pattern NN, Pt_Whether post text start with 5W1H, Pt_Whether exists QM, Pt_Count POS pattern this/these NN, Pt_Count POS pattern PRP, Pt_Number of PRP, Pt_Number of VBZ, Pt_POS 3-gram NNP NNP VBZ, Pt_POS 2-gram NN IN, Pt_POS 3-gram NN IN NNP]\n",
              "Index: []\n",
              "\n",
              "[0 rows x 24 columns]"
            ],
            "text/html": [
              "\n",
              "  <div id=\"df-47be002b-47ad-45dc-8901-e1e9d1e1e248\">\n",
              "    <div class=\"colab-df-container\">\n",
              "      <div>\n",
              "<style scoped>\n",
              "    .dataframe tbody tr th:only-of-type {\n",
              "        vertical-align: middle;\n",
              "    }\n",
              "\n",
              "    .dataframe tbody tr th {\n",
              "        vertical-align: top;\n",
              "    }\n",
              "\n",
              "    .dataframe thead th {\n",
              "        text-align: right;\n",
              "    }\n",
              "</style>\n",
              "<table border=\"1\" class=\"dataframe\">\n",
              "  <thead>\n",
              "    <tr style=\"text-align: right;\">\n",
              "      <th></th>\n",
              "      <th>id</th>\n",
              "      <th>Pt_Number of NNP</th>\n",
              "      <th>Pt_Number of tokens</th>\n",
              "      <th>Pt_Word length of postText</th>\n",
              "      <th>Pt_POS 2-gram NNP NNP</th>\n",
              "      <th>Pt_Whether post start with number</th>\n",
              "      <th>Pt_Average length of words in post</th>\n",
              "      <th>Pt_Number of IN</th>\n",
              "      <th>Pt_POS 2-gram NNP VBZ</th>\n",
              "      <th>Pt_POS 2-gram IN NNP</th>\n",
              "      <th>...</th>\n",
              "      <th>Pt_Count POS pattern NN</th>\n",
              "      <th>Pt_Whether post text start with 5W1H</th>\n",
              "      <th>Pt_Whether exists QM</th>\n",
              "      <th>Pt_Count POS pattern this/these NN</th>\n",
              "      <th>Pt_Count POS pattern PRP</th>\n",
              "      <th>Pt_Number of PRP</th>\n",
              "      <th>Pt_Number of VBZ</th>\n",
              "      <th>Pt_POS 3-gram NNP NNP VBZ</th>\n",
              "      <th>Pt_POS 2-gram NN IN</th>\n",
              "      <th>Pt_POS 3-gram NN IN NNP</th>\n",
              "    </tr>\n",
              "  </thead>\n",
              "  <tbody>\n",
              "  </tbody>\n",
              "</table>\n",
              "<p>0 rows × 24 columns</p>\n",
              "</div>\n",
              "      <button class=\"colab-df-convert\" onclick=\"convertToInteractive('df-47be002b-47ad-45dc-8901-e1e9d1e1e248')\"\n",
              "              title=\"Convert this dataframe to an interactive table.\"\n",
              "              style=\"display:none;\">\n",
              "        \n",
              "  <svg xmlns=\"http://www.w3.org/2000/svg\" height=\"24px\"viewBox=\"0 0 24 24\"\n",
              "       width=\"24px\">\n",
              "    <path d=\"M0 0h24v24H0V0z\" fill=\"none\"/>\n",
              "    <path d=\"M18.56 5.44l.94 2.06.94-2.06 2.06-.94-2.06-.94-.94-2.06-.94 2.06-2.06.94zm-11 1L8.5 8.5l.94-2.06 2.06-.94-2.06-.94L8.5 2.5l-.94 2.06-2.06.94zm10 10l.94 2.06.94-2.06 2.06-.94-2.06-.94-.94-2.06-.94 2.06-2.06.94z\"/><path d=\"M17.41 7.96l-1.37-1.37c-.4-.4-.92-.59-1.43-.59-.52 0-1.04.2-1.43.59L10.3 9.45l-7.72 7.72c-.78.78-.78 2.05 0 2.83L4 21.41c.39.39.9.59 1.41.59.51 0 1.02-.2 1.41-.59l7.78-7.78 2.81-2.81c.8-.78.8-2.07 0-2.86zM5.41 20L4 18.59l7.72-7.72 1.47 1.35L5.41 20z\"/>\n",
              "  </svg>\n",
              "      </button>\n",
              "      \n",
              "  <style>\n",
              "    .colab-df-container {\n",
              "      display:flex;\n",
              "      flex-wrap:wrap;\n",
              "      gap: 12px;\n",
              "    }\n",
              "\n",
              "    .colab-df-convert {\n",
              "      background-color: #E8F0FE;\n",
              "      border: none;\n",
              "      border-radius: 50%;\n",
              "      cursor: pointer;\n",
              "      display: none;\n",
              "      fill: #1967D2;\n",
              "      height: 32px;\n",
              "      padding: 0 0 0 0;\n",
              "      width: 32px;\n",
              "    }\n",
              "\n",
              "    .colab-df-convert:hover {\n",
              "      background-color: #E2EBFA;\n",
              "      box-shadow: 0px 1px 2px rgba(60, 64, 67, 0.3), 0px 1px 3px 1px rgba(60, 64, 67, 0.15);\n",
              "      fill: #174EA6;\n",
              "    }\n",
              "\n",
              "    [theme=dark] .colab-df-convert {\n",
              "      background-color: #3B4455;\n",
              "      fill: #D2E3FC;\n",
              "    }\n",
              "\n",
              "    [theme=dark] .colab-df-convert:hover {\n",
              "      background-color: #434B5C;\n",
              "      box-shadow: 0px 1px 3px 1px rgba(0, 0, 0, 0.15);\n",
              "      filter: drop-shadow(0px 1px 2px rgba(0, 0, 0, 0.3));\n",
              "      fill: #FFFFFF;\n",
              "    }\n",
              "  </style>\n",
              "\n",
              "      <script>\n",
              "        const buttonEl =\n",
              "          document.querySelector('#df-47be002b-47ad-45dc-8901-e1e9d1e1e248 button.colab-df-convert');\n",
              "        buttonEl.style.display =\n",
              "          google.colab.kernel.accessAllowed ? 'block' : 'none';\n",
              "\n",
              "        async function convertToInteractive(key) {\n",
              "          const element = document.querySelector('#df-47be002b-47ad-45dc-8901-e1e9d1e1e248');\n",
              "          const dataTable =\n",
              "            await google.colab.kernel.invokeFunction('convertToInteractive',\n",
              "                                                     [key], {});\n",
              "          if (!dataTable) return;\n",
              "\n",
              "          const docLinkHtml = 'Like what you see? Visit the ' +\n",
              "            '<a target=\"_blank\" href=https://colab.research.google.com/notebooks/data_table.ipynb>data table notebook</a>'\n",
              "            + ' to learn more about interactive tables.';\n",
              "          element.innerHTML = '';\n",
              "          dataTable['output_type'] = 'display_data';\n",
              "          await google.colab.output.renderOutput(dataTable, element);\n",
              "          const docLink = document.createElement('div');\n",
              "          docLink.innerHTML = docLinkHtml;\n",
              "          element.appendChild(docLink);\n",
              "        }\n",
              "      </script>\n",
              "    </div>\n",
              "  </div>\n",
              "  "
            ]
          },
          "metadata": {},
          "execution_count": 91
        }
      ]
    },
    {
      "cell_type": "code",
      "source": [
        "df1.shape"
      ],
      "metadata": {
        "colab": {
          "base_uri": "https://localhost:8080/"
        },
        "id": "SQ4Jy0QoYCfB",
        "outputId": "6df87681-cb6c-456c-b049-674a9e92ec56"
      },
      "execution_count": null,
      "outputs": [
        {
          "output_type": "execute_result",
          "data": {
            "text/plain": [
              "(2459, 57)"
            ]
          },
          "metadata": {},
          "execution_count": 98
        }
      ]
    },
    {
      "cell_type": "code",
      "source": [
        "df1[\"Pt_Ratio of stop words in post text\"] = pd.DataFrame(stopWordsRatio(postText))\n",
        "df1[\"Pt_POS 2-gram NNP\"] = pd.DataFrame(bigram_NNPCount(postText))\n",
        "df1[\"Pt_POS 2-gram PRP VBP\"] = pd.DataFrame(PRP_VBPCount(postText))\n",
        "df1[\"Pt_Count POS pattern WP\"] = pd.DataFrame(WP_POSCount(postText))\n",
        "df1[\"Pt_Number of WP\"] = pd.DataFrame(noWP(postText))\n",
        "df1[\"Pt_Number of DT\"] = pd.DataFrame(DT(postText))\n",
        "df1[\"Pt_Number of NNP IN\"] = pd.DataFrame(NnpIn(postText))\n",
        "df1[\"Pt_Number of IN NNP NNP\"] = pd.DataFrame(In_Nnp_Nnp(postText))\n",
        "df1[\"Pt_POS\"] = pd.DataFrame(POS(postText))\n",
        "df1[\"Pt_Number of IN NN\"] = pd.DataFrame(In_Nn(postText))\n",
        "df1[\"Pt_Number of Semi-Delimeter\"] = pd.DataFrame(SemiDelimeter(postText))\n",
        "df1[\"Pt_Number of NNP NNS\"] = pd.DataFrame(Nnp_Nns(postText))\n",
        "df1[\"Pt_Number of IN JJ\"] = pd.DataFrame(In_Jj(postText))\n",
        "df1[\"Pt_Number of NNP POS\"] = pd.DataFrame(Nnp_Pos(postText))\n",
        "df1[\"Pt_Number of WDT\"] = pd.DataFrame(Wdt(postText))\n",
        "df1[\"Pt_Number of WDT POS\"] = pd.DataFrame(Wdt_Pos(postText))\n",
        "df1[\"Pt_Number of NN NN\"] = pd.DataFrame(Nn_Nn(postText))\n",
        "df1[\"Pt_Number of NN NNP\"] = pd.DataFrame(Nn_Nnp(postText))\n",
        "df1[\"Pt_Number of NNP VBD\"] = pd.DataFrame(Nnp_Vbd(postText))\n",
        "df1[\"Pt_Number of RB POS\"] = pd.DataFrame(Rb_Pos(postText))\n",
        "df1[\"Pt_Number of DT POS\"] = pd.DataFrame(Dt_Pos(postText))\n",
        "df1[\"Pt_Number of Rb\"] = pd.DataFrame(Rb(postText))\n",
        "df1[\"Pt_Number of NNP NNP NNP\"] = pd.DataFrame(Nnp_Nnp_Nnp(postText))\n",
        "df1[\"Pt_Number of NNP NNP NN\"] = pd.DataFrame(Nnp_Nnp_Nn(postText))\n",
        "df1[\"Pt_Number of Rbs\"] = pd.DataFrame(Rbs(postText))\n",
        "df1[\"Pt_Number of VBN\"] = pd.DataFrame(Vbn(postText))\n",
        "df1[\"Pt_Number of VBN IN\"] = pd.DataFrame(Vbn_In(postText))\n",
        "df1[\"Pt_Number of CD NP VB\"] = pd.DataFrame(Cd_Np_Vb(postText))\n",
        "df1[\"Pt_Number of JJ NNP\"] = pd.DataFrame(Jj_Nnp(postText))\n",
        "df1[\"Pt_Number of NNP NN NN\"] = pd.DataFrame(Nnp_Nn_Nn(postText))\n",
        "df1[\"Pt_Number of DT NN\"] = pd.DataFrame(Dt_Nn(postText))\n",
        "df1[\"Pt_Existance of EX\"] = pd.DataFrame(Ex(postText))\n",
        "\n",
        "\n"
      ],
      "metadata": {
        "id": "c12FjE6t1u99"
      },
      "execution_count": null,
      "outputs": []
    },
    {
      "cell_type": "code",
      "source": [
        "df1[\"Pt_Readability of postText\"]= pd.DataFrame(read_single_text(postText))"
      ],
      "metadata": {
        "id": "1HGWZtsSuyK8"
      },
      "execution_count": null,
      "outputs": []
    },
    {
      "cell_type": "code",
      "source": [
        "df1[\"Pt_Readability of postText\"]"
      ],
      "metadata": {
        "colab": {
          "base_uri": "https://localhost:8080/"
        },
        "id": "5164dp7Fkwek",
        "outputId": "6fe92e05-540a-4847-e2c1-1fd68f41f13e"
      },
      "execution_count": null,
      "outputs": [
        {
          "output_type": "execute_result",
          "data": {
            "text/plain": [
              "0       83.66\n",
              "1       65.73\n",
              "2       59.30\n",
              "3       85.69\n",
              "4       88.74\n",
              "        ...  \n",
              "2454    68.77\n",
              "2455    72.83\n",
              "2456    61.33\n",
              "2457    74.19\n",
              "2458    96.18\n",
              "Name: Pt_Readability of postText, Length: 2459, dtype: float64"
            ]
          },
          "metadata": {},
          "execution_count": 95
        }
      ]
    },
    {
      "cell_type": "code",
      "source": [
        "df1[\"Pt_Ratio of stop words in post text\"] = pd.DataFrame(stopWordsRatio(postText))"
      ],
      "metadata": {
        "id": "-j9CfC3ilREh"
      },
      "execution_count": null,
      "outputs": []
    },
    {
      "cell_type": "code",
      "source": [
        "df1.head()"
      ],
      "metadata": {
        "id": "Frk5kPgslQs9",
        "colab": {
          "base_uri": "https://localhost:8080/",
          "height": 351
        },
        "outputId": "b3991976-5016-4a7f-deca-3e5588c311c8"
      },
      "execution_count": null,
      "outputs": [
        {
          "output_type": "execute_result",
          "data": {
            "text/plain": [
              "                   id  Pt_Number of NNP  Pt_Number of tokens  \\\n",
              "0  608310377143799810                 1                   20   \n",
              "1  609297109095972864                 1                   24   \n",
              "2  609504474621612032                 5                   20   \n",
              "3  609748367049105409                 2                   14   \n",
              "4  608688782821453825                 0                   21   \n",
              "\n",
              "   Pt_Word length of postText  Pt_POS 2-gram NNP NNP  \\\n",
              "0                          13                      0   \n",
              "1                          14                      0   \n",
              "2                          12                      1   \n",
              "3                          11                      1   \n",
              "4                          16                      0   \n",
              "\n",
              "   Pt_Whether post start with number  Pt_Average length of words in post  \\\n",
              "0                                  0                                5.15   \n",
              "1                                  0                                6.36   \n",
              "2                                  0                                6.83   \n",
              "3                                  0                                5.09   \n",
              "4                                  0                                5.00   \n",
              "\n",
              "   Pt_Number of IN  Pt_POS 2-gram NNP VBZ  Pt_POS 2-gram IN NNP  ...  \\\n",
              "0                1                      0                     0  ...   \n",
              "1                0                      0                     0  ...   \n",
              "2                1                      0                     1  ...   \n",
              "3                2                      0                     1  ...   \n",
              "4                1                      0                     0  ...   \n",
              "\n",
              "   Pt_Number of NNP NNP NN  Pt_Number of Rbs  Pt_Number of VBN  \\\n",
              "0                        0                 0                 0   \n",
              "1                        0                 0                 0   \n",
              "2                        0                 0                 0   \n",
              "3                        0                 0                 0   \n",
              "4                        0                 0                 0   \n",
              "\n",
              "   Pt_Number of VBN IN  Pt_Number of CD NP VB  Pt_Number of JJ NNP  \\\n",
              "0                    0                      0                    0   \n",
              "1                    0                      0                    0   \n",
              "2                    0                      0                    0   \n",
              "3                    0                      0                    0   \n",
              "4                    0                      0                    0   \n",
              "\n",
              "   Pt_Number of NNP NN NN  Pt_Number of DT NN  Pt_Existance of EX  \\\n",
              "0                       0                   1                   0   \n",
              "1                       0                   0                   0   \n",
              "2                       0                   0                   0   \n",
              "3                       0                   1                   0   \n",
              "4                       0                   0                   0   \n",
              "\n",
              "   Pt_Readability of postText  \n",
              "0                       83.66  \n",
              "1                       65.73  \n",
              "2                       59.30  \n",
              "3                       85.69  \n",
              "4                       88.74  \n",
              "\n",
              "[5 rows x 57 columns]"
            ],
            "text/html": [
              "\n",
              "  <div id=\"df-0432306f-d1a8-4b0c-867d-0b2ee8804845\">\n",
              "    <div class=\"colab-df-container\">\n",
              "      <div>\n",
              "<style scoped>\n",
              "    .dataframe tbody tr th:only-of-type {\n",
              "        vertical-align: middle;\n",
              "    }\n",
              "\n",
              "    .dataframe tbody tr th {\n",
              "        vertical-align: top;\n",
              "    }\n",
              "\n",
              "    .dataframe thead th {\n",
              "        text-align: right;\n",
              "    }\n",
              "</style>\n",
              "<table border=\"1\" class=\"dataframe\">\n",
              "  <thead>\n",
              "    <tr style=\"text-align: right;\">\n",
              "      <th></th>\n",
              "      <th>id</th>\n",
              "      <th>Pt_Number of NNP</th>\n",
              "      <th>Pt_Number of tokens</th>\n",
              "      <th>Pt_Word length of postText</th>\n",
              "      <th>Pt_POS 2-gram NNP NNP</th>\n",
              "      <th>Pt_Whether post start with number</th>\n",
              "      <th>Pt_Average length of words in post</th>\n",
              "      <th>Pt_Number of IN</th>\n",
              "      <th>Pt_POS 2-gram NNP VBZ</th>\n",
              "      <th>Pt_POS 2-gram IN NNP</th>\n",
              "      <th>...</th>\n",
              "      <th>Pt_Number of NNP NNP NN</th>\n",
              "      <th>Pt_Number of Rbs</th>\n",
              "      <th>Pt_Number of VBN</th>\n",
              "      <th>Pt_Number of VBN IN</th>\n",
              "      <th>Pt_Number of CD NP VB</th>\n",
              "      <th>Pt_Number of JJ NNP</th>\n",
              "      <th>Pt_Number of NNP NN NN</th>\n",
              "      <th>Pt_Number of DT NN</th>\n",
              "      <th>Pt_Existance of EX</th>\n",
              "      <th>Pt_Readability of postText</th>\n",
              "    </tr>\n",
              "  </thead>\n",
              "  <tbody>\n",
              "    <tr>\n",
              "      <th>0</th>\n",
              "      <td>608310377143799810</td>\n",
              "      <td>1</td>\n",
              "      <td>20</td>\n",
              "      <td>13</td>\n",
              "      <td>0</td>\n",
              "      <td>0</td>\n",
              "      <td>5.15</td>\n",
              "      <td>1</td>\n",
              "      <td>0</td>\n",
              "      <td>0</td>\n",
              "      <td>...</td>\n",
              "      <td>0</td>\n",
              "      <td>0</td>\n",
              "      <td>0</td>\n",
              "      <td>0</td>\n",
              "      <td>0</td>\n",
              "      <td>0</td>\n",
              "      <td>0</td>\n",
              "      <td>1</td>\n",
              "      <td>0</td>\n",
              "      <td>83.66</td>\n",
              "    </tr>\n",
              "    <tr>\n",
              "      <th>1</th>\n",
              "      <td>609297109095972864</td>\n",
              "      <td>1</td>\n",
              "      <td>24</td>\n",
              "      <td>14</td>\n",
              "      <td>0</td>\n",
              "      <td>0</td>\n",
              "      <td>6.36</td>\n",
              "      <td>0</td>\n",
              "      <td>0</td>\n",
              "      <td>0</td>\n",
              "      <td>...</td>\n",
              "      <td>0</td>\n",
              "      <td>0</td>\n",
              "      <td>0</td>\n",
              "      <td>0</td>\n",
              "      <td>0</td>\n",
              "      <td>0</td>\n",
              "      <td>0</td>\n",
              "      <td>0</td>\n",
              "      <td>0</td>\n",
              "      <td>65.73</td>\n",
              "    </tr>\n",
              "    <tr>\n",
              "      <th>2</th>\n",
              "      <td>609504474621612032</td>\n",
              "      <td>5</td>\n",
              "      <td>20</td>\n",
              "      <td>12</td>\n",
              "      <td>1</td>\n",
              "      <td>0</td>\n",
              "      <td>6.83</td>\n",
              "      <td>1</td>\n",
              "      <td>0</td>\n",
              "      <td>1</td>\n",
              "      <td>...</td>\n",
              "      <td>0</td>\n",
              "      <td>0</td>\n",
              "      <td>0</td>\n",
              "      <td>0</td>\n",
              "      <td>0</td>\n",
              "      <td>0</td>\n",
              "      <td>0</td>\n",
              "      <td>0</td>\n",
              "      <td>0</td>\n",
              "      <td>59.30</td>\n",
              "    </tr>\n",
              "    <tr>\n",
              "      <th>3</th>\n",
              "      <td>609748367049105409</td>\n",
              "      <td>2</td>\n",
              "      <td>14</td>\n",
              "      <td>11</td>\n",
              "      <td>1</td>\n",
              "      <td>0</td>\n",
              "      <td>5.09</td>\n",
              "      <td>2</td>\n",
              "      <td>0</td>\n",
              "      <td>1</td>\n",
              "      <td>...</td>\n",
              "      <td>0</td>\n",
              "      <td>0</td>\n",
              "      <td>0</td>\n",
              "      <td>0</td>\n",
              "      <td>0</td>\n",
              "      <td>0</td>\n",
              "      <td>0</td>\n",
              "      <td>1</td>\n",
              "      <td>0</td>\n",
              "      <td>85.69</td>\n",
              "    </tr>\n",
              "    <tr>\n",
              "      <th>4</th>\n",
              "      <td>608688782821453825</td>\n",
              "      <td>0</td>\n",
              "      <td>21</td>\n",
              "      <td>16</td>\n",
              "      <td>0</td>\n",
              "      <td>0</td>\n",
              "      <td>5.00</td>\n",
              "      <td>1</td>\n",
              "      <td>0</td>\n",
              "      <td>0</td>\n",
              "      <td>...</td>\n",
              "      <td>0</td>\n",
              "      <td>0</td>\n",
              "      <td>0</td>\n",
              "      <td>0</td>\n",
              "      <td>0</td>\n",
              "      <td>0</td>\n",
              "      <td>0</td>\n",
              "      <td>0</td>\n",
              "      <td>0</td>\n",
              "      <td>88.74</td>\n",
              "    </tr>\n",
              "  </tbody>\n",
              "</table>\n",
              "<p>5 rows × 57 columns</p>\n",
              "</div>\n",
              "      <button class=\"colab-df-convert\" onclick=\"convertToInteractive('df-0432306f-d1a8-4b0c-867d-0b2ee8804845')\"\n",
              "              title=\"Convert this dataframe to an interactive table.\"\n",
              "              style=\"display:none;\">\n",
              "        \n",
              "  <svg xmlns=\"http://www.w3.org/2000/svg\" height=\"24px\"viewBox=\"0 0 24 24\"\n",
              "       width=\"24px\">\n",
              "    <path d=\"M0 0h24v24H0V0z\" fill=\"none\"/>\n",
              "    <path d=\"M18.56 5.44l.94 2.06.94-2.06 2.06-.94-2.06-.94-.94-2.06-.94 2.06-2.06.94zm-11 1L8.5 8.5l.94-2.06 2.06-.94-2.06-.94L8.5 2.5l-.94 2.06-2.06.94zm10 10l.94 2.06.94-2.06 2.06-.94-2.06-.94-.94-2.06-.94 2.06-2.06.94z\"/><path d=\"M17.41 7.96l-1.37-1.37c-.4-.4-.92-.59-1.43-.59-.52 0-1.04.2-1.43.59L10.3 9.45l-7.72 7.72c-.78.78-.78 2.05 0 2.83L4 21.41c.39.39.9.59 1.41.59.51 0 1.02-.2 1.41-.59l7.78-7.78 2.81-2.81c.8-.78.8-2.07 0-2.86zM5.41 20L4 18.59l7.72-7.72 1.47 1.35L5.41 20z\"/>\n",
              "  </svg>\n",
              "      </button>\n",
              "      \n",
              "  <style>\n",
              "    .colab-df-container {\n",
              "      display:flex;\n",
              "      flex-wrap:wrap;\n",
              "      gap: 12px;\n",
              "    }\n",
              "\n",
              "    .colab-df-convert {\n",
              "      background-color: #E8F0FE;\n",
              "      border: none;\n",
              "      border-radius: 50%;\n",
              "      cursor: pointer;\n",
              "      display: none;\n",
              "      fill: #1967D2;\n",
              "      height: 32px;\n",
              "      padding: 0 0 0 0;\n",
              "      width: 32px;\n",
              "    }\n",
              "\n",
              "    .colab-df-convert:hover {\n",
              "      background-color: #E2EBFA;\n",
              "      box-shadow: 0px 1px 2px rgba(60, 64, 67, 0.3), 0px 1px 3px 1px rgba(60, 64, 67, 0.15);\n",
              "      fill: #174EA6;\n",
              "    }\n",
              "\n",
              "    [theme=dark] .colab-df-convert {\n",
              "      background-color: #3B4455;\n",
              "      fill: #D2E3FC;\n",
              "    }\n",
              "\n",
              "    [theme=dark] .colab-df-convert:hover {\n",
              "      background-color: #434B5C;\n",
              "      box-shadow: 0px 1px 3px 1px rgba(0, 0, 0, 0.15);\n",
              "      filter: drop-shadow(0px 1px 2px rgba(0, 0, 0, 0.3));\n",
              "      fill: #FFFFFF;\n",
              "    }\n",
              "  </style>\n",
              "\n",
              "      <script>\n",
              "        const buttonEl =\n",
              "          document.querySelector('#df-0432306f-d1a8-4b0c-867d-0b2ee8804845 button.colab-df-convert');\n",
              "        buttonEl.style.display =\n",
              "          google.colab.kernel.accessAllowed ? 'block' : 'none';\n",
              "\n",
              "        async function convertToInteractive(key) {\n",
              "          const element = document.querySelector('#df-0432306f-d1a8-4b0c-867d-0b2ee8804845');\n",
              "          const dataTable =\n",
              "            await google.colab.kernel.invokeFunction('convertToInteractive',\n",
              "                                                     [key], {});\n",
              "          if (!dataTable) return;\n",
              "\n",
              "          const docLinkHtml = 'Like what you see? Visit the ' +\n",
              "            '<a target=\"_blank\" href=https://colab.research.google.com/notebooks/data_table.ipynb>data table notebook</a>'\n",
              "            + ' to learn more about interactive tables.';\n",
              "          element.innerHTML = '';\n",
              "          dataTable['output_type'] = 'display_data';\n",
              "          await google.colab.output.renderOutput(dataTable, element);\n",
              "          const docLink = document.createElement('div');\n",
              "          docLink.innerHTML = docLinkHtml;\n",
              "          element.appendChild(docLink);\n",
              "        }\n",
              "      </script>\n",
              "    </div>\n",
              "  </div>\n",
              "  "
            ]
          },
          "metadata": {},
          "execution_count": 97
        }
      ]
    },
    {
      "cell_type": "code",
      "source": [
        "df1.to_csv(\"/content/drive/MyDrive/nlp/Model/csv/postText.csv\",index=False)"
      ],
      "metadata": {
        "id": "lpO8TIIeMcHB"
      },
      "execution_count": null,
      "outputs": []
    },
    {
      "cell_type": "code",
      "source": [
        "dataset = pd.read_csv(\"/content/drive/MyDrive/nlp/Model/csv/postText.csv\")"
      ],
      "metadata": {
        "id": "99mCuYeuZgi4"
      },
      "execution_count": null,
      "outputs": []
    },
    {
      "cell_type": "code",
      "source": [
        "dataset.head()"
      ],
      "metadata": {
        "colab": {
          "base_uri": "https://localhost:8080/",
          "height": 351
        },
        "id": "B_ry9j3kZo88",
        "outputId": "e7d14583-0dfa-431f-dbdb-1dc33d65227e"
      },
      "execution_count": null,
      "outputs": [
        {
          "output_type": "execute_result",
          "data": {
            "text/plain": [
              "                   id  Pt_Number of NNP  Pt_Number of tokens  \\\n",
              "0  608310377143799810                 1                   20   \n",
              "1  609297109095972864                 1                   24   \n",
              "2  609504474621612032                 5                   20   \n",
              "3  609748367049105409                 2                   14   \n",
              "4  608688782821453825                 0                   21   \n",
              "\n",
              "   Pt_Word length of postText  Pt_POS 2-gram NNP NNP  \\\n",
              "0                          13                      0   \n",
              "1                          14                      0   \n",
              "2                          12                      1   \n",
              "3                          11                      1   \n",
              "4                          16                      0   \n",
              "\n",
              "   Pt_Whether post start with number  Pt_Average length of words in post  \\\n",
              "0                                  0                                5.15   \n",
              "1                                  0                                6.36   \n",
              "2                                  0                                6.83   \n",
              "3                                  0                                5.09   \n",
              "4                                  0                                5.00   \n",
              "\n",
              "   Pt_Number of IN  Pt_POS 2-gram NNP VBZ  Pt_POS 2-gram IN NNP  ...  \\\n",
              "0                1                      0                     0  ...   \n",
              "1                0                      0                     0  ...   \n",
              "2                1                      0                     1  ...   \n",
              "3                2                      0                     1  ...   \n",
              "4                1                      0                     0  ...   \n",
              "\n",
              "   Pt_Number of NNP NNP NN  Pt_Number of Rbs  Pt_Number of VBN  \\\n",
              "0                        0                 0                 0   \n",
              "1                        0                 0                 0   \n",
              "2                        0                 0                 0   \n",
              "3                        0                 0                 0   \n",
              "4                        0                 0                 0   \n",
              "\n",
              "   Pt_Number of VBN IN  Pt_Number of CD NP VB  Pt_Number of JJ NNP  \\\n",
              "0                    0                      0                    0   \n",
              "1                    0                      0                    0   \n",
              "2                    0                      0                    0   \n",
              "3                    0                      0                    0   \n",
              "4                    0                      0                    0   \n",
              "\n",
              "   Pt_Number of NNP NN NN  Pt_Number of DT NN  Pt_Existance of EX  \\\n",
              "0                       0                   1                   0   \n",
              "1                       0                   0                   0   \n",
              "2                       0                   0                   0   \n",
              "3                       0                   1                   0   \n",
              "4                       0                   0                   0   \n",
              "\n",
              "   Pt_Readability of postText  \n",
              "0                       83.66  \n",
              "1                       65.73  \n",
              "2                       59.30  \n",
              "3                       85.69  \n",
              "4                       88.74  \n",
              "\n",
              "[5 rows x 57 columns]"
            ],
            "text/html": [
              "\n",
              "  <div id=\"df-756adbf1-d881-42a3-b578-b8962503593e\">\n",
              "    <div class=\"colab-df-container\">\n",
              "      <div>\n",
              "<style scoped>\n",
              "    .dataframe tbody tr th:only-of-type {\n",
              "        vertical-align: middle;\n",
              "    }\n",
              "\n",
              "    .dataframe tbody tr th {\n",
              "        vertical-align: top;\n",
              "    }\n",
              "\n",
              "    .dataframe thead th {\n",
              "        text-align: right;\n",
              "    }\n",
              "</style>\n",
              "<table border=\"1\" class=\"dataframe\">\n",
              "  <thead>\n",
              "    <tr style=\"text-align: right;\">\n",
              "      <th></th>\n",
              "      <th>id</th>\n",
              "      <th>Pt_Number of NNP</th>\n",
              "      <th>Pt_Number of tokens</th>\n",
              "      <th>Pt_Word length of postText</th>\n",
              "      <th>Pt_POS 2-gram NNP NNP</th>\n",
              "      <th>Pt_Whether post start with number</th>\n",
              "      <th>Pt_Average length of words in post</th>\n",
              "      <th>Pt_Number of IN</th>\n",
              "      <th>Pt_POS 2-gram NNP VBZ</th>\n",
              "      <th>Pt_POS 2-gram IN NNP</th>\n",
              "      <th>...</th>\n",
              "      <th>Pt_Number of NNP NNP NN</th>\n",
              "      <th>Pt_Number of Rbs</th>\n",
              "      <th>Pt_Number of VBN</th>\n",
              "      <th>Pt_Number of VBN IN</th>\n",
              "      <th>Pt_Number of CD NP VB</th>\n",
              "      <th>Pt_Number of JJ NNP</th>\n",
              "      <th>Pt_Number of NNP NN NN</th>\n",
              "      <th>Pt_Number of DT NN</th>\n",
              "      <th>Pt_Existance of EX</th>\n",
              "      <th>Pt_Readability of postText</th>\n",
              "    </tr>\n",
              "  </thead>\n",
              "  <tbody>\n",
              "    <tr>\n",
              "      <th>0</th>\n",
              "      <td>608310377143799810</td>\n",
              "      <td>1</td>\n",
              "      <td>20</td>\n",
              "      <td>13</td>\n",
              "      <td>0</td>\n",
              "      <td>0</td>\n",
              "      <td>5.15</td>\n",
              "      <td>1</td>\n",
              "      <td>0</td>\n",
              "      <td>0</td>\n",
              "      <td>...</td>\n",
              "      <td>0</td>\n",
              "      <td>0</td>\n",
              "      <td>0</td>\n",
              "      <td>0</td>\n",
              "      <td>0</td>\n",
              "      <td>0</td>\n",
              "      <td>0</td>\n",
              "      <td>1</td>\n",
              "      <td>0</td>\n",
              "      <td>83.66</td>\n",
              "    </tr>\n",
              "    <tr>\n",
              "      <th>1</th>\n",
              "      <td>609297109095972864</td>\n",
              "      <td>1</td>\n",
              "      <td>24</td>\n",
              "      <td>14</td>\n",
              "      <td>0</td>\n",
              "      <td>0</td>\n",
              "      <td>6.36</td>\n",
              "      <td>0</td>\n",
              "      <td>0</td>\n",
              "      <td>0</td>\n",
              "      <td>...</td>\n",
              "      <td>0</td>\n",
              "      <td>0</td>\n",
              "      <td>0</td>\n",
              "      <td>0</td>\n",
              "      <td>0</td>\n",
              "      <td>0</td>\n",
              "      <td>0</td>\n",
              "      <td>0</td>\n",
              "      <td>0</td>\n",
              "      <td>65.73</td>\n",
              "    </tr>\n",
              "    <tr>\n",
              "      <th>2</th>\n",
              "      <td>609504474621612032</td>\n",
              "      <td>5</td>\n",
              "      <td>20</td>\n",
              "      <td>12</td>\n",
              "      <td>1</td>\n",
              "      <td>0</td>\n",
              "      <td>6.83</td>\n",
              "      <td>1</td>\n",
              "      <td>0</td>\n",
              "      <td>1</td>\n",
              "      <td>...</td>\n",
              "      <td>0</td>\n",
              "      <td>0</td>\n",
              "      <td>0</td>\n",
              "      <td>0</td>\n",
              "      <td>0</td>\n",
              "      <td>0</td>\n",
              "      <td>0</td>\n",
              "      <td>0</td>\n",
              "      <td>0</td>\n",
              "      <td>59.30</td>\n",
              "    </tr>\n",
              "    <tr>\n",
              "      <th>3</th>\n",
              "      <td>609748367049105409</td>\n",
              "      <td>2</td>\n",
              "      <td>14</td>\n",
              "      <td>11</td>\n",
              "      <td>1</td>\n",
              "      <td>0</td>\n",
              "      <td>5.09</td>\n",
              "      <td>2</td>\n",
              "      <td>0</td>\n",
              "      <td>1</td>\n",
              "      <td>...</td>\n",
              "      <td>0</td>\n",
              "      <td>0</td>\n",
              "      <td>0</td>\n",
              "      <td>0</td>\n",
              "      <td>0</td>\n",
              "      <td>0</td>\n",
              "      <td>0</td>\n",
              "      <td>1</td>\n",
              "      <td>0</td>\n",
              "      <td>85.69</td>\n",
              "    </tr>\n",
              "    <tr>\n",
              "      <th>4</th>\n",
              "      <td>608688782821453825</td>\n",
              "      <td>0</td>\n",
              "      <td>21</td>\n",
              "      <td>16</td>\n",
              "      <td>0</td>\n",
              "      <td>0</td>\n",
              "      <td>5.00</td>\n",
              "      <td>1</td>\n",
              "      <td>0</td>\n",
              "      <td>0</td>\n",
              "      <td>...</td>\n",
              "      <td>0</td>\n",
              "      <td>0</td>\n",
              "      <td>0</td>\n",
              "      <td>0</td>\n",
              "      <td>0</td>\n",
              "      <td>0</td>\n",
              "      <td>0</td>\n",
              "      <td>0</td>\n",
              "      <td>0</td>\n",
              "      <td>88.74</td>\n",
              "    </tr>\n",
              "  </tbody>\n",
              "</table>\n",
              "<p>5 rows × 57 columns</p>\n",
              "</div>\n",
              "      <button class=\"colab-df-convert\" onclick=\"convertToInteractive('df-756adbf1-d881-42a3-b578-b8962503593e')\"\n",
              "              title=\"Convert this dataframe to an interactive table.\"\n",
              "              style=\"display:none;\">\n",
              "        \n",
              "  <svg xmlns=\"http://www.w3.org/2000/svg\" height=\"24px\"viewBox=\"0 0 24 24\"\n",
              "       width=\"24px\">\n",
              "    <path d=\"M0 0h24v24H0V0z\" fill=\"none\"/>\n",
              "    <path d=\"M18.56 5.44l.94 2.06.94-2.06 2.06-.94-2.06-.94-.94-2.06-.94 2.06-2.06.94zm-11 1L8.5 8.5l.94-2.06 2.06-.94-2.06-.94L8.5 2.5l-.94 2.06-2.06.94zm10 10l.94 2.06.94-2.06 2.06-.94-2.06-.94-.94-2.06-.94 2.06-2.06.94z\"/><path d=\"M17.41 7.96l-1.37-1.37c-.4-.4-.92-.59-1.43-.59-.52 0-1.04.2-1.43.59L10.3 9.45l-7.72 7.72c-.78.78-.78 2.05 0 2.83L4 21.41c.39.39.9.59 1.41.59.51 0 1.02-.2 1.41-.59l7.78-7.78 2.81-2.81c.8-.78.8-2.07 0-2.86zM5.41 20L4 18.59l7.72-7.72 1.47 1.35L5.41 20z\"/>\n",
              "  </svg>\n",
              "      </button>\n",
              "      \n",
              "  <style>\n",
              "    .colab-df-container {\n",
              "      display:flex;\n",
              "      flex-wrap:wrap;\n",
              "      gap: 12px;\n",
              "    }\n",
              "\n",
              "    .colab-df-convert {\n",
              "      background-color: #E8F0FE;\n",
              "      border: none;\n",
              "      border-radius: 50%;\n",
              "      cursor: pointer;\n",
              "      display: none;\n",
              "      fill: #1967D2;\n",
              "      height: 32px;\n",
              "      padding: 0 0 0 0;\n",
              "      width: 32px;\n",
              "    }\n",
              "\n",
              "    .colab-df-convert:hover {\n",
              "      background-color: #E2EBFA;\n",
              "      box-shadow: 0px 1px 2px rgba(60, 64, 67, 0.3), 0px 1px 3px 1px rgba(60, 64, 67, 0.15);\n",
              "      fill: #174EA6;\n",
              "    }\n",
              "\n",
              "    [theme=dark] .colab-df-convert {\n",
              "      background-color: #3B4455;\n",
              "      fill: #D2E3FC;\n",
              "    }\n",
              "\n",
              "    [theme=dark] .colab-df-convert:hover {\n",
              "      background-color: #434B5C;\n",
              "      box-shadow: 0px 1px 3px 1px rgba(0, 0, 0, 0.15);\n",
              "      filter: drop-shadow(0px 1px 2px rgba(0, 0, 0, 0.3));\n",
              "      fill: #FFFFFF;\n",
              "    }\n",
              "  </style>\n",
              "\n",
              "      <script>\n",
              "        const buttonEl =\n",
              "          document.querySelector('#df-756adbf1-d881-42a3-b578-b8962503593e button.colab-df-convert');\n",
              "        buttonEl.style.display =\n",
              "          google.colab.kernel.accessAllowed ? 'block' : 'none';\n",
              "\n",
              "        async function convertToInteractive(key) {\n",
              "          const element = document.querySelector('#df-756adbf1-d881-42a3-b578-b8962503593e');\n",
              "          const dataTable =\n",
              "            await google.colab.kernel.invokeFunction('convertToInteractive',\n",
              "                                                     [key], {});\n",
              "          if (!dataTable) return;\n",
              "\n",
              "          const docLinkHtml = 'Like what you see? Visit the ' +\n",
              "            '<a target=\"_blank\" href=https://colab.research.google.com/notebooks/data_table.ipynb>data table notebook</a>'\n",
              "            + ' to learn more about interactive tables.';\n",
              "          element.innerHTML = '';\n",
              "          dataTable['output_type'] = 'display_data';\n",
              "          await google.colab.output.renderOutput(dataTable, element);\n",
              "          const docLink = document.createElement('div');\n",
              "          docLink.innerHTML = docLinkHtml;\n",
              "          element.appendChild(docLink);\n",
              "        }\n",
              "      </script>\n",
              "    </div>\n",
              "  </div>\n",
              "  "
            ]
          },
          "metadata": {},
          "execution_count": 104
        }
      ]
    }
  ]
}