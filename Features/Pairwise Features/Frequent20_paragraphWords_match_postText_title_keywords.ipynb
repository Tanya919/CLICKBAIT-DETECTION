{
  "nbformat": 4,
  "nbformat_minor": 0,
  "metadata": {
    "colab": {
      "provenance": []
    },
    "kernelspec": {
      "name": "python3",
      "display_name": "Python 3"
    },
    "language_info": {
      "name": "python"
    }
  },
  "cells": [
    {
      "cell_type": "code",
      "source": [
        "# Import and download all required package "
      ],
      "metadata": {
        "id": "JUqFcSIDhhog"
      },
      "execution_count": null,
      "outputs": []
    },
    {
      "cell_type": "code",
      "execution_count": null,
      "metadata": {
        "colab": {
          "base_uri": "https://localhost:8080/"
        },
        "id": "URxQo2wi9BSR",
        "outputId": "fc62379b-1820-4efb-b60f-45f6dcd6b424"
      },
      "outputs": [
        {
          "output_type": "stream",
          "name": "stdout",
          "text": [
            "Mounted at /content/drive\n"
          ]
        }
      ],
      "source": [
        "from google.colab import drive\n",
        "drive.mount('/content/drive')"
      ]
    },
    {
      "cell_type": "code",
      "source": [
        "import nltk\n",
        "import pandas as pd \n",
        "from sklearn.feature_extraction.text import CountVectorizer\n",
        "from collections import defaultdict \n",
        "import numpy as np\n",
        "from statistics import variance\n",
        "from sklearn import preprocessing"
      ],
      "metadata": {
        "id": "DXJS03k2Dw58"
      },
      "execution_count": null,
      "outputs": []
    },
    {
      "cell_type": "code",
      "source": [
        "nltk.download('stopwords')"
      ],
      "metadata": {
        "colab": {
          "base_uri": "https://localhost:8080/"
        },
        "id": "xMphpUrGvpga",
        "outputId": "d20fecf5-c237-46fb-fcdc-9073d342c0e2"
      },
      "execution_count": null,
      "outputs": [
        {
          "output_type": "stream",
          "name": "stderr",
          "text": [
            "[nltk_data] Downloading package stopwords to /root/nltk_data...\n",
            "[nltk_data]   Unzipping corpora/stopwords.zip.\n"
          ]
        },
        {
          "output_type": "execute_result",
          "data": {
            "text/plain": [
              "True"
            ]
          },
          "metadata": {},
          "execution_count": 3
        }
      ]
    },
    {
      "cell_type": "code",
      "source": [
        "nltk.download('punkt')"
      ],
      "metadata": {
        "colab": {
          "base_uri": "https://localhost:8080/"
        },
        "id": "uroqZUv9w4Ky",
        "outputId": "2ff1e24a-1e93-43de-a0a4-474a436ab4ac"
      },
      "execution_count": null,
      "outputs": [
        {
          "output_type": "stream",
          "name": "stderr",
          "text": [
            "[nltk_data] Downloading package punkt to /root/nltk_data...\n",
            "[nltk_data]   Unzipping tokenizers/punkt.zip.\n"
          ]
        },
        {
          "output_type": "execute_result",
          "data": {
            "text/plain": [
              "True"
            ]
          },
          "metadata": {},
          "execution_count": 4
        }
      ]
    },
    {
      "cell_type": "code",
      "source": [
        "nltk.download('averaged_perceptron_tagger')"
      ],
      "metadata": {
        "colab": {
          "base_uri": "https://localhost:8080/"
        },
        "id": "lA0Ci1Z_w7Am",
        "outputId": "5644050e-bf0b-485d-991a-c3f02d07b7b0"
      },
      "execution_count": null,
      "outputs": [
        {
          "output_type": "stream",
          "name": "stderr",
          "text": [
            "[nltk_data] Downloading package averaged_perceptron_tagger to\n",
            "[nltk_data]     /root/nltk_data...\n",
            "[nltk_data]   Unzipping taggers/averaged_perceptron_tagger.zip.\n"
          ]
        },
        {
          "output_type": "execute_result",
          "data": {
            "text/plain": [
              "True"
            ]
          },
          "metadata": {},
          "execution_count": 5
        }
      ]
    },
    {
      "cell_type": "code",
      "source": [
        "from nltk.corpus import stopwords\n",
        "from nltk.tokenize import word_tokenize\n",
        "import string"
      ],
      "metadata": {
        "id": "YNlS98ETDw9F"
      },
      "execution_count": null,
      "outputs": []
    },
    {
      "cell_type": "code",
      "source": [
        "# Read the paragraph  "
      ],
      "metadata": {
        "id": "mHZzzk9dhwqU"
      },
      "execution_count": null,
      "outputs": []
    },
    {
      "cell_type": "code",
      "source": [
        "data = pd.read_csv(\"/content/drive/MyDrive/nlp/Clickbit_dataset/clickbait17-validation-170630/feature/csv/para_and_mean_variance.csv\")"
      ],
      "metadata": {
        "id": "4JXZvfjhDw_7"
      },
      "execution_count": null,
      "outputs": []
    },
    {
      "cell_type": "code",
      "source": [
        "data.head()"
      ],
      "metadata": {
        "colab": {
          "base_uri": "https://localhost:8080/",
          "height": 206
        },
        "id": "WDdejeL7176k",
        "outputId": "bd5810ac-3ebb-488d-9201-aa6c574d5952"
      },
      "execution_count": null,
      "outputs": [
        {
          "output_type": "execute_result",
          "data": {
            "text/plain": [
              "   Unnamed: 0                  id  \\\n",
              "0           0  858462320779026433   \n",
              "1           1  858421020331560960   \n",
              "2           2  858368123753435136   \n",
              "3           3  858323428260139008   \n",
              "4           4  858283602626347008   \n",
              "\n",
              "                                           paragraph  postText mean  \\\n",
              "0  Thousands of modern slavery victims havenot co...       0.643028   \n",
              "1  President Donald Trump has appointed thepro-li...       0.259717   \n",
              "2  When theWhite House correspondents’ dinner is ...       0.619952   \n",
              "3  Adorable is probably an understatement. This a...       0.409056   \n",
              "4  One of Tokyo's major subways systems says it s...       0.596689   \n",
              "\n",
              "   postText variance  title mean  title variance  \n",
              "0           0.016918    0.678807        0.020574  \n",
              "1           0.070382    0.428651        0.059395  \n",
              "2           0.026573    0.631976        0.024935  \n",
              "3           0.056876    0.361099        0.105833  \n",
              "4           0.029145    0.596689        0.029145  "
            ],
            "text/html": [
              "\n",
              "  <div id=\"df-207ac1a4-77fd-445d-b04d-28d1ef40db23\">\n",
              "    <div class=\"colab-df-container\">\n",
              "      <div>\n",
              "<style scoped>\n",
              "    .dataframe tbody tr th:only-of-type {\n",
              "        vertical-align: middle;\n",
              "    }\n",
              "\n",
              "    .dataframe tbody tr th {\n",
              "        vertical-align: top;\n",
              "    }\n",
              "\n",
              "    .dataframe thead th {\n",
              "        text-align: right;\n",
              "    }\n",
              "</style>\n",
              "<table border=\"1\" class=\"dataframe\">\n",
              "  <thead>\n",
              "    <tr style=\"text-align: right;\">\n",
              "      <th></th>\n",
              "      <th>Unnamed: 0</th>\n",
              "      <th>id</th>\n",
              "      <th>paragraph</th>\n",
              "      <th>postText mean</th>\n",
              "      <th>postText variance</th>\n",
              "      <th>title mean</th>\n",
              "      <th>title variance</th>\n",
              "    </tr>\n",
              "  </thead>\n",
              "  <tbody>\n",
              "    <tr>\n",
              "      <th>0</th>\n",
              "      <td>0</td>\n",
              "      <td>858462320779026433</td>\n",
              "      <td>Thousands of modern slavery victims havenot co...</td>\n",
              "      <td>0.643028</td>\n",
              "      <td>0.016918</td>\n",
              "      <td>0.678807</td>\n",
              "      <td>0.020574</td>\n",
              "    </tr>\n",
              "    <tr>\n",
              "      <th>1</th>\n",
              "      <td>1</td>\n",
              "      <td>858421020331560960</td>\n",
              "      <td>President Donald Trump has appointed thepro-li...</td>\n",
              "      <td>0.259717</td>\n",
              "      <td>0.070382</td>\n",
              "      <td>0.428651</td>\n",
              "      <td>0.059395</td>\n",
              "    </tr>\n",
              "    <tr>\n",
              "      <th>2</th>\n",
              "      <td>2</td>\n",
              "      <td>858368123753435136</td>\n",
              "      <td>When theWhite House correspondents’ dinner is ...</td>\n",
              "      <td>0.619952</td>\n",
              "      <td>0.026573</td>\n",
              "      <td>0.631976</td>\n",
              "      <td>0.024935</td>\n",
              "    </tr>\n",
              "    <tr>\n",
              "      <th>3</th>\n",
              "      <td>3</td>\n",
              "      <td>858323428260139008</td>\n",
              "      <td>Adorable is probably an understatement. This a...</td>\n",
              "      <td>0.409056</td>\n",
              "      <td>0.056876</td>\n",
              "      <td>0.361099</td>\n",
              "      <td>0.105833</td>\n",
              "    </tr>\n",
              "    <tr>\n",
              "      <th>4</th>\n",
              "      <td>4</td>\n",
              "      <td>858283602626347008</td>\n",
              "      <td>One of Tokyo's major subways systems says it s...</td>\n",
              "      <td>0.596689</td>\n",
              "      <td>0.029145</td>\n",
              "      <td>0.596689</td>\n",
              "      <td>0.029145</td>\n",
              "    </tr>\n",
              "  </tbody>\n",
              "</table>\n",
              "</div>\n",
              "      <button class=\"colab-df-convert\" onclick=\"convertToInteractive('df-207ac1a4-77fd-445d-b04d-28d1ef40db23')\"\n",
              "              title=\"Convert this dataframe to an interactive table.\"\n",
              "              style=\"display:none;\">\n",
              "        \n",
              "  <svg xmlns=\"http://www.w3.org/2000/svg\" height=\"24px\"viewBox=\"0 0 24 24\"\n",
              "       width=\"24px\">\n",
              "    <path d=\"M0 0h24v24H0V0z\" fill=\"none\"/>\n",
              "    <path d=\"M18.56 5.44l.94 2.06.94-2.06 2.06-.94-2.06-.94-.94-2.06-.94 2.06-2.06.94zm-11 1L8.5 8.5l.94-2.06 2.06-.94-2.06-.94L8.5 2.5l-.94 2.06-2.06.94zm10 10l.94 2.06.94-2.06 2.06-.94-2.06-.94-.94-2.06-.94 2.06-2.06.94z\"/><path d=\"M17.41 7.96l-1.37-1.37c-.4-.4-.92-.59-1.43-.59-.52 0-1.04.2-1.43.59L10.3 9.45l-7.72 7.72c-.78.78-.78 2.05 0 2.83L4 21.41c.39.39.9.59 1.41.59.51 0 1.02-.2 1.41-.59l7.78-7.78 2.81-2.81c.8-.78.8-2.07 0-2.86zM5.41 20L4 18.59l7.72-7.72 1.47 1.35L5.41 20z\"/>\n",
              "  </svg>\n",
              "      </button>\n",
              "      \n",
              "  <style>\n",
              "    .colab-df-container {\n",
              "      display:flex;\n",
              "      flex-wrap:wrap;\n",
              "      gap: 12px;\n",
              "    }\n",
              "\n",
              "    .colab-df-convert {\n",
              "      background-color: #E8F0FE;\n",
              "      border: none;\n",
              "      border-radius: 50%;\n",
              "      cursor: pointer;\n",
              "      display: none;\n",
              "      fill: #1967D2;\n",
              "      height: 32px;\n",
              "      padding: 0 0 0 0;\n",
              "      width: 32px;\n",
              "    }\n",
              "\n",
              "    .colab-df-convert:hover {\n",
              "      background-color: #E2EBFA;\n",
              "      box-shadow: 0px 1px 2px rgba(60, 64, 67, 0.3), 0px 1px 3px 1px rgba(60, 64, 67, 0.15);\n",
              "      fill: #174EA6;\n",
              "    }\n",
              "\n",
              "    [theme=dark] .colab-df-convert {\n",
              "      background-color: #3B4455;\n",
              "      fill: #D2E3FC;\n",
              "    }\n",
              "\n",
              "    [theme=dark] .colab-df-convert:hover {\n",
              "      background-color: #434B5C;\n",
              "      box-shadow: 0px 1px 3px 1px rgba(0, 0, 0, 0.15);\n",
              "      filter: drop-shadow(0px 1px 2px rgba(0, 0, 0, 0.3));\n",
              "      fill: #FFFFFF;\n",
              "    }\n",
              "  </style>\n",
              "\n",
              "      <script>\n",
              "        const buttonEl =\n",
              "          document.querySelector('#df-207ac1a4-77fd-445d-b04d-28d1ef40db23 button.colab-df-convert');\n",
              "        buttonEl.style.display =\n",
              "          google.colab.kernel.accessAllowed ? 'block' : 'none';\n",
              "\n",
              "        async function convertToInteractive(key) {\n",
              "          const element = document.querySelector('#df-207ac1a4-77fd-445d-b04d-28d1ef40db23');\n",
              "          const dataTable =\n",
              "            await google.colab.kernel.invokeFunction('convertToInteractive',\n",
              "                                                     [key], {});\n",
              "          if (!dataTable) return;\n",
              "\n",
              "          const docLinkHtml = 'Like what you see? Visit the ' +\n",
              "            '<a target=\"_blank\" href=https://colab.research.google.com/notebooks/data_table.ipynb>data table notebook</a>'\n",
              "            + ' to learn more about interactive tables.';\n",
              "          element.innerHTML = '';\n",
              "          dataTable['output_type'] = 'display_data';\n",
              "          await google.colab.output.renderOutput(dataTable, element);\n",
              "          const docLink = document.createElement('div');\n",
              "          docLink.innerHTML = docLinkHtml;\n",
              "          element.appendChild(docLink);\n",
              "        }\n",
              "      </script>\n",
              "    </div>\n",
              "  </div>\n",
              "  "
            ]
          },
          "metadata": {},
          "execution_count": 85
        }
      ]
    },
    {
      "cell_type": "code",
      "source": [
        "# Read the  post texts and titles "
      ],
      "metadata": {
        "id": "TYlnptGTh9NQ"
      },
      "execution_count": null,
      "outputs": []
    },
    {
      "cell_type": "code",
      "source": [
        "data2 = pd.read_csv(\"/content/drive/MyDrive/nlp/Clickbit_dataset/clickbait17-validation-170630/Dataset/instances.csv\")"
      ],
      "metadata": {
        "id": "rsizxtaM2LWH"
      },
      "execution_count": null,
      "outputs": []
    },
    {
      "cell_type": "code",
      "source": [
        "data2.head()"
      ],
      "metadata": {
        "colab": {
          "base_uri": "https://localhost:8080/",
          "height": 686
        },
        "id": "vTYq1DeM_C8m",
        "outputId": "d08e53c3-6208-43ee-b67d-511ae9663652"
      },
      "execution_count": null,
      "outputs": [
        {
          "output_type": "execute_result",
          "data": {
            "text/plain": [
              "                   id                   postTimestamp  \\\n",
              "0  858462320779026433  Sat Apr 29 23:25:41 +0000 2017   \n",
              "1  858421020331560960  Sat Apr 29 20:41:34 +0000 2017   \n",
              "2  858368123753435136  Sat Apr 29 17:11:23 +0000 2017   \n",
              "3  858323428260139008  Sat Apr 29 14:13:46 +0000 2017   \n",
              "4  858283602626347008  Sat Apr 29 11:35:31 +0000 2017   \n",
              "\n",
              "                                            postText postMedia  \\\n",
              "0  ['UK’s response to modern slavery leaving vict...        []   \n",
              "1                                   ['this is good']        []   \n",
              "2  ['The \"forgotten\" Trump roast: Relive his brut...        []   \n",
              "3           ['Meet the happiest #dog in the world!']        []   \n",
              "4  [\"Tokyo's subway is shut down amid fears over ...        []   \n",
              "\n",
              "                                         targetTitle  \\\n",
              "0  ‘Inexcusable’ failures in UK’s response to mod...   \n",
              "1  Donald Trump Appoints Pro-Life Advocate as Ass...   \n",
              "2  The ‘forgotten’ Trump roast: Relive his brutal...   \n",
              "3  Meet The Happiest Dog In The World, Maru The H...   \n",
              "4  Tokyo's subway is shut down amid fears over an...   \n",
              "\n",
              "                                   targetDescription  \\\n",
              "0  “Inexcusable” failures in the UK’s system for ...   \n",
              "1  President Donald Trump has appointed pro-life ...   \n",
              "2  President Trump won't be at this year's White ...   \n",
              "3  The article is about Maru, a husky dog who has...   \n",
              "4  The temporary suspension, which lasted ten min...   \n",
              "\n",
              "                                      targetKeywords  \\\n",
              "0  modern slavery, Department For Work And Pensio...   \n",
              "1  Americans United for Life, Dr. Charmaine Yoest...   \n",
              "2  trump whcd, whcd, white house correspondents d...   \n",
              "3      Maru, husky, dogs, pandas, furball, instagram   \n",
              "4        Tokyo,subway,shut,fears,North,Korean,attack   \n",
              "\n",
              "                                    targetParagraphs  \\\n",
              "0  ['Thousands of modern slavery victims have\\xa0...   \n",
              "1  ['President Donald Trump has appointed the\\xa0...   \n",
              "2  ['When the\\xa0White House correspondents’ dinn...   \n",
              "3  ['Adorable is probably an understatement. This...   \n",
              "4  [\"One of Tokyo's major subways systems says it...   \n",
              "\n",
              "                                      targetCaptions  \n",
              "0                         ['modern-slavery-rex.jpg']  \n",
              "1  ['In this July 1, 2010 file photo, Dr. Charmai...  \n",
              "2  [\"President Trump will not attend this year's ...  \n",
              "3          ['Maru ', 'Maru', 'Maru', 'Maru', 'Maru']  \n",
              "4  [\"All nine lines of Tokyo's subway system were...  "
            ],
            "text/html": [
              "\n",
              "  <div id=\"df-5f9f40b7-6de1-4c8e-b19e-77460e66517e\">\n",
              "    <div class=\"colab-df-container\">\n",
              "      <div>\n",
              "<style scoped>\n",
              "    .dataframe tbody tr th:only-of-type {\n",
              "        vertical-align: middle;\n",
              "    }\n",
              "\n",
              "    .dataframe tbody tr th {\n",
              "        vertical-align: top;\n",
              "    }\n",
              "\n",
              "    .dataframe thead th {\n",
              "        text-align: right;\n",
              "    }\n",
              "</style>\n",
              "<table border=\"1\" class=\"dataframe\">\n",
              "  <thead>\n",
              "    <tr style=\"text-align: right;\">\n",
              "      <th></th>\n",
              "      <th>id</th>\n",
              "      <th>postTimestamp</th>\n",
              "      <th>postText</th>\n",
              "      <th>postMedia</th>\n",
              "      <th>targetTitle</th>\n",
              "      <th>targetDescription</th>\n",
              "      <th>targetKeywords</th>\n",
              "      <th>targetParagraphs</th>\n",
              "      <th>targetCaptions</th>\n",
              "    </tr>\n",
              "  </thead>\n",
              "  <tbody>\n",
              "    <tr>\n",
              "      <th>0</th>\n",
              "      <td>858462320779026433</td>\n",
              "      <td>Sat Apr 29 23:25:41 +0000 2017</td>\n",
              "      <td>['UK’s response to modern slavery leaving vict...</td>\n",
              "      <td>[]</td>\n",
              "      <td>‘Inexcusable’ failures in UK’s response to mod...</td>\n",
              "      <td>“Inexcusable” failures in the UK’s system for ...</td>\n",
              "      <td>modern slavery, Department For Work And Pensio...</td>\n",
              "      <td>['Thousands of modern slavery victims have\\xa0...</td>\n",
              "      <td>['modern-slavery-rex.jpg']</td>\n",
              "    </tr>\n",
              "    <tr>\n",
              "      <th>1</th>\n",
              "      <td>858421020331560960</td>\n",
              "      <td>Sat Apr 29 20:41:34 +0000 2017</td>\n",
              "      <td>['this is good']</td>\n",
              "      <td>[]</td>\n",
              "      <td>Donald Trump Appoints Pro-Life Advocate as Ass...</td>\n",
              "      <td>President Donald Trump has appointed pro-life ...</td>\n",
              "      <td>Americans United for Life, Dr. Charmaine Yoest...</td>\n",
              "      <td>['President Donald Trump has appointed the\\xa0...</td>\n",
              "      <td>['In this July 1, 2010 file photo, Dr. Charmai...</td>\n",
              "    </tr>\n",
              "    <tr>\n",
              "      <th>2</th>\n",
              "      <td>858368123753435136</td>\n",
              "      <td>Sat Apr 29 17:11:23 +0000 2017</td>\n",
              "      <td>['The \"forgotten\" Trump roast: Relive his brut...</td>\n",
              "      <td>[]</td>\n",
              "      <td>The ‘forgotten’ Trump roast: Relive his brutal...</td>\n",
              "      <td>President Trump won't be at this year's White ...</td>\n",
              "      <td>trump whcd, whcd, white house correspondents d...</td>\n",
              "      <td>['When the\\xa0White House correspondents’ dinn...</td>\n",
              "      <td>[\"President Trump will not attend this year's ...</td>\n",
              "    </tr>\n",
              "    <tr>\n",
              "      <th>3</th>\n",
              "      <td>858323428260139008</td>\n",
              "      <td>Sat Apr 29 14:13:46 +0000 2017</td>\n",
              "      <td>['Meet the happiest #dog in the world!']</td>\n",
              "      <td>[]</td>\n",
              "      <td>Meet The Happiest Dog In The World, Maru The H...</td>\n",
              "      <td>The article is about Maru, a husky dog who has...</td>\n",
              "      <td>Maru, husky, dogs, pandas, furball, instagram</td>\n",
              "      <td>['Adorable is probably an understatement. This...</td>\n",
              "      <td>['Maru ', 'Maru', 'Maru', 'Maru', 'Maru']</td>\n",
              "    </tr>\n",
              "    <tr>\n",
              "      <th>4</th>\n",
              "      <td>858283602626347008</td>\n",
              "      <td>Sat Apr 29 11:35:31 +0000 2017</td>\n",
              "      <td>[\"Tokyo's subway is shut down amid fears over ...</td>\n",
              "      <td>[]</td>\n",
              "      <td>Tokyo's subway is shut down amid fears over an...</td>\n",
              "      <td>The temporary suspension, which lasted ten min...</td>\n",
              "      <td>Tokyo,subway,shut,fears,North,Korean,attack</td>\n",
              "      <td>[\"One of Tokyo's major subways systems says it...</td>\n",
              "      <td>[\"All nine lines of Tokyo's subway system were...</td>\n",
              "    </tr>\n",
              "  </tbody>\n",
              "</table>\n",
              "</div>\n",
              "      <button class=\"colab-df-convert\" onclick=\"convertToInteractive('df-5f9f40b7-6de1-4c8e-b19e-77460e66517e')\"\n",
              "              title=\"Convert this dataframe to an interactive table.\"\n",
              "              style=\"display:none;\">\n",
              "        \n",
              "  <svg xmlns=\"http://www.w3.org/2000/svg\" height=\"24px\"viewBox=\"0 0 24 24\"\n",
              "       width=\"24px\">\n",
              "    <path d=\"M0 0h24v24H0V0z\" fill=\"none\"/>\n",
              "    <path d=\"M18.56 5.44l.94 2.06.94-2.06 2.06-.94-2.06-.94-.94-2.06-.94 2.06-2.06.94zm-11 1L8.5 8.5l.94-2.06 2.06-.94-2.06-.94L8.5 2.5l-.94 2.06-2.06.94zm10 10l.94 2.06.94-2.06 2.06-.94-2.06-.94-.94-2.06-.94 2.06-2.06.94z\"/><path d=\"M17.41 7.96l-1.37-1.37c-.4-.4-.92-.59-1.43-.59-.52 0-1.04.2-1.43.59L10.3 9.45l-7.72 7.72c-.78.78-.78 2.05 0 2.83L4 21.41c.39.39.9.59 1.41.59.51 0 1.02-.2 1.41-.59l7.78-7.78 2.81-2.81c.8-.78.8-2.07 0-2.86zM5.41 20L4 18.59l7.72-7.72 1.47 1.35L5.41 20z\"/>\n",
              "  </svg>\n",
              "      </button>\n",
              "      \n",
              "  <style>\n",
              "    .colab-df-container {\n",
              "      display:flex;\n",
              "      flex-wrap:wrap;\n",
              "      gap: 12px;\n",
              "    }\n",
              "\n",
              "    .colab-df-convert {\n",
              "      background-color: #E8F0FE;\n",
              "      border: none;\n",
              "      border-radius: 50%;\n",
              "      cursor: pointer;\n",
              "      display: none;\n",
              "      fill: #1967D2;\n",
              "      height: 32px;\n",
              "      padding: 0 0 0 0;\n",
              "      width: 32px;\n",
              "    }\n",
              "\n",
              "    .colab-df-convert:hover {\n",
              "      background-color: #E2EBFA;\n",
              "      box-shadow: 0px 1px 2px rgba(60, 64, 67, 0.3), 0px 1px 3px 1px rgba(60, 64, 67, 0.15);\n",
              "      fill: #174EA6;\n",
              "    }\n",
              "\n",
              "    [theme=dark] .colab-df-convert {\n",
              "      background-color: #3B4455;\n",
              "      fill: #D2E3FC;\n",
              "    }\n",
              "\n",
              "    [theme=dark] .colab-df-convert:hover {\n",
              "      background-color: #434B5C;\n",
              "      box-shadow: 0px 1px 3px 1px rgba(0, 0, 0, 0.15);\n",
              "      filter: drop-shadow(0px 1px 2px rgba(0, 0, 0, 0.3));\n",
              "      fill: #FFFFFF;\n",
              "    }\n",
              "  </style>\n",
              "\n",
              "      <script>\n",
              "        const buttonEl =\n",
              "          document.querySelector('#df-5f9f40b7-6de1-4c8e-b19e-77460e66517e button.colab-df-convert');\n",
              "        buttonEl.style.display =\n",
              "          google.colab.kernel.accessAllowed ? 'block' : 'none';\n",
              "\n",
              "        async function convertToInteractive(key) {\n",
              "          const element = document.querySelector('#df-5f9f40b7-6de1-4c8e-b19e-77460e66517e');\n",
              "          const dataTable =\n",
              "            await google.colab.kernel.invokeFunction('convertToInteractive',\n",
              "                                                     [key], {});\n",
              "          if (!dataTable) return;\n",
              "\n",
              "          const docLinkHtml = 'Like what you see? Visit the ' +\n",
              "            '<a target=\"_blank\" href=https://colab.research.google.com/notebooks/data_table.ipynb>data table notebook</a>'\n",
              "            + ' to learn more about interactive tables.';\n",
              "          element.innerHTML = '';\n",
              "          dataTable['output_type'] = 'display_data';\n",
              "          await google.colab.output.renderOutput(dataTable, element);\n",
              "          const docLink = document.createElement('div');\n",
              "          docLink.innerHTML = docLinkHtml;\n",
              "          element.appendChild(docLink);\n",
              "        }\n",
              "      </script>\n",
              "    </div>\n",
              "  </div>\n",
              "  "
            ]
          },
          "metadata": {},
          "execution_count": 87
        }
      ]
    },
    {
      "cell_type": "code",
      "source": [
        "data2[\"postText\"]"
      ],
      "metadata": {
        "colab": {
          "base_uri": "https://localhost:8080/"
        },
        "id": "miXqlE5u2Th7",
        "outputId": "3e6ab1e0-bde1-4b60-8b95-da353885fe94"
      },
      "execution_count": null,
      "outputs": [
        {
          "output_type": "execute_result",
          "data": {
            "text/plain": [
              "0        ['UK’s response to modern slavery leaving vict...\n",
              "1                                         ['this is good']\n",
              "2        ['The \"forgotten\" Trump roast: Relive his brut...\n",
              "3                 ['Meet the happiest #dog in the world!']\n",
              "4        [\"Tokyo's subway is shut down amid fears over ...\n",
              "                               ...                        \n",
              "19533    [\"Brazil soccer team and pilot's final intervi...\n",
              "19534                                   ['😱😱😱😱😱😱😱😱😱😱😱😱😱😱']\n",
              "19535    ['Frenchs Forest high school may have to make ...\n",
              "19536                                   ['Oh Jeff… #bruh']\n",
              "19537    ['Richard Sherman weighs in on Cam Newton’s st...\n",
              "Name: postText, Length: 19538, dtype: object"
            ]
          },
          "metadata": {},
          "execution_count": 88
        }
      ]
    },
    {
      "cell_type": "code",
      "source": [
        "df1= pd.DataFrame()\n",
        "df1[\"id\"] = data2[\"id\"]\n",
        "df1[\"postText\"] = data2.postText\n",
        "df1[\"title\"] = data2[\"targetTitle\"]\n",
        "df1[\"keywords\"] = data2[\"targetKeywords\"]"
      ],
      "metadata": {
        "id": "8XvS5kxU6JxB"
      },
      "execution_count": null,
      "outputs": []
    },
    {
      "cell_type": "code",
      "source": [
        "data.head()"
      ],
      "metadata": {
        "colab": {
          "base_uri": "https://localhost:8080/",
          "height": 206
        },
        "id": "JuKc8mIT_B7n",
        "outputId": "77c59d43-b535-435c-9301-4e47add61aa4"
      },
      "execution_count": null,
      "outputs": [
        {
          "output_type": "execute_result",
          "data": {
            "text/plain": [
              "   Unnamed: 0                  id  \\\n",
              "0           0  858462320779026433   \n",
              "1           1  858421020331560960   \n",
              "2           2  858368123753435136   \n",
              "3           3  858323428260139008   \n",
              "4           4  858283602626347008   \n",
              "\n",
              "                                           paragraph  postText mean  \\\n",
              "0  Thousands of modern slavery victims havenot co...       0.643028   \n",
              "1  President Donald Trump has appointed thepro-li...       0.259717   \n",
              "2  When theWhite House correspondents’ dinner is ...       0.619952   \n",
              "3  Adorable is probably an understatement. This a...       0.409056   \n",
              "4  One of Tokyo's major subways systems says it s...       0.596689   \n",
              "\n",
              "   postText variance  title mean  title variance  \n",
              "0           0.016918    0.678807        0.020574  \n",
              "1           0.070382    0.428651        0.059395  \n",
              "2           0.026573    0.631976        0.024935  \n",
              "3           0.056876    0.361099        0.105833  \n",
              "4           0.029145    0.596689        0.029145  "
            ],
            "text/html": [
              "\n",
              "  <div id=\"df-0b81f995-72c5-40bd-bea5-62c8a6508106\">\n",
              "    <div class=\"colab-df-container\">\n",
              "      <div>\n",
              "<style scoped>\n",
              "    .dataframe tbody tr th:only-of-type {\n",
              "        vertical-align: middle;\n",
              "    }\n",
              "\n",
              "    .dataframe tbody tr th {\n",
              "        vertical-align: top;\n",
              "    }\n",
              "\n",
              "    .dataframe thead th {\n",
              "        text-align: right;\n",
              "    }\n",
              "</style>\n",
              "<table border=\"1\" class=\"dataframe\">\n",
              "  <thead>\n",
              "    <tr style=\"text-align: right;\">\n",
              "      <th></th>\n",
              "      <th>Unnamed: 0</th>\n",
              "      <th>id</th>\n",
              "      <th>paragraph</th>\n",
              "      <th>postText mean</th>\n",
              "      <th>postText variance</th>\n",
              "      <th>title mean</th>\n",
              "      <th>title variance</th>\n",
              "    </tr>\n",
              "  </thead>\n",
              "  <tbody>\n",
              "    <tr>\n",
              "      <th>0</th>\n",
              "      <td>0</td>\n",
              "      <td>858462320779026433</td>\n",
              "      <td>Thousands of modern slavery victims havenot co...</td>\n",
              "      <td>0.643028</td>\n",
              "      <td>0.016918</td>\n",
              "      <td>0.678807</td>\n",
              "      <td>0.020574</td>\n",
              "    </tr>\n",
              "    <tr>\n",
              "      <th>1</th>\n",
              "      <td>1</td>\n",
              "      <td>858421020331560960</td>\n",
              "      <td>President Donald Trump has appointed thepro-li...</td>\n",
              "      <td>0.259717</td>\n",
              "      <td>0.070382</td>\n",
              "      <td>0.428651</td>\n",
              "      <td>0.059395</td>\n",
              "    </tr>\n",
              "    <tr>\n",
              "      <th>2</th>\n",
              "      <td>2</td>\n",
              "      <td>858368123753435136</td>\n",
              "      <td>When theWhite House correspondents’ dinner is ...</td>\n",
              "      <td>0.619952</td>\n",
              "      <td>0.026573</td>\n",
              "      <td>0.631976</td>\n",
              "      <td>0.024935</td>\n",
              "    </tr>\n",
              "    <tr>\n",
              "      <th>3</th>\n",
              "      <td>3</td>\n",
              "      <td>858323428260139008</td>\n",
              "      <td>Adorable is probably an understatement. This a...</td>\n",
              "      <td>0.409056</td>\n",
              "      <td>0.056876</td>\n",
              "      <td>0.361099</td>\n",
              "      <td>0.105833</td>\n",
              "    </tr>\n",
              "    <tr>\n",
              "      <th>4</th>\n",
              "      <td>4</td>\n",
              "      <td>858283602626347008</td>\n",
              "      <td>One of Tokyo's major subways systems says it s...</td>\n",
              "      <td>0.596689</td>\n",
              "      <td>0.029145</td>\n",
              "      <td>0.596689</td>\n",
              "      <td>0.029145</td>\n",
              "    </tr>\n",
              "  </tbody>\n",
              "</table>\n",
              "</div>\n",
              "      <button class=\"colab-df-convert\" onclick=\"convertToInteractive('df-0b81f995-72c5-40bd-bea5-62c8a6508106')\"\n",
              "              title=\"Convert this dataframe to an interactive table.\"\n",
              "              style=\"display:none;\">\n",
              "        \n",
              "  <svg xmlns=\"http://www.w3.org/2000/svg\" height=\"24px\"viewBox=\"0 0 24 24\"\n",
              "       width=\"24px\">\n",
              "    <path d=\"M0 0h24v24H0V0z\" fill=\"none\"/>\n",
              "    <path d=\"M18.56 5.44l.94 2.06.94-2.06 2.06-.94-2.06-.94-.94-2.06-.94 2.06-2.06.94zm-11 1L8.5 8.5l.94-2.06 2.06-.94-2.06-.94L8.5 2.5l-.94 2.06-2.06.94zm10 10l.94 2.06.94-2.06 2.06-.94-2.06-.94-.94-2.06-.94 2.06-2.06.94z\"/><path d=\"M17.41 7.96l-1.37-1.37c-.4-.4-.92-.59-1.43-.59-.52 0-1.04.2-1.43.59L10.3 9.45l-7.72 7.72c-.78.78-.78 2.05 0 2.83L4 21.41c.39.39.9.59 1.41.59.51 0 1.02-.2 1.41-.59l7.78-7.78 2.81-2.81c.8-.78.8-2.07 0-2.86zM5.41 20L4 18.59l7.72-7.72 1.47 1.35L5.41 20z\"/>\n",
              "  </svg>\n",
              "      </button>\n",
              "      \n",
              "  <style>\n",
              "    .colab-df-container {\n",
              "      display:flex;\n",
              "      flex-wrap:wrap;\n",
              "      gap: 12px;\n",
              "    }\n",
              "\n",
              "    .colab-df-convert {\n",
              "      background-color: #E8F0FE;\n",
              "      border: none;\n",
              "      border-radius: 50%;\n",
              "      cursor: pointer;\n",
              "      display: none;\n",
              "      fill: #1967D2;\n",
              "      height: 32px;\n",
              "      padding: 0 0 0 0;\n",
              "      width: 32px;\n",
              "    }\n",
              "\n",
              "    .colab-df-convert:hover {\n",
              "      background-color: #E2EBFA;\n",
              "      box-shadow: 0px 1px 2px rgba(60, 64, 67, 0.3), 0px 1px 3px 1px rgba(60, 64, 67, 0.15);\n",
              "      fill: #174EA6;\n",
              "    }\n",
              "\n",
              "    [theme=dark] .colab-df-convert {\n",
              "      background-color: #3B4455;\n",
              "      fill: #D2E3FC;\n",
              "    }\n",
              "\n",
              "    [theme=dark] .colab-df-convert:hover {\n",
              "      background-color: #434B5C;\n",
              "      box-shadow: 0px 1px 3px 1px rgba(0, 0, 0, 0.15);\n",
              "      filter: drop-shadow(0px 1px 2px rgba(0, 0, 0, 0.3));\n",
              "      fill: #FFFFFF;\n",
              "    }\n",
              "  </style>\n",
              "\n",
              "      <script>\n",
              "        const buttonEl =\n",
              "          document.querySelector('#df-0b81f995-72c5-40bd-bea5-62c8a6508106 button.colab-df-convert');\n",
              "        buttonEl.style.display =\n",
              "          google.colab.kernel.accessAllowed ? 'block' : 'none';\n",
              "\n",
              "        async function convertToInteractive(key) {\n",
              "          const element = document.querySelector('#df-0b81f995-72c5-40bd-bea5-62c8a6508106');\n",
              "          const dataTable =\n",
              "            await google.colab.kernel.invokeFunction('convertToInteractive',\n",
              "                                                     [key], {});\n",
              "          if (!dataTable) return;\n",
              "\n",
              "          const docLinkHtml = 'Like what you see? Visit the ' +\n",
              "            '<a target=\"_blank\" href=https://colab.research.google.com/notebooks/data_table.ipynb>data table notebook</a>'\n",
              "            + ' to learn more about interactive tables.';\n",
              "          element.innerHTML = '';\n",
              "          dataTable['output_type'] = 'display_data';\n",
              "          await google.colab.output.renderOutput(dataTable, element);\n",
              "          const docLink = document.createElement('div');\n",
              "          docLink.innerHTML = docLinkHtml;\n",
              "          element.appendChild(docLink);\n",
              "        }\n",
              "      </script>\n",
              "    </div>\n",
              "  </div>\n",
              "  "
            ]
          },
          "metadata": {},
          "execution_count": 90
        }
      ]
    },
    {
      "cell_type": "code",
      "source": [
        "df2 = pd.DataFrame()\n",
        "df2[\"id\"] = data[\"id\"]\n",
        "df2[\"paragraph\"] = data.paragraph"
      ],
      "metadata": {
        "id": "a9pKodiHDxPc"
      },
      "execution_count": null,
      "outputs": []
    },
    {
      "cell_type": "code",
      "source": [
        "# Merged post texts, title and paragraphs corresponding to id"
      ],
      "metadata": {
        "id": "4NNBF9iJiJEj"
      },
      "execution_count": null,
      "outputs": []
    },
    {
      "cell_type": "code",
      "source": [
        "df = pd.merge(df1,df2, on='id', how = 'inner')"
      ],
      "metadata": {
        "id": "D4KPervBDxR9"
      },
      "execution_count": null,
      "outputs": []
    },
    {
      "cell_type": "code",
      "source": [
        "df.head()"
      ],
      "metadata": {
        "colab": {
          "base_uri": "https://localhost:8080/",
          "height": 337
        },
        "id": "fe9YVmSUDxVY",
        "outputId": "3cb89978-b1ba-4bda-bf5b-c89a886d71f1"
      },
      "execution_count": null,
      "outputs": [
        {
          "output_type": "execute_result",
          "data": {
            "text/plain": [
              "                   id                                           postText  \\\n",
              "0  858462320779026433  ['UK’s response to modern slavery leaving vict...   \n",
              "1  858421020331560960                                   ['this is good']   \n",
              "2  858368123753435136  ['The \"forgotten\" Trump roast: Relive his brut...   \n",
              "3  858323428260139008           ['Meet the happiest #dog in the world!']   \n",
              "4  858283602626347008  [\"Tokyo's subway is shut down amid fears over ...   \n",
              "\n",
              "                                               title  \\\n",
              "0  ‘Inexcusable’ failures in UK’s response to mod...   \n",
              "1  Donald Trump Appoints Pro-Life Advocate as Ass...   \n",
              "2  The ‘forgotten’ Trump roast: Relive his brutal...   \n",
              "3  Meet The Happiest Dog In The World, Maru The H...   \n",
              "4  Tokyo's subway is shut down amid fears over an...   \n",
              "\n",
              "                                            keywords  \\\n",
              "0  modern slavery, Department For Work And Pensio...   \n",
              "1  Americans United for Life, Dr. Charmaine Yoest...   \n",
              "2  trump whcd, whcd, white house correspondents d...   \n",
              "3      Maru, husky, dogs, pandas, furball, instagram   \n",
              "4        Tokyo,subway,shut,fears,North,Korean,attack   \n",
              "\n",
              "                                           paragraph  \n",
              "0  Thousands of modern slavery victims havenot co...  \n",
              "1  President Donald Trump has appointed thepro-li...  \n",
              "2  When theWhite House correspondents’ dinner is ...  \n",
              "3  Adorable is probably an understatement. This a...  \n",
              "4  One of Tokyo's major subways systems says it s...  "
            ],
            "text/html": [
              "\n",
              "  <div id=\"df-ea41187a-55f0-40c3-a10d-04b77274b725\">\n",
              "    <div class=\"colab-df-container\">\n",
              "      <div>\n",
              "<style scoped>\n",
              "    .dataframe tbody tr th:only-of-type {\n",
              "        vertical-align: middle;\n",
              "    }\n",
              "\n",
              "    .dataframe tbody tr th {\n",
              "        vertical-align: top;\n",
              "    }\n",
              "\n",
              "    .dataframe thead th {\n",
              "        text-align: right;\n",
              "    }\n",
              "</style>\n",
              "<table border=\"1\" class=\"dataframe\">\n",
              "  <thead>\n",
              "    <tr style=\"text-align: right;\">\n",
              "      <th></th>\n",
              "      <th>id</th>\n",
              "      <th>postText</th>\n",
              "      <th>title</th>\n",
              "      <th>keywords</th>\n",
              "      <th>paragraph</th>\n",
              "    </tr>\n",
              "  </thead>\n",
              "  <tbody>\n",
              "    <tr>\n",
              "      <th>0</th>\n",
              "      <td>858462320779026433</td>\n",
              "      <td>['UK’s response to modern slavery leaving vict...</td>\n",
              "      <td>‘Inexcusable’ failures in UK’s response to mod...</td>\n",
              "      <td>modern slavery, Department For Work And Pensio...</td>\n",
              "      <td>Thousands of modern slavery victims havenot co...</td>\n",
              "    </tr>\n",
              "    <tr>\n",
              "      <th>1</th>\n",
              "      <td>858421020331560960</td>\n",
              "      <td>['this is good']</td>\n",
              "      <td>Donald Trump Appoints Pro-Life Advocate as Ass...</td>\n",
              "      <td>Americans United for Life, Dr. Charmaine Yoest...</td>\n",
              "      <td>President Donald Trump has appointed thepro-li...</td>\n",
              "    </tr>\n",
              "    <tr>\n",
              "      <th>2</th>\n",
              "      <td>858368123753435136</td>\n",
              "      <td>['The \"forgotten\" Trump roast: Relive his brut...</td>\n",
              "      <td>The ‘forgotten’ Trump roast: Relive his brutal...</td>\n",
              "      <td>trump whcd, whcd, white house correspondents d...</td>\n",
              "      <td>When theWhite House correspondents’ dinner is ...</td>\n",
              "    </tr>\n",
              "    <tr>\n",
              "      <th>3</th>\n",
              "      <td>858323428260139008</td>\n",
              "      <td>['Meet the happiest #dog in the world!']</td>\n",
              "      <td>Meet The Happiest Dog In The World, Maru The H...</td>\n",
              "      <td>Maru, husky, dogs, pandas, furball, instagram</td>\n",
              "      <td>Adorable is probably an understatement. This a...</td>\n",
              "    </tr>\n",
              "    <tr>\n",
              "      <th>4</th>\n",
              "      <td>858283602626347008</td>\n",
              "      <td>[\"Tokyo's subway is shut down amid fears over ...</td>\n",
              "      <td>Tokyo's subway is shut down amid fears over an...</td>\n",
              "      <td>Tokyo,subway,shut,fears,North,Korean,attack</td>\n",
              "      <td>One of Tokyo's major subways systems says it s...</td>\n",
              "    </tr>\n",
              "  </tbody>\n",
              "</table>\n",
              "</div>\n",
              "      <button class=\"colab-df-convert\" onclick=\"convertToInteractive('df-ea41187a-55f0-40c3-a10d-04b77274b725')\"\n",
              "              title=\"Convert this dataframe to an interactive table.\"\n",
              "              style=\"display:none;\">\n",
              "        \n",
              "  <svg xmlns=\"http://www.w3.org/2000/svg\" height=\"24px\"viewBox=\"0 0 24 24\"\n",
              "       width=\"24px\">\n",
              "    <path d=\"M0 0h24v24H0V0z\" fill=\"none\"/>\n",
              "    <path d=\"M18.56 5.44l.94 2.06.94-2.06 2.06-.94-2.06-.94-.94-2.06-.94 2.06-2.06.94zm-11 1L8.5 8.5l.94-2.06 2.06-.94-2.06-.94L8.5 2.5l-.94 2.06-2.06.94zm10 10l.94 2.06.94-2.06 2.06-.94-2.06-.94-.94-2.06-.94 2.06-2.06.94z\"/><path d=\"M17.41 7.96l-1.37-1.37c-.4-.4-.92-.59-1.43-.59-.52 0-1.04.2-1.43.59L10.3 9.45l-7.72 7.72c-.78.78-.78 2.05 0 2.83L4 21.41c.39.39.9.59 1.41.59.51 0 1.02-.2 1.41-.59l7.78-7.78 2.81-2.81c.8-.78.8-2.07 0-2.86zM5.41 20L4 18.59l7.72-7.72 1.47 1.35L5.41 20z\"/>\n",
              "  </svg>\n",
              "      </button>\n",
              "      \n",
              "  <style>\n",
              "    .colab-df-container {\n",
              "      display:flex;\n",
              "      flex-wrap:wrap;\n",
              "      gap: 12px;\n",
              "    }\n",
              "\n",
              "    .colab-df-convert {\n",
              "      background-color: #E8F0FE;\n",
              "      border: none;\n",
              "      border-radius: 50%;\n",
              "      cursor: pointer;\n",
              "      display: none;\n",
              "      fill: #1967D2;\n",
              "      height: 32px;\n",
              "      padding: 0 0 0 0;\n",
              "      width: 32px;\n",
              "    }\n",
              "\n",
              "    .colab-df-convert:hover {\n",
              "      background-color: #E2EBFA;\n",
              "      box-shadow: 0px 1px 2px rgba(60, 64, 67, 0.3), 0px 1px 3px 1px rgba(60, 64, 67, 0.15);\n",
              "      fill: #174EA6;\n",
              "    }\n",
              "\n",
              "    [theme=dark] .colab-df-convert {\n",
              "      background-color: #3B4455;\n",
              "      fill: #D2E3FC;\n",
              "    }\n",
              "\n",
              "    [theme=dark] .colab-df-convert:hover {\n",
              "      background-color: #434B5C;\n",
              "      box-shadow: 0px 1px 3px 1px rgba(0, 0, 0, 0.15);\n",
              "      filter: drop-shadow(0px 1px 2px rgba(0, 0, 0, 0.3));\n",
              "      fill: #FFFFFF;\n",
              "    }\n",
              "  </style>\n",
              "\n",
              "      <script>\n",
              "        const buttonEl =\n",
              "          document.querySelector('#df-ea41187a-55f0-40c3-a10d-04b77274b725 button.colab-df-convert');\n",
              "        buttonEl.style.display =\n",
              "          google.colab.kernel.accessAllowed ? 'block' : 'none';\n",
              "\n",
              "        async function convertToInteractive(key) {\n",
              "          const element = document.querySelector('#df-ea41187a-55f0-40c3-a10d-04b77274b725');\n",
              "          const dataTable =\n",
              "            await google.colab.kernel.invokeFunction('convertToInteractive',\n",
              "                                                     [key], {});\n",
              "          if (!dataTable) return;\n",
              "\n",
              "          const docLinkHtml = 'Like what you see? Visit the ' +\n",
              "            '<a target=\"_blank\" href=https://colab.research.google.com/notebooks/data_table.ipynb>data table notebook</a>'\n",
              "            + ' to learn more about interactive tables.';\n",
              "          element.innerHTML = '';\n",
              "          dataTable['output_type'] = 'display_data';\n",
              "          await google.colab.output.renderOutput(dataTable, element);\n",
              "          const docLink = document.createElement('div');\n",
              "          docLink.innerHTML = docLinkHtml;\n",
              "          element.appendChild(docLink);\n",
              "        }\n",
              "      </script>\n",
              "    </div>\n",
              "  </div>\n",
              "  "
            ]
          },
          "metadata": {},
          "execution_count": 93
        }
      ]
    },
    {
      "cell_type": "code",
      "source": [
        "paragraph = df[\"targetParagraph\"]\n",
        "postText = df[\"postText\"]"
      ],
      "metadata": {
        "id": "qCRp14TeDxYb"
      },
      "execution_count": null,
      "outputs": []
    },
    {
      "cell_type": "code",
      "source": [
        "import string"
      ],
      "metadata": {
        "id": "Bp1ZGNnOHqs7"
      },
      "execution_count": null,
      "outputs": []
    },
    {
      "cell_type": "code",
      "source": [
        "Remove emoji from the dataset"
      ],
      "metadata": {
        "id": "69mo2-8AiZa2"
      },
      "execution_count": null,
      "outputs": []
    },
    {
      "cell_type": "code",
      "source": [
        "import re\n",
        "def remove_emoji(string):\n",
        "    emoji_pattern = re.compile(\"[\"\n",
        "                           u\"\\U0001F600-\\U0001F64F\" # emoticons\n",
        "                           u\"\\U0001F300-\\U0001F5FF\" # symbols & pictographs\n",
        "                           u\"\\U0001F680-\\U0001F6FF\" # transport & map symbols\n",
        "                           u\"\\U0001F1E0-\\U0001F1FF\" # flags (iOS)\n",
        "                           u\"\\U00002702-\\U000027B0\"\n",
        "                           u\"\\U000024C2-\\U0001F251\"\n",
        "                           \"]+\", flags=re.UNICODE)\n",
        "    return emoji_pattern.sub(r'', string)\n",
        "\n",
        "for i in range(len(postText)):\n",
        "  t = remove_emoji(postText[i])\n",
        "  postText[i] = t"
      ],
      "metadata": {
        "colab": {
          "base_uri": "https://localhost:8080/"
        },
        "id": "L48Y_GguAD0n",
        "outputId": "6f3d41ce-ee01-4aab-a9e5-a0a83b161a34"
      },
      "execution_count": null,
      "outputs": [
        {
          "output_type": "stream",
          "name": "stderr",
          "text": [
            "<ipython-input-96-68f1f499f48f>:15: SettingWithCopyWarning: \n",
            "A value is trying to be set on a copy of a slice from a DataFrame\n",
            "\n",
            "See the caveats in the documentation: https://pandas.pydata.org/pandas-docs/stable/user_guide/indexing.html#returning-a-view-versus-a-copy\n",
            "  postText[i] = t\n"
          ]
        }
      ]
    },
    {
      "cell_type": "code",
      "source": [
        "from collections import defaultdict"
      ],
      "metadata": {
        "id": "8L94yha2HTs3"
      },
      "execution_count": null,
      "outputs": []
    },
    {
      "cell_type": "code",
      "source": [
        "import re"
      ],
      "metadata": {
        "id": "uvOw-fYE3YEv"
      },
      "execution_count": null,
      "outputs": []
    },
    {
      "cell_type": "code",
      "source": [
        "stop_words = set(stopwords.words('english'))\n",
        "def word_cnt(s):\n",
        "  d= defaultdict()\n",
        "  # s = s.translate(str.maketrans('', '', string.punctuation))\n",
        "  s = re.sub(r'[^\\w\\s]', '', s)\n",
        "  s = s.lower()\n",
        "  word_tokens = word_tokenize(s)\n",
        "  for w in word_tokens:\n",
        "    if w not in stop_words:\n",
        "      if w not in d:\n",
        "        d[w] = 1\n",
        "      else:\n",
        "        d[w]=d[w]+1\n",
        "  d1 = defaultdict()\n",
        "  for k in d.keys():\n",
        "    if d[k] not in d1.keys():\n",
        "      d1[d[k]] = [k]\n",
        "    else:\n",
        "      d1[d[k]].append(k)\n",
        "  # print(d1)\n",
        "  return d1\n"
      ],
      "metadata": {
        "id": "vTimZG5-ADxC"
      },
      "execution_count": null,
      "outputs": []
    },
    {
      "cell_type": "code",
      "source": [
        "l = []\n",
        "for i in range(len(paragraph)):\n",
        "  if(len(paragraph[i])==0 or len(postText[i])==0 ):\n",
        "    l.append(0)\n",
        "    continue\n",
        "  # d=defaultdict()\n",
        "  d = word_cnt(paragraph[i])\n",
        "  key = d.keys()\n",
        "  l1 = []\n",
        "  sorted_key = sorted(key,reverse = True)\n",
        "  for k in sorted_key:\n",
        "    list1 = d[k]\n",
        "    for item in list1:\n",
        "      l1.append(item)\n",
        "      if(len(l1)==20):\n",
        "        break\n",
        "    if len(l1)==20:\n",
        "      break \n",
        "  l.append(l1) \n",
        "\n"
      ],
      "metadata": {
        "id": "VA0MPl_3ADt7"
      },
      "execution_count": null,
      "outputs": []
    },
    {
      "cell_type": "code",
      "source": [
        "keyword = df1[\"keywords\"]\n",
        "title = df1[\"title\"]"
      ],
      "metadata": {
        "id": "hMZRjZLnCW2M"
      },
      "execution_count": null,
      "outputs": []
    },
    {
      "cell_type": "code",
      "source": [
        "# Match the words of keywords most frequent 20 or less than 20 word of paragraphs"
      ],
      "metadata": {
        "id": "9S2ngSZoirAp"
      },
      "execution_count": null,
      "outputs": []
    },
    {
      "cell_type": "code",
      "source": [
        "def match_keywords_paragraph_word(para_words,key):\n",
        "  list1 =[]\n",
        "  for i in range(len(key)):\n",
        "    if type(key[i])==float  or len(para_words[i])==0 or len(para_words[i][0])==0:\n",
        "      list1.append(0)\n",
        "      continue\n",
        "    key[i] = re.sub(r'[^\\w\\s]', \" \", key[i])\n",
        "    key[i] = key[i].lower()\n",
        "    word_tokens = key[i].split(\" \")\n",
        "    cnt=0\n",
        "    for word in word_tokens:\n",
        "      if word in para_words[i]:\n",
        "        cnt=cnt+1\n",
        "    list1.append(cnt)\n",
        "  return list1"
      ],
      "metadata": {
        "id": "ooZyb6ycAbZz"
      },
      "execution_count": null,
      "outputs": []
    },
    {
      "cell_type": "code",
      "source": [
        "df_new = pd.DataFrame()\n",
        "df_new[\"id\"]=df[\"id\"]\n",
        "df_new[\"freq of word in para\"] = l\n",
        "df_new[\"Match keywords paragraph word\"] = pd.DataFrame(match_keywords_paragraph_word(l,keyword))"
      ],
      "metadata": {
        "id": "F9jhatNDAYgP",
        "colab": {
          "base_uri": "https://localhost:8080/"
        },
        "outputId": "32cc1bdf-ae49-41c3-eefb-d11e595c6bae"
      },
      "execution_count": null,
      "outputs": [
        {
          "output_type": "stream",
          "name": "stderr",
          "text": [
            "<ipython-input-101-f7eec629059c>:7: SettingWithCopyWarning: \n",
            "A value is trying to be set on a copy of a slice from a DataFrame\n",
            "\n",
            "See the caveats in the documentation: https://pandas.pydata.org/pandas-docs/stable/user_guide/indexing.html#returning-a-view-versus-a-copy\n",
            "  key[i] = re.sub(r'[^\\w\\s]', \" \", key[i])\n",
            "<ipython-input-101-f7eec629059c>:8: SettingWithCopyWarning: \n",
            "A value is trying to be set on a copy of a slice from a DataFrame\n",
            "\n",
            "See the caveats in the documentation: https://pandas.pydata.org/pandas-docs/stable/user_guide/indexing.html#returning-a-view-versus-a-copy\n",
            "  key[i] = key[i].lower()\n"
          ]
        }
      ]
    },
    {
      "cell_type": "code",
      "source": [
        "# Match the words of post texts with most frequent 20 or less than 20 word of paragraphs"
      ],
      "metadata": {
        "id": "ssoihqxJjXya"
      },
      "execution_count": null,
      "outputs": []
    },
    {
      "cell_type": "code",
      "source": [
        "def match_heading_paragraph_word(para_words,heading):\n",
        "  list1 =[]\n",
        "  for i in range(len(para_words)):\n",
        "    if type(heading[i])==float or len(heading[i])==0 or len(para_words[i])==0 or len(para_words[i][0])==0:\n",
        "      list1.append(0)\n",
        "      continue\n",
        "    heading[i] = re.sub(r'[^\\w\\s]', ' ', heading[i])\n",
        "    heading[i] = heading[i].lower()\n",
        "    word_tokens = word_tokenize(heading[i])\n",
        "    cnt=0\n",
        "    for word in word_tokens:\n",
        "      if word in para_words[i]:\n",
        "        cnt=cnt+1\n",
        "    list1.append(cnt)\n",
        "  return list1"
      ],
      "metadata": {
        "id": "Y_DAPGo4AYbu"
      },
      "execution_count": null,
      "outputs": []
    },
    {
      "cell_type": "code",
      "source": [
        "# Function call "
      ],
      "metadata": {
        "id": "Ku9qGCDBjs1w"
      },
      "execution_count": null,
      "outputs": []
    },
    {
      "cell_type": "code",
      "source": [
        "df_new[\"match title and paragraph word\"] = pd.DataFrame(match_heading_paragraph_word(l,title))"
      ],
      "metadata": {
        "id": "p-mqAU5YAYWt",
        "colab": {
          "base_uri": "https://localhost:8080/"
        },
        "outputId": "1a5447ab-f011-4bf5-a2d8-b1ecba43c998"
      },
      "execution_count": null,
      "outputs": [
        {
          "output_type": "stream",
          "name": "stderr",
          "text": [
            "<ipython-input-111-b2af8ee86764>:7: SettingWithCopyWarning: \n",
            "A value is trying to be set on a copy of a slice from a DataFrame\n",
            "\n",
            "See the caveats in the documentation: https://pandas.pydata.org/pandas-docs/stable/user_guide/indexing.html#returning-a-view-versus-a-copy\n",
            "  heading[i] = re.sub(r'[^\\w\\s]', ' ', heading[i])\n",
            "<ipython-input-111-b2af8ee86764>:8: SettingWithCopyWarning: \n",
            "A value is trying to be set on a copy of a slice from a DataFrame\n",
            "\n",
            "See the caveats in the documentation: https://pandas.pydata.org/pandas-docs/stable/user_guide/indexing.html#returning-a-view-versus-a-copy\n",
            "  heading[i] = heading[i].lower()\n"
          ]
        }
      ]
    },
    {
      "cell_type": "code",
      "source": [
        "df_new[\"match postText and paragraph word\"] = pd.DataFrame(match_heading_paragraph_word(l,postText))"
      ],
      "metadata": {
        "id": "TDJvD8LIADkv",
        "colab": {
          "base_uri": "https://localhost:8080/"
        },
        "outputId": "8078eade-aa4d-4582-d334-e0155bbe659b"
      },
      "execution_count": null,
      "outputs": [
        {
          "output_type": "stream",
          "name": "stderr",
          "text": [
            "<ipython-input-111-b2af8ee86764>:7: SettingWithCopyWarning: \n",
            "A value is trying to be set on a copy of a slice from a DataFrame\n",
            "\n",
            "See the caveats in the documentation: https://pandas.pydata.org/pandas-docs/stable/user_guide/indexing.html#returning-a-view-versus-a-copy\n",
            "  heading[i] = re.sub(r'[^\\w\\s]', ' ', heading[i])\n",
            "<ipython-input-111-b2af8ee86764>:8: SettingWithCopyWarning: \n",
            "A value is trying to be set on a copy of a slice from a DataFrame\n",
            "\n",
            "See the caveats in the documentation: https://pandas.pydata.org/pandas-docs/stable/user_guide/indexing.html#returning-a-view-versus-a-copy\n",
            "  heading[i] = heading[i].lower()\n"
          ]
        }
      ]
    },
    {
      "cell_type": "code",
      "source": [
        "df_new.head(20)"
      ],
      "metadata": {
        "colab": {
          "base_uri": "https://localhost:8080/",
          "height": 1000
        },
        "id": "VoxYFT7MIF02",
        "outputId": "79b36e73-6b55-4a60-9c82-daff197c94b9"
      },
      "execution_count": null,
      "outputs": [
        {
          "output_type": "execute_result",
          "data": {
            "text/plain": [
              "                    id                               freq of word in para  \\\n",
              "0   858462320779026433  [victims, modern, slavery, support, report, pe...   \n",
              "1   858421020331560960  [president, prolife, yoest, trump, parenthood,...   \n",
              "2   858368123753435136  [trump, said, roast, one, new, york, friars, c...   \n",
              "3   858323428260139008  [part, adorable, husky, maru, also, bio, says,...   \n",
              "4   858283602626347008  [north, missile, said, says, council, security...   \n",
              "5   858224473597779969  [antidoping, laboratory, said, madrid, suspens...   \n",
              "6   858222698367000577  [leeches, leech, said, blood, russian, russia,...   \n",
              "7   858191667739987968  [plate, ad, pakistan, enjoy, dont, good, serio...   \n",
              "8   858153572571197440  [debt, big, bloomberg, mortgages, yip, default...   \n",
              "9   858150052782645249  [abu, sayyaf, philippines, notorious, group, p...   \n",
              "10  858137811039465472  [copies, 1, news, vol, million, comic, spiderm...   \n",
              "11  858070460814184448  [second, nfl, round, pick, first, back, third,...   \n",
              "12  858048368974733312  [said, trump, us, north, korea, president, wan...   \n",
              "13  858033553468252160  [zika, virus, florida, mosquito, outbreak, sai...   \n",
              "14  858025529429065729  [election, tory, campaign, far, ukip, vote, se...   \n",
              "15  857977494275846144  [top, 50, combine, rank, draft, 40, posted, ju...   \n",
              "16  857970008269496320  [tennis, romanian, nastase, konta, match, team...   \n",
              "17  857924202548088832  [training, coast, animals, live, guard, tissue...   \n",
              "18  857902233232527360  [trump, campaign, white, embed, house, nbc, ne...   \n",
              "19  857883874663120898  [execution, said, williams, arkansas, death, e...   \n",
              "\n",
              "    Match keywords paragraph word  match title and paragraph word  \\\n",
              "0                               2                               6   \n",
              "1                              13                               3   \n",
              "2                              10                               7   \n",
              "3                               4                               3   \n",
              "4                               2                               3   \n",
              "5                               0                               4   \n",
              "6                               3                               3   \n",
              "7                               6                               4   \n",
              "8                               1                               3   \n",
              "9                               0                               4   \n",
              "10                              0                               3   \n",
              "11                              3                               3   \n",
              "12                              3                               7   \n",
              "13                              3                               5   \n",
              "14                              3                               1   \n",
              "15                              2                               2   \n",
              "16                              3                               3   \n",
              "17                             15                               5   \n",
              "18                              0                               3   \n",
              "19                              0                               2   \n",
              "\n",
              "    match postText and paragraph word  \n",
              "0                                   5  \n",
              "1                                   0  \n",
              "2                                   7  \n",
              "3                                   0  \n",
              "4                                   3  \n",
              "5                                   3  \n",
              "6                                   3  \n",
              "7                                   6  \n",
              "8                                   1  \n",
              "9                                   4  \n",
              "10                                  3  \n",
              "11                                  1  \n",
              "12                                  4  \n",
              "13                                  6  \n",
              "14                                  1  \n",
              "15                                  2  \n",
              "16                                  3  \n",
              "17                                  5  \n",
              "18                                  6  \n",
              "19                                  2  "
            ],
            "text/html": [
              "\n",
              "  <div id=\"df-1ef1a6c3-c964-45b7-b6ff-9ebb74892ce1\">\n",
              "    <div class=\"colab-df-container\">\n",
              "      <div>\n",
              "<style scoped>\n",
              "    .dataframe tbody tr th:only-of-type {\n",
              "        vertical-align: middle;\n",
              "    }\n",
              "\n",
              "    .dataframe tbody tr th {\n",
              "        vertical-align: top;\n",
              "    }\n",
              "\n",
              "    .dataframe thead th {\n",
              "        text-align: right;\n",
              "    }\n",
              "</style>\n",
              "<table border=\"1\" class=\"dataframe\">\n",
              "  <thead>\n",
              "    <tr style=\"text-align: right;\">\n",
              "      <th></th>\n",
              "      <th>id</th>\n",
              "      <th>freq of word in para</th>\n",
              "      <th>Match keywords paragraph word</th>\n",
              "      <th>match title and paragraph word</th>\n",
              "      <th>match postText and paragraph word</th>\n",
              "    </tr>\n",
              "  </thead>\n",
              "  <tbody>\n",
              "    <tr>\n",
              "      <th>0</th>\n",
              "      <td>858462320779026433</td>\n",
              "      <td>[victims, modern, slavery, support, report, pe...</td>\n",
              "      <td>2</td>\n",
              "      <td>6</td>\n",
              "      <td>5</td>\n",
              "    </tr>\n",
              "    <tr>\n",
              "      <th>1</th>\n",
              "      <td>858421020331560960</td>\n",
              "      <td>[president, prolife, yoest, trump, parenthood,...</td>\n",
              "      <td>13</td>\n",
              "      <td>3</td>\n",
              "      <td>0</td>\n",
              "    </tr>\n",
              "    <tr>\n",
              "      <th>2</th>\n",
              "      <td>858368123753435136</td>\n",
              "      <td>[trump, said, roast, one, new, york, friars, c...</td>\n",
              "      <td>10</td>\n",
              "      <td>7</td>\n",
              "      <td>7</td>\n",
              "    </tr>\n",
              "    <tr>\n",
              "      <th>3</th>\n",
              "      <td>858323428260139008</td>\n",
              "      <td>[part, adorable, husky, maru, also, bio, says,...</td>\n",
              "      <td>4</td>\n",
              "      <td>3</td>\n",
              "      <td>0</td>\n",
              "    </tr>\n",
              "    <tr>\n",
              "      <th>4</th>\n",
              "      <td>858283602626347008</td>\n",
              "      <td>[north, missile, said, says, council, security...</td>\n",
              "      <td>2</td>\n",
              "      <td>3</td>\n",
              "      <td>3</td>\n",
              "    </tr>\n",
              "    <tr>\n",
              "      <th>5</th>\n",
              "      <td>858224473597779969</td>\n",
              "      <td>[antidoping, laboratory, said, madrid, suspens...</td>\n",
              "      <td>0</td>\n",
              "      <td>4</td>\n",
              "      <td>3</td>\n",
              "    </tr>\n",
              "    <tr>\n",
              "      <th>6</th>\n",
              "      <td>858222698367000577</td>\n",
              "      <td>[leeches, leech, said, blood, russian, russia,...</td>\n",
              "      <td>3</td>\n",
              "      <td>3</td>\n",
              "      <td>3</td>\n",
              "    </tr>\n",
              "    <tr>\n",
              "      <th>7</th>\n",
              "      <td>858191667739987968</td>\n",
              "      <td>[plate, ad, pakistan, enjoy, dont, good, serio...</td>\n",
              "      <td>6</td>\n",
              "      <td>4</td>\n",
              "      <td>6</td>\n",
              "    </tr>\n",
              "    <tr>\n",
              "      <th>8</th>\n",
              "      <td>858153572571197440</td>\n",
              "      <td>[debt, big, bloomberg, mortgages, yip, default...</td>\n",
              "      <td>1</td>\n",
              "      <td>3</td>\n",
              "      <td>1</td>\n",
              "    </tr>\n",
              "    <tr>\n",
              "      <th>9</th>\n",
              "      <td>858150052782645249</td>\n",
              "      <td>[abu, sayyaf, philippines, notorious, group, p...</td>\n",
              "      <td>0</td>\n",
              "      <td>4</td>\n",
              "      <td>4</td>\n",
              "    </tr>\n",
              "    <tr>\n",
              "      <th>10</th>\n",
              "      <td>858137811039465472</td>\n",
              "      <td>[copies, 1, news, vol, million, comic, spiderm...</td>\n",
              "      <td>0</td>\n",
              "      <td>3</td>\n",
              "      <td>3</td>\n",
              "    </tr>\n",
              "    <tr>\n",
              "      <th>11</th>\n",
              "      <td>858070460814184448</td>\n",
              "      <td>[second, nfl, round, pick, first, back, third,...</td>\n",
              "      <td>3</td>\n",
              "      <td>3</td>\n",
              "      <td>1</td>\n",
              "    </tr>\n",
              "    <tr>\n",
              "      <th>12</th>\n",
              "      <td>858048368974733312</td>\n",
              "      <td>[said, trump, us, north, korea, president, wan...</td>\n",
              "      <td>3</td>\n",
              "      <td>7</td>\n",
              "      <td>4</td>\n",
              "    </tr>\n",
              "    <tr>\n",
              "      <th>13</th>\n",
              "      <td>858033553468252160</td>\n",
              "      <td>[zika, virus, florida, mosquito, outbreak, sai...</td>\n",
              "      <td>3</td>\n",
              "      <td>5</td>\n",
              "      <td>6</td>\n",
              "    </tr>\n",
              "    <tr>\n",
              "      <th>14</th>\n",
              "      <td>858025529429065729</td>\n",
              "      <td>[election, tory, campaign, far, ukip, vote, se...</td>\n",
              "      <td>3</td>\n",
              "      <td>1</td>\n",
              "      <td>1</td>\n",
              "    </tr>\n",
              "    <tr>\n",
              "      <th>15</th>\n",
              "      <td>857977494275846144</td>\n",
              "      <td>[top, 50, combine, rank, draft, 40, posted, ju...</td>\n",
              "      <td>2</td>\n",
              "      <td>2</td>\n",
              "      <td>2</td>\n",
              "    </tr>\n",
              "    <tr>\n",
              "      <th>16</th>\n",
              "      <td>857970008269496320</td>\n",
              "      <td>[tennis, romanian, nastase, konta, match, team...</td>\n",
              "      <td>3</td>\n",
              "      <td>3</td>\n",
              "      <td>3</td>\n",
              "    </tr>\n",
              "    <tr>\n",
              "      <th>17</th>\n",
              "      <td>857924202548088832</td>\n",
              "      <td>[training, coast, animals, live, guard, tissue...</td>\n",
              "      <td>15</td>\n",
              "      <td>5</td>\n",
              "      <td>5</td>\n",
              "    </tr>\n",
              "    <tr>\n",
              "      <th>18</th>\n",
              "      <td>857902233232527360</td>\n",
              "      <td>[trump, campaign, white, embed, house, nbc, ne...</td>\n",
              "      <td>0</td>\n",
              "      <td>3</td>\n",
              "      <td>6</td>\n",
              "    </tr>\n",
              "    <tr>\n",
              "      <th>19</th>\n",
              "      <td>857883874663120898</td>\n",
              "      <td>[execution, said, williams, arkansas, death, e...</td>\n",
              "      <td>0</td>\n",
              "      <td>2</td>\n",
              "      <td>2</td>\n",
              "    </tr>\n",
              "  </tbody>\n",
              "</table>\n",
              "</div>\n",
              "      <button class=\"colab-df-convert\" onclick=\"convertToInteractive('df-1ef1a6c3-c964-45b7-b6ff-9ebb74892ce1')\"\n",
              "              title=\"Convert this dataframe to an interactive table.\"\n",
              "              style=\"display:none;\">\n",
              "        \n",
              "  <svg xmlns=\"http://www.w3.org/2000/svg\" height=\"24px\"viewBox=\"0 0 24 24\"\n",
              "       width=\"24px\">\n",
              "    <path d=\"M0 0h24v24H0V0z\" fill=\"none\"/>\n",
              "    <path d=\"M18.56 5.44l.94 2.06.94-2.06 2.06-.94-2.06-.94-.94-2.06-.94 2.06-2.06.94zm-11 1L8.5 8.5l.94-2.06 2.06-.94-2.06-.94L8.5 2.5l-.94 2.06-2.06.94zm10 10l.94 2.06.94-2.06 2.06-.94-2.06-.94-.94-2.06-.94 2.06-2.06.94z\"/><path d=\"M17.41 7.96l-1.37-1.37c-.4-.4-.92-.59-1.43-.59-.52 0-1.04.2-1.43.59L10.3 9.45l-7.72 7.72c-.78.78-.78 2.05 0 2.83L4 21.41c.39.39.9.59 1.41.59.51 0 1.02-.2 1.41-.59l7.78-7.78 2.81-2.81c.8-.78.8-2.07 0-2.86zM5.41 20L4 18.59l7.72-7.72 1.47 1.35L5.41 20z\"/>\n",
              "  </svg>\n",
              "      </button>\n",
              "      \n",
              "  <style>\n",
              "    .colab-df-container {\n",
              "      display:flex;\n",
              "      flex-wrap:wrap;\n",
              "      gap: 12px;\n",
              "    }\n",
              "\n",
              "    .colab-df-convert {\n",
              "      background-color: #E8F0FE;\n",
              "      border: none;\n",
              "      border-radius: 50%;\n",
              "      cursor: pointer;\n",
              "      display: none;\n",
              "      fill: #1967D2;\n",
              "      height: 32px;\n",
              "      padding: 0 0 0 0;\n",
              "      width: 32px;\n",
              "    }\n",
              "\n",
              "    .colab-df-convert:hover {\n",
              "      background-color: #E2EBFA;\n",
              "      box-shadow: 0px 1px 2px rgba(60, 64, 67, 0.3), 0px 1px 3px 1px rgba(60, 64, 67, 0.15);\n",
              "      fill: #174EA6;\n",
              "    }\n",
              "\n",
              "    [theme=dark] .colab-df-convert {\n",
              "      background-color: #3B4455;\n",
              "      fill: #D2E3FC;\n",
              "    }\n",
              "\n",
              "    [theme=dark] .colab-df-convert:hover {\n",
              "      background-color: #434B5C;\n",
              "      box-shadow: 0px 1px 3px 1px rgba(0, 0, 0, 0.15);\n",
              "      filter: drop-shadow(0px 1px 2px rgba(0, 0, 0, 0.3));\n",
              "      fill: #FFFFFF;\n",
              "    }\n",
              "  </style>\n",
              "\n",
              "      <script>\n",
              "        const buttonEl =\n",
              "          document.querySelector('#df-1ef1a6c3-c964-45b7-b6ff-9ebb74892ce1 button.colab-df-convert');\n",
              "        buttonEl.style.display =\n",
              "          google.colab.kernel.accessAllowed ? 'block' : 'none';\n",
              "\n",
              "        async function convertToInteractive(key) {\n",
              "          const element = document.querySelector('#df-1ef1a6c3-c964-45b7-b6ff-9ebb74892ce1');\n",
              "          const dataTable =\n",
              "            await google.colab.kernel.invokeFunction('convertToInteractive',\n",
              "                                                     [key], {});\n",
              "          if (!dataTable) return;\n",
              "\n",
              "          const docLinkHtml = 'Like what you see? Visit the ' +\n",
              "            '<a target=\"_blank\" href=https://colab.research.google.com/notebooks/data_table.ipynb>data table notebook</a>'\n",
              "            + ' to learn more about interactive tables.';\n",
              "          element.innerHTML = '';\n",
              "          dataTable['output_type'] = 'display_data';\n",
              "          await google.colab.output.renderOutput(dataTable, element);\n",
              "          const docLink = document.createElement('div');\n",
              "          docLink.innerHTML = docLinkHtml;\n",
              "          element.appendChild(docLink);\n",
              "        }\n",
              "      </script>\n",
              "    </div>\n",
              "  </div>\n",
              "  "
            ]
          },
          "metadata": {},
          "execution_count": 115
        }
      ]
    },
    {
      "cell_type": "code",
      "source": [
        "df_new[\"freq of word in para\"][0]"
      ],
      "metadata": {
        "colab": {
          "base_uri": "https://localhost:8080/"
        },
        "id": "P0DrHCNyIZ84",
        "outputId": "5fd55ce7-c991-4534-f4fe-38b9d8c017a3"
      },
      "execution_count": null,
      "outputs": [
        {
          "output_type": "execute_result",
          "data": {
            "text/plain": [
              "['victims',\n",
              " 'modern',\n",
              " 'slavery',\n",
              " 'support',\n",
              " 'report',\n",
              " 'period',\n",
              " 'really',\n",
              " 'victim',\n",
              " 'government',\n",
              " 'come',\n",
              " 'go',\n",
              " 'committee',\n",
              " 'years',\n",
              " 'leave',\n",
              " 'nrm',\n",
              " 'human',\n",
              " 'said',\n",
              " 'person',\n",
              " 'response',\n",
              " 'result']"
            ]
          },
          "metadata": {},
          "execution_count": 117
        }
      ]
    },
    {
      "cell_type": "code",
      "source": [
        "df[\"postText\"][0]"
      ],
      "metadata": {
        "colab": {
          "base_uri": "https://localhost:8080/",
          "height": 36
        },
        "id": "zAIfhTjAIo_4",
        "outputId": "afa08e66-50e3-4c2c-a96c-b93ae91e9782"
      },
      "execution_count": null,
      "outputs": [
        {
          "output_type": "execute_result",
          "data": {
            "text/plain": [
              "'  uk s response to modern slavery leaving victims destitute while abusers go free  '"
            ],
            "application/vnd.google.colaboratory.intrinsic+json": {
              "type": "string"
            }
          },
          "metadata": {},
          "execution_count": 120
        }
      ]
    },
    {
      "cell_type": "code",
      "source": [
        "# Save the existing features "
      ],
      "metadata": {
        "id": "aYHJtJQ3jylM"
      },
      "execution_count": null,
      "outputs": []
    },
    {
      "cell_type": "code",
      "source": [
        "df_new.to_csv(\"/content/drive/MyDrive/nlp/Clickbit_dataset/clickbait17-validation-170630/feature/csv/common_count_sentiment.csv\",index=False)"
      ],
      "metadata": {
        "id": "B05jyO8kJjbO"
      },
      "execution_count": null,
      "outputs": []
    },
    {
      "cell_type": "code",
      "source": [],
      "metadata": {
        "id": "X78X2Vs6j-NP"
      },
      "execution_count": null,
      "outputs": []
    }
  ]
}